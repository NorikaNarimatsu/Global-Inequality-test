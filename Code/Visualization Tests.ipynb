{
 "cells": [
  {
   "cell_type": "code",
   "execution_count": 1,
   "metadata": {},
   "outputs": [],
   "source": [
    "import plotly.express as px\n",
    "import pandas as pd\n",
    "import matplotlib.pyplot as plt\n",
    "import numpy as np"
   ]
  },
  {
   "cell_type": "code",
   "execution_count": null,
   "metadata": {},
   "outputs": [],
   "source": []
  },
  {
   "cell_type": "code",
   "execution_count": 129,
   "metadata": {},
   "outputs": [],
   "source": [
    "df_raw = pd.read_csv(\"https://github.com/berdikhanova/DS4SG-Global-Inequality/blob/Assignment/Data/Final/indicators.csv?raw=true\")\n",
    "df = df_raw[df_raw[\"Indicator Name\"] == \"GDP per capita (current US$)\"]\n",
    "df = df.groupby(\"Country Name\").apply(lambda x: x[x[\"Date\"] == x[\"Date\"].max()]).reset_index(drop=True)\n",
    "info_df = pd.read_csv(\"/Users/feliphlvo/Documents/Minerva/2022 Fall/Tutorial/DS4SG-Global-Inequality/Data/Final/countries.csv\")\n",
    "# merge \n",
    "df = df.merge(info_df, left_on=\"Country Code\", right_on=\"iso_alpha\", how = \"inner\")\n",
    "\n",
    "# Select only countries based on their alpha-3 code\n",
    "\n",
    "\n",
    "# List of country codes\n"
   ]
  },
  {
   "cell_type": "code",
   "execution_count": 131,
   "metadata": {},
   "outputs": [],
   "source": [
    "# Highest gdp per capita\n",
    "df = df.sort_values(\"value\", ascending=False)\n",
    "highest = df.head(1)['value'].values[0]\n",
    "# Cumulative sum of gdp per capita\n",
    "df = df.sort_values(\"value\", ascending=True)\n",
    "df['cumsum'] = df['value'].cumsum()\n",
    "\n",
    "lowest_df = df[df['cumsum']< highest]\n",
    "lowest_df['Highest'] = \"Monaco\""
   ]
  },
  {
   "cell_type": "code",
   "execution_count": 136,
   "metadata": {},
   "outputs": [
    {
     "data": {
      "application/vnd.plotly.v1+json": {
       "config": {
        "plotlyServerURL": "https://plot.ly"
       },
       "data": [
        {
         "branchvalues": "total",
         "customdata": [
          [
           "Asia"
          ],
          [
           "Africa"
          ],
          [
           "Africa"
          ],
          [
           "Asia"
          ],
          [
           "Africa"
          ],
          [
           "Asia"
          ],
          [
           "Africa"
          ],
          [
           "Africa"
          ],
          [
           "Oceania"
          ],
          [
           "Africa"
          ],
          [
           "Asia"
          ],
          [
           "Africa"
          ],
          [
           "Asia"
          ],
          [
           "North America"
          ],
          [
           "Asia"
          ],
          [
           "Africa"
          ],
          [
           "Africa"
          ],
          [
           "Asia"
          ],
          [
           "Africa"
          ],
          [
           "Africa"
          ],
          [
           "Africa"
          ],
          [
           "Oceania"
          ],
          [
           "Africa"
          ],
          [
           "Africa"
          ],
          [
           "Africa"
          ],
          [
           "Africa"
          ],
          [
           "Africa"
          ],
          [
           "Africa"
          ],
          [
           "Asia"
          ],
          [
           "North America"
          ],
          [
           "Africa"
          ],
          [
           "South America"
          ],
          [
           "Africa"
          ],
          [
           "Africa"
          ],
          [
           "Africa"
          ],
          [
           "Asia"
          ],
          [
           "Africa"
          ],
          [
           "Africa"
          ],
          [
           "Africa"
          ],
          [
           "Africa"
          ],
          [
           "Africa"
          ],
          [
           "Africa"
          ],
          [
           "Africa"
          ],
          [
           "North America"
          ],
          [
           "Africa"
          ],
          [
           "Africa"
          ],
          [
           "Asia"
          ],
          [
           "Asia"
          ],
          [
           "North America"
          ],
          [
           "Africa"
          ],
          [
           "Asia"
          ],
          [
           "Africa"
          ],
          [
           "North America"
          ],
          [
           "Asia"
          ],
          [
           "Asia"
          ],
          [
           "Asia"
          ],
          [
           "Asia"
          ],
          [
           "Asia"
          ],
          [
           "Africa"
          ],
          [
           "Africa"
          ],
          [
           "Asia"
          ],
          [
           "Asia"
          ],
          [
           "Africa"
          ],
          [
           "Africa"
          ],
          [
           "Africa"
          ],
          [
           "Africa"
          ],
          [
           "Asia"
          ],
          [
           "Asia"
          ],
          [
           "Oceania"
          ],
          [
           "Africa"
          ],
          [
           "Asia"
          ],
          [
           "Africa"
          ],
          [
           "Africa"
          ],
          [
           "Oceania"
          ],
          [
           "Africa"
          ],
          [
           "Oceania"
          ],
          [
           "Asia"
          ],
          [
           "Africa"
          ],
          [
           "Asia"
          ],
          [
           "Africa"
          ],
          [
           "Africa"
          ],
          [
           "Oceania"
          ],
          [
           "Oceania"
          ],
          [
           "(?)"
          ]
         ],
         "domain": {
          "x": [
           0,
           1
          ],
          "y": [
           0,
           1
          ]
         },
         "hovertemplate": "%{label}<br>%{value}",
         "ids": [
          "Monaco/Afghanistan",
          "Monaco/Guinea",
          "Monaco/Guinea-Bissau",
          "Monaco/Iran, Islamic Rep.",
          "Monaco/Kenya",
          "Monaco/Lebanon",
          "Monaco/Lesotho",
          "Monaco/Madagascar",
          "Monaco/Marshall Islands",
          "Monaco/Mauritania",
          "Monaco/Mongolia",
          "Monaco/Morocco",
          "Monaco/Nepal",
          "Monaco/Nicaragua",
          "Monaco/Pakistan",
          "Monaco/Sierra Leone",
          "Monaco/Somalia",
          "Monaco/Sri Lanka",
          "Monaco/Tanzania",
          "Monaco/Togo",
          "Monaco/Tunisia",
          "Monaco/Vanuatu",
          "Monaco/Ghana",
          "Monaco/Gambia, The",
          "Monaco/Liberia",
          "Monaco/Eswatini",
          "Monaco/Algeria",
          "Monaco/Angola",
          "Monaco/Bangladesh",
          "Monaco/Belize",
          "Monaco/Benin",
          "Monaco/Bolivia",
          "Monaco/Burkina Faso",
          "Monaco/Ethiopia",
          "Monaco/Cabo Verde",
          "Monaco/Cambodia",
          "Monaco/Central African Republic",
          "Monaco/Chad",
          "Monaco/Comoros",
          "Monaco/Congo, Dem. Rep.",
          "Monaco/Burundi",
          "Monaco/Cote d'Ivoire",
          "Monaco/Eritrea",
          "Monaco/El Salvador",
          "Monaco/Egypt, Arab Rep.",
          "Monaco/Congo, Rep.",
          "Monaco/India",
          "Monaco/Bhutan",
          "Monaco/Honduras",
          "Monaco/Sudan",
          "Monaco/Syrian Arab Republic",
          "Monaco/Sao Tome and Principe",
          "Monaco/Haiti",
          "Monaco/Timor-Leste",
          "Monaco/Vietnam",
          "Monaco/West Bank and Gaza",
          "Monaco/Tajikistan",
          "Monaco/Philippines",
          "Monaco/Zimbabwe",
          "Monaco/Mozambique",
          "Monaco/Indonesia",
          "Monaco/Lao PDR",
          "Monaco/Nigeria",
          "Monaco/Niger",
          "Monaco/Mali",
          "Monaco/Djibouti",
          "Monaco/Jordan",
          "Monaco/Kyrgyz Republic",
          "Monaco/Papua New Guinea",
          "Monaco/Cameroon",
          "Monaco/Yemen, Rep.",
          "Monaco/Malawi",
          "Monaco/Rwanda",
          "Monaco/Micronesia, Fed. Sts.",
          "Monaco/Zambia",
          "Monaco/Kiribati",
          "Monaco/Myanmar",
          "Monaco/Uganda",
          "Monaco/Uzbekistan",
          "Monaco/South Sudan",
          "Monaco/Senegal",
          "Monaco/Samoa",
          "Monaco/Solomon Islands",
          "Monaco"
         ],
         "labels": [
          "Afghanistan",
          "Guinea",
          "Guinea-Bissau",
          "Iran, Islamic Rep.",
          "Kenya",
          "Lebanon",
          "Lesotho",
          "Madagascar",
          "Marshall Islands",
          "Mauritania",
          "Mongolia",
          "Morocco",
          "Nepal",
          "Nicaragua",
          "Pakistan",
          "Sierra Leone",
          "Somalia",
          "Sri Lanka",
          "Tanzania",
          "Togo",
          "Tunisia",
          "Vanuatu",
          "Ghana",
          "Gambia, The",
          "Liberia",
          "Eswatini",
          "Algeria",
          "Angola",
          "Bangladesh",
          "Belize",
          "Benin",
          "Bolivia",
          "Burkina Faso",
          "Ethiopia",
          "Cabo Verde",
          "Cambodia",
          "Central African Republic",
          "Chad",
          "Comoros",
          "Congo, Dem. Rep.",
          "Burundi",
          "Cote d'Ivoire",
          "Eritrea",
          "El Salvador",
          "Egypt, Arab Rep.",
          "Congo, Rep.",
          "India",
          "Bhutan",
          "Honduras",
          "Sudan",
          "Syrian Arab Republic",
          "Sao Tome and Principe",
          "Haiti",
          "Timor-Leste",
          "Vietnam",
          "West Bank and Gaza",
          "Tajikistan",
          "Philippines",
          "Zimbabwe",
          "Mozambique",
          "Indonesia",
          "Lao PDR",
          "Nigeria",
          "Niger",
          "Mali",
          "Djibouti",
          "Jordan",
          "Kyrgyz Republic",
          "Papua New Guinea",
          "Cameroon",
          "Yemen, Rep.",
          "Malawi",
          "Rwanda",
          "Micronesia, Fed. Sts.",
          "Zambia",
          "Kiribati",
          "Myanmar",
          "Uganda",
          "Uzbekistan",
          "South Sudan",
          "Senegal",
          "Samoa",
          "Solomon Islands",
          "Monaco"
         ],
         "marker": {
          "colors": [
           "red",
           "brown",
           "brown",
           "red",
           "brown",
           "red",
           "brown",
           "brown",
           "purple",
           "brown",
           "red",
           "brown",
           "red",
           "#19d3f3",
           "red",
           "brown",
           "brown",
           "red",
           "brown",
           "brown",
           "brown",
           "purple",
           "brown",
           "brown",
           "brown",
           "brown",
           "brown",
           "brown",
           "red",
           "#19d3f3",
           "brown",
           "#FF6692",
           "brown",
           "brown",
           "brown",
           "red",
           "brown",
           "brown",
           "brown",
           "brown",
           "brown",
           "brown",
           "brown",
           "#19d3f3",
           "brown",
           "brown",
           "red",
           "red",
           "#19d3f3",
           "brown",
           "red",
           "brown",
           "#19d3f3",
           "red",
           "red",
           "red",
           "red",
           "red",
           "brown",
           "brown",
           "red",
           "red",
           "brown",
           "brown",
           "brown",
           "brown",
           "red",
           "red",
           "purple",
           "brown",
           "red",
           "brown",
           "brown",
           "purple",
           "brown",
           "purple",
           "red",
           "brown",
           "red",
           "brown",
           "brown",
           "purple",
           "purple",
           "#B6E880"
          ]
         },
         "name": "",
         "parents": [
          "Monaco",
          "Monaco",
          "Monaco",
          "Monaco",
          "Monaco",
          "Monaco",
          "Monaco",
          "Monaco",
          "Monaco",
          "Monaco",
          "Monaco",
          "Monaco",
          "Monaco",
          "Monaco",
          "Monaco",
          "Monaco",
          "Monaco",
          "Monaco",
          "Monaco",
          "Monaco",
          "Monaco",
          "Monaco",
          "Monaco",
          "Monaco",
          "Monaco",
          "Monaco",
          "Monaco",
          "Monaco",
          "Monaco",
          "Monaco",
          "Monaco",
          "Monaco",
          "Monaco",
          "Monaco",
          "Monaco",
          "Monaco",
          "Monaco",
          "Monaco",
          "Monaco",
          "Monaco",
          "Monaco",
          "Monaco",
          "Monaco",
          "Monaco",
          "Monaco",
          "Monaco",
          "Monaco",
          "Monaco",
          "Monaco",
          "Monaco",
          "Monaco",
          "Monaco",
          "Monaco",
          "Monaco",
          "Monaco",
          "Monaco",
          "Monaco",
          "Monaco",
          "Monaco",
          "Monaco",
          "Monaco",
          "Monaco",
          "Monaco",
          "Monaco",
          "Monaco",
          "Monaco",
          "Monaco",
          "Monaco",
          "Monaco",
          "Monaco",
          "Monaco",
          "Monaco",
          "Monaco",
          "Monaco",
          "Monaco",
          "Monaco",
          "Monaco",
          "Monaco",
          "Monaco",
          "Monaco",
          "Monaco",
          "Monaco",
          "Monaco",
          ""
         ],
         "type": "treemap",
         "values": [
          516.747870807558,
          1174.35297194486,
          812.962373003605,
          2756.74997687567,
          2006.8322400859,
          2670.44195648525,
          1166.46166656205,
          514.905861752454,
          4170.98191821262,
          1723.01386575365,
          4534.91858863581,
          3496.75830078125,
          1222.87879372246,
          2090.75346113141,
          1537.93641065523,
          515.932091834125,
          445.779016473609,
          3814.71521902039,
          1135.53967285156,
          992.328429362491,
          3924.34392482058,
          3127.44624774101,
          2445.29074932761,
          835.594421389388,
          673.089067079932,
          4214.86168781553,
          3765.03462494702,
          2137.90939339084,
          2503.04388008424,
          4420.4913723374,
          1428.44717671325,
          3414.89284856087,
          918.15258192146,
          943.965684225205,
          3445.75653621,
          1590.95665957308,
          511.484745592238,
          696.422775532126,
          1494.68769339899,
          584.106409215842,
          236.795414165095,
          2578.76041204832,
          642.508258796603,
          4408.52036511467,
          3876.35959373349,
          2213.88086288172,
          2277.43434674354,
          3000.77798595652,
          2831.03302075308,
          764.341003417969,
          1265.60619039693,
          2449.33344243627,
          1814.67404841047,
          1457.82512795863,
          3694.01904621852,
          3663.96905468875,
          897.087901986119,
          3548.82832258057,
          1737.17397698043,
          500.444808525879,
          4291.81255449121,
          2551.32608148502,
          2085.03076477936,
          594.925108871258,
          917.913063250557,
          3363.71204814366,
          4405.8394238352,
          1276.24264327528,
          2916.35734883159,
          1661.70210527032,
          690.759273019397,
          642.656915782777,
          833.829875672994,
          3476.6508946194,
          1120.63017052477,
          1514.59105909467,
          1187.23848416853,
          858.05751272836,
          1983.06472288992,
          1119.65143716565,
          1606.47206087311,
          3939.1136961541,
          2336.96813417731,
          169610.88772872646
         ]
        }
       ],
       "layout": {
        "legend": {
         "tracegroupgap": 0
        },
        "margin": {
         "b": 25,
         "l": 25,
         "r": 25,
         "t": 50
        },
        "template": {
         "data": {
          "bar": [
           {
            "error_x": {
             "color": "#2a3f5f"
            },
            "error_y": {
             "color": "#2a3f5f"
            },
            "marker": {
             "line": {
              "color": "#E5ECF6",
              "width": 0.5
             },
             "pattern": {
              "fillmode": "overlay",
              "size": 10,
              "solidity": 0.2
             }
            },
            "type": "bar"
           }
          ],
          "barpolar": [
           {
            "marker": {
             "line": {
              "color": "#E5ECF6",
              "width": 0.5
             },
             "pattern": {
              "fillmode": "overlay",
              "size": 10,
              "solidity": 0.2
             }
            },
            "type": "barpolar"
           }
          ],
          "carpet": [
           {
            "aaxis": {
             "endlinecolor": "#2a3f5f",
             "gridcolor": "white",
             "linecolor": "white",
             "minorgridcolor": "white",
             "startlinecolor": "#2a3f5f"
            },
            "baxis": {
             "endlinecolor": "#2a3f5f",
             "gridcolor": "white",
             "linecolor": "white",
             "minorgridcolor": "white",
             "startlinecolor": "#2a3f5f"
            },
            "type": "carpet"
           }
          ],
          "choropleth": [
           {
            "colorbar": {
             "outlinewidth": 0,
             "ticks": ""
            },
            "type": "choropleth"
           }
          ],
          "contour": [
           {
            "colorbar": {
             "outlinewidth": 0,
             "ticks": ""
            },
            "colorscale": [
             [
              0,
              "#0d0887"
             ],
             [
              0.1111111111111111,
              "#46039f"
             ],
             [
              0.2222222222222222,
              "#7201a8"
             ],
             [
              0.3333333333333333,
              "#9c179e"
             ],
             [
              0.4444444444444444,
              "#bd3786"
             ],
             [
              0.5555555555555556,
              "#d8576b"
             ],
             [
              0.6666666666666666,
              "#ed7953"
             ],
             [
              0.7777777777777778,
              "#fb9f3a"
             ],
             [
              0.8888888888888888,
              "#fdca26"
             ],
             [
              1,
              "#f0f921"
             ]
            ],
            "type": "contour"
           }
          ],
          "contourcarpet": [
           {
            "colorbar": {
             "outlinewidth": 0,
             "ticks": ""
            },
            "type": "contourcarpet"
           }
          ],
          "heatmap": [
           {
            "colorbar": {
             "outlinewidth": 0,
             "ticks": ""
            },
            "colorscale": [
             [
              0,
              "#0d0887"
             ],
             [
              0.1111111111111111,
              "#46039f"
             ],
             [
              0.2222222222222222,
              "#7201a8"
             ],
             [
              0.3333333333333333,
              "#9c179e"
             ],
             [
              0.4444444444444444,
              "#bd3786"
             ],
             [
              0.5555555555555556,
              "#d8576b"
             ],
             [
              0.6666666666666666,
              "#ed7953"
             ],
             [
              0.7777777777777778,
              "#fb9f3a"
             ],
             [
              0.8888888888888888,
              "#fdca26"
             ],
             [
              1,
              "#f0f921"
             ]
            ],
            "type": "heatmap"
           }
          ],
          "heatmapgl": [
           {
            "colorbar": {
             "outlinewidth": 0,
             "ticks": ""
            },
            "colorscale": [
             [
              0,
              "#0d0887"
             ],
             [
              0.1111111111111111,
              "#46039f"
             ],
             [
              0.2222222222222222,
              "#7201a8"
             ],
             [
              0.3333333333333333,
              "#9c179e"
             ],
             [
              0.4444444444444444,
              "#bd3786"
             ],
             [
              0.5555555555555556,
              "#d8576b"
             ],
             [
              0.6666666666666666,
              "#ed7953"
             ],
             [
              0.7777777777777778,
              "#fb9f3a"
             ],
             [
              0.8888888888888888,
              "#fdca26"
             ],
             [
              1,
              "#f0f921"
             ]
            ],
            "type": "heatmapgl"
           }
          ],
          "histogram": [
           {
            "marker": {
             "pattern": {
              "fillmode": "overlay",
              "size": 10,
              "solidity": 0.2
             }
            },
            "type": "histogram"
           }
          ],
          "histogram2d": [
           {
            "colorbar": {
             "outlinewidth": 0,
             "ticks": ""
            },
            "colorscale": [
             [
              0,
              "#0d0887"
             ],
             [
              0.1111111111111111,
              "#46039f"
             ],
             [
              0.2222222222222222,
              "#7201a8"
             ],
             [
              0.3333333333333333,
              "#9c179e"
             ],
             [
              0.4444444444444444,
              "#bd3786"
             ],
             [
              0.5555555555555556,
              "#d8576b"
             ],
             [
              0.6666666666666666,
              "#ed7953"
             ],
             [
              0.7777777777777778,
              "#fb9f3a"
             ],
             [
              0.8888888888888888,
              "#fdca26"
             ],
             [
              1,
              "#f0f921"
             ]
            ],
            "type": "histogram2d"
           }
          ],
          "histogram2dcontour": [
           {
            "colorbar": {
             "outlinewidth": 0,
             "ticks": ""
            },
            "colorscale": [
             [
              0,
              "#0d0887"
             ],
             [
              0.1111111111111111,
              "#46039f"
             ],
             [
              0.2222222222222222,
              "#7201a8"
             ],
             [
              0.3333333333333333,
              "#9c179e"
             ],
             [
              0.4444444444444444,
              "#bd3786"
             ],
             [
              0.5555555555555556,
              "#d8576b"
             ],
             [
              0.6666666666666666,
              "#ed7953"
             ],
             [
              0.7777777777777778,
              "#fb9f3a"
             ],
             [
              0.8888888888888888,
              "#fdca26"
             ],
             [
              1,
              "#f0f921"
             ]
            ],
            "type": "histogram2dcontour"
           }
          ],
          "mesh3d": [
           {
            "colorbar": {
             "outlinewidth": 0,
             "ticks": ""
            },
            "type": "mesh3d"
           }
          ],
          "parcoords": [
           {
            "line": {
             "colorbar": {
              "outlinewidth": 0,
              "ticks": ""
             }
            },
            "type": "parcoords"
           }
          ],
          "pie": [
           {
            "automargin": true,
            "type": "pie"
           }
          ],
          "scatter": [
           {
            "marker": {
             "colorbar": {
              "outlinewidth": 0,
              "ticks": ""
             }
            },
            "type": "scatter"
           }
          ],
          "scatter3d": [
           {
            "line": {
             "colorbar": {
              "outlinewidth": 0,
              "ticks": ""
             }
            },
            "marker": {
             "colorbar": {
              "outlinewidth": 0,
              "ticks": ""
             }
            },
            "type": "scatter3d"
           }
          ],
          "scattercarpet": [
           {
            "marker": {
             "colorbar": {
              "outlinewidth": 0,
              "ticks": ""
             }
            },
            "type": "scattercarpet"
           }
          ],
          "scattergeo": [
           {
            "marker": {
             "colorbar": {
              "outlinewidth": 0,
              "ticks": ""
             }
            },
            "type": "scattergeo"
           }
          ],
          "scattergl": [
           {
            "marker": {
             "colorbar": {
              "outlinewidth": 0,
              "ticks": ""
             }
            },
            "type": "scattergl"
           }
          ],
          "scattermapbox": [
           {
            "marker": {
             "colorbar": {
              "outlinewidth": 0,
              "ticks": ""
             }
            },
            "type": "scattermapbox"
           }
          ],
          "scatterpolar": [
           {
            "marker": {
             "colorbar": {
              "outlinewidth": 0,
              "ticks": ""
             }
            },
            "type": "scatterpolar"
           }
          ],
          "scatterpolargl": [
           {
            "marker": {
             "colorbar": {
              "outlinewidth": 0,
              "ticks": ""
             }
            },
            "type": "scatterpolargl"
           }
          ],
          "scatterternary": [
           {
            "marker": {
             "colorbar": {
              "outlinewidth": 0,
              "ticks": ""
             }
            },
            "type": "scatterternary"
           }
          ],
          "surface": [
           {
            "colorbar": {
             "outlinewidth": 0,
             "ticks": ""
            },
            "colorscale": [
             [
              0,
              "#0d0887"
             ],
             [
              0.1111111111111111,
              "#46039f"
             ],
             [
              0.2222222222222222,
              "#7201a8"
             ],
             [
              0.3333333333333333,
              "#9c179e"
             ],
             [
              0.4444444444444444,
              "#bd3786"
             ],
             [
              0.5555555555555556,
              "#d8576b"
             ],
             [
              0.6666666666666666,
              "#ed7953"
             ],
             [
              0.7777777777777778,
              "#fb9f3a"
             ],
             [
              0.8888888888888888,
              "#fdca26"
             ],
             [
              1,
              "#f0f921"
             ]
            ],
            "type": "surface"
           }
          ],
          "table": [
           {
            "cells": {
             "fill": {
              "color": "#EBF0F8"
             },
             "line": {
              "color": "white"
             }
            },
            "header": {
             "fill": {
              "color": "#C8D4E3"
             },
             "line": {
              "color": "white"
             }
            },
            "type": "table"
           }
          ]
         },
         "layout": {
          "annotationdefaults": {
           "arrowcolor": "#2a3f5f",
           "arrowhead": 0,
           "arrowwidth": 1
          },
          "autotypenumbers": "strict",
          "coloraxis": {
           "colorbar": {
            "outlinewidth": 0,
            "ticks": ""
           }
          },
          "colorscale": {
           "diverging": [
            [
             0,
             "#8e0152"
            ],
            [
             0.1,
             "#c51b7d"
            ],
            [
             0.2,
             "#de77ae"
            ],
            [
             0.3,
             "#f1b6da"
            ],
            [
             0.4,
             "#fde0ef"
            ],
            [
             0.5,
             "#f7f7f7"
            ],
            [
             0.6,
             "#e6f5d0"
            ],
            [
             0.7,
             "#b8e186"
            ],
            [
             0.8,
             "#7fbc41"
            ],
            [
             0.9,
             "#4d9221"
            ],
            [
             1,
             "#276419"
            ]
           ],
           "sequential": [
            [
             0,
             "#0d0887"
            ],
            [
             0.1111111111111111,
             "#46039f"
            ],
            [
             0.2222222222222222,
             "#7201a8"
            ],
            [
             0.3333333333333333,
             "#9c179e"
            ],
            [
             0.4444444444444444,
             "#bd3786"
            ],
            [
             0.5555555555555556,
             "#d8576b"
            ],
            [
             0.6666666666666666,
             "#ed7953"
            ],
            [
             0.7777777777777778,
             "#fb9f3a"
            ],
            [
             0.8888888888888888,
             "#fdca26"
            ],
            [
             1,
             "#f0f921"
            ]
           ],
           "sequentialminus": [
            [
             0,
             "#0d0887"
            ],
            [
             0.1111111111111111,
             "#46039f"
            ],
            [
             0.2222222222222222,
             "#7201a8"
            ],
            [
             0.3333333333333333,
             "#9c179e"
            ],
            [
             0.4444444444444444,
             "#bd3786"
            ],
            [
             0.5555555555555556,
             "#d8576b"
            ],
            [
             0.6666666666666666,
             "#ed7953"
            ],
            [
             0.7777777777777778,
             "#fb9f3a"
            ],
            [
             0.8888888888888888,
             "#fdca26"
            ],
            [
             1,
             "#f0f921"
            ]
           ]
          },
          "colorway": [
           "#636efa",
           "#EF553B",
           "#00cc96",
           "#ab63fa",
           "#FFA15A",
           "#19d3f3",
           "#FF6692",
           "#B6E880",
           "#FF97FF",
           "#FECB52"
          ],
          "font": {
           "color": "#2a3f5f"
          },
          "geo": {
           "bgcolor": "white",
           "lakecolor": "white",
           "landcolor": "#E5ECF6",
           "showlakes": true,
           "showland": true,
           "subunitcolor": "white"
          },
          "hoverlabel": {
           "align": "left"
          },
          "hovermode": "closest",
          "mapbox": {
           "style": "light"
          },
          "paper_bgcolor": "white",
          "plot_bgcolor": "#E5ECF6",
          "polar": {
           "angularaxis": {
            "gridcolor": "white",
            "linecolor": "white",
            "ticks": ""
           },
           "bgcolor": "#E5ECF6",
           "radialaxis": {
            "gridcolor": "white",
            "linecolor": "white",
            "ticks": ""
           }
          },
          "scene": {
           "xaxis": {
            "backgroundcolor": "#E5ECF6",
            "gridcolor": "white",
            "gridwidth": 2,
            "linecolor": "white",
            "showbackground": true,
            "ticks": "",
            "zerolinecolor": "white"
           },
           "yaxis": {
            "backgroundcolor": "#E5ECF6",
            "gridcolor": "white",
            "gridwidth": 2,
            "linecolor": "white",
            "showbackground": true,
            "ticks": "",
            "zerolinecolor": "white"
           },
           "zaxis": {
            "backgroundcolor": "#E5ECF6",
            "gridcolor": "white",
            "gridwidth": 2,
            "linecolor": "white",
            "showbackground": true,
            "ticks": "",
            "zerolinecolor": "white"
           }
          },
          "shapedefaults": {
           "line": {
            "color": "#2a3f5f"
           }
          },
          "ternary": {
           "aaxis": {
            "gridcolor": "white",
            "linecolor": "white",
            "ticks": ""
           },
           "baxis": {
            "gridcolor": "white",
            "linecolor": "white",
            "ticks": ""
           },
           "bgcolor": "#E5ECF6",
           "caxis": {
            "gridcolor": "white",
            "linecolor": "white",
            "ticks": ""
           }
          },
          "title": {
           "x": 0.05
          },
          "xaxis": {
           "automargin": true,
           "gridcolor": "white",
           "linecolor": "white",
           "ticks": "",
           "title": {
            "standoff": 15
           },
           "zerolinecolor": "white",
           "zerolinewidth": 2
          },
          "yaxis": {
           "automargin": true,
           "gridcolor": "white",
           "linecolor": "white",
           "ticks": "",
           "title": {
            "standoff": 15
           },
           "zerolinecolor": "white",
           "zerolinewidth": 2
          }
         }
        }
       }
      }
     },
     "metadata": {},
     "output_type": "display_data"
    }
   ],
   "source": [
    "fig = px.treemap(lowest_df, path=['Highest', 'Country Name'], values='value',\n",
    "                  color='continent', \n",
    "                  color_discrete_map={'Europe':'blue', 'Americas':'green', 'Asia':'red', 'Africa':'brown', 'Oceania':'purple'},\n",
    "                  #hover_data={'continent':False, 'country':False, 'pop':True, 'lifeExp':True, 'gdpPercap':True, 'year':False, 'Highest':False, 'value':True, 'cumsum':False},\n",
    "                  #color_continuous_scale='RdBu',\n",
    "                  #color_continuous_midpoint=np.average(lowest_df['lifeExp'], weights=lowest_df['pop'])\n",
    ")\n",
    "fig.update_layout(margin = dict(t=50, l=25, r=25, b=25))\n",
    "fig.data[0].hovertemplate = '%{label}<br>%{value}'\n",
    "fig.show()"
   ]
  },
  {
   "cell_type": "code",
   "execution_count": 3,
   "metadata": {},
   "outputs": [
    {
     "data": {
      "text/html": [
       "<div>\n",
       "<style scoped>\n",
       "    .dataframe tbody tr th:only-of-type {\n",
       "        vertical-align: middle;\n",
       "    }\n",
       "\n",
       "    .dataframe tbody tr th {\n",
       "        vertical-align: top;\n",
       "    }\n",
       "\n",
       "    .dataframe thead th {\n",
       "        text-align: right;\n",
       "    }\n",
       "</style>\n",
       "<table border=\"1\" class=\"dataframe\">\n",
       "  <thead>\n",
       "    <tr style=\"text-align: right;\">\n",
       "      <th></th>\n",
       "      <th>country</th>\n",
       "      <th>continent</th>\n",
       "      <th>year</th>\n",
       "      <th>lifeExp</th>\n",
       "      <th>pop</th>\n",
       "      <th>gdpPercap</th>\n",
       "      <th>iso_alpha</th>\n",
       "      <th>iso_num</th>\n",
       "    </tr>\n",
       "  </thead>\n",
       "  <tbody>\n",
       "    <tr>\n",
       "      <th>11</th>\n",
       "      <td>Afghanistan</td>\n",
       "      <td>Asia</td>\n",
       "      <td>2007</td>\n",
       "      <td>43.828</td>\n",
       "      <td>31889923</td>\n",
       "      <td>974.580338</td>\n",
       "      <td>AFG</td>\n",
       "      <td>4</td>\n",
       "    </tr>\n",
       "    <tr>\n",
       "      <th>23</th>\n",
       "      <td>Albania</td>\n",
       "      <td>Europe</td>\n",
       "      <td>2007</td>\n",
       "      <td>76.423</td>\n",
       "      <td>3600523</td>\n",
       "      <td>5937.029526</td>\n",
       "      <td>ALB</td>\n",
       "      <td>8</td>\n",
       "    </tr>\n",
       "    <tr>\n",
       "      <th>35</th>\n",
       "      <td>Algeria</td>\n",
       "      <td>Africa</td>\n",
       "      <td>2007</td>\n",
       "      <td>72.301</td>\n",
       "      <td>33333216</td>\n",
       "      <td>6223.367465</td>\n",
       "      <td>DZA</td>\n",
       "      <td>12</td>\n",
       "    </tr>\n",
       "    <tr>\n",
       "      <th>47</th>\n",
       "      <td>Angola</td>\n",
       "      <td>Africa</td>\n",
       "      <td>2007</td>\n",
       "      <td>42.731</td>\n",
       "      <td>12420476</td>\n",
       "      <td>4797.231267</td>\n",
       "      <td>AGO</td>\n",
       "      <td>24</td>\n",
       "    </tr>\n",
       "    <tr>\n",
       "      <th>59</th>\n",
       "      <td>Argentina</td>\n",
       "      <td>Americas</td>\n",
       "      <td>2007</td>\n",
       "      <td>75.320</td>\n",
       "      <td>40301927</td>\n",
       "      <td>12779.379640</td>\n",
       "      <td>ARG</td>\n",
       "      <td>32</td>\n",
       "    </tr>\n",
       "  </tbody>\n",
       "</table>\n",
       "</div>"
      ],
      "text/plain": [
       "        country continent  year  lifeExp       pop     gdpPercap iso_alpha  \\\n",
       "11  Afghanistan      Asia  2007   43.828  31889923    974.580338       AFG   \n",
       "23      Albania    Europe  2007   76.423   3600523   5937.029526       ALB   \n",
       "35      Algeria    Africa  2007   72.301  33333216   6223.367465       DZA   \n",
       "47       Angola    Africa  2007   42.731  12420476   4797.231267       AGO   \n",
       "59    Argentina  Americas  2007   75.320  40301927  12779.379640       ARG   \n",
       "\n",
       "    iso_num  \n",
       "11        4  \n",
       "23        8  \n",
       "35       12  \n",
       "47       24  \n",
       "59       32  "
      ]
     },
     "execution_count": 3,
     "metadata": {},
     "output_type": "execute_result"
    }
   ],
   "source": [
    "df.head()"
   ]
  },
  {
   "cell_type": "code",
   "execution_count": null,
   "metadata": {},
   "outputs": [],
   "source": []
  }
 ],
 "metadata": {
  "kernelspec": {
   "display_name": "Python 3.9.12 ('base')",
   "language": "python",
   "name": "python3"
  },
  "language_info": {
   "codemirror_mode": {
    "name": "ipython",
    "version": 3
   },
   "file_extension": ".py",
   "mimetype": "text/x-python",
   "name": "python",
   "nbconvert_exporter": "python",
   "pygments_lexer": "ipython3",
   "version": "3.9.12"
  },
  "orig_nbformat": 4,
  "vscode": {
   "interpreter": {
    "hash": "8485bf4bb2d61086dc172b0aacfd790f29127f517be6ea87039a95cde055dcdd"
   }
  }
 },
 "nbformat": 4,
 "nbformat_minor": 2
}
