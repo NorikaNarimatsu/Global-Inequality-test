{
 "cells": [
  {
   "cell_type": "code",
   "execution_count": 1,
   "metadata": {},
   "outputs": [],
   "source": [
    "import plotly.express as px\n",
    "import pandas as pd\n",
    "import matplotlib.pyplot as plt\n",
    "import numpy as np"
   ]
  },
  {
   "cell_type": "code",
   "execution_count": null,
   "metadata": {},
   "outputs": [],
   "source": []
  },
  {
   "cell_type": "code",
   "execution_count": 14,
   "metadata": {},
   "outputs": [],
   "source": [
    "df_raw = pd.read_csv(\"https://raw.githubusercontent.com/berdikhanova/DS4SG-Global-Inequality/final_assignment/Data/Final/indicators.csv\")\n",
    "\n",
    "df = df_raw[df_raw[\"Indicator Code\"] == \"NY.GNP.PCAP.PP.CD\"]\n",
    "df = df.groupby(\"Country Name\").apply(lambda x: x[x[\"Date\"] == x[\"Date\"].max()]).reset_index(drop=True)\n",
    "info_df = pd.read_csv(\"https://raw.githubusercontent.com/berdikhanova/DS4SG-Global-Inequality/final_assignment/Data/Final/countries.csv\")\n",
    "# merge \n",
    "df = df.merge(info_df, left_on=\"Country Code\", right_on=\"iso_alpha\", how = \"inner\")\n",
    "\n",
    "# Select only countries based on their alpha-3 code\n",
    "\n",
    "\n",
    "# List of country codes\n"
   ]
  },
  {
   "cell_type": "code",
   "execution_count": 15,
   "metadata": {},
   "outputs": [
    {
     "data": {
      "text/plain": [
       "array(['EN.ATM.CO2E.LF.KT', 'NY.GDP.PCAP.CD', 'SP.DYN.LE00.FE.IN',\n",
       "       'SP.DYN.LE00.MA.IN', 'SP.DYN.LE00.IN', 'SP.POP.TOTL',\n",
       "       'EG.USE.COMM.CL.ZS', 'EG.ELC.COAL.ZS', 'SH.MED.PHYS.ZS',\n",
       "       'AG.CON.FERT.ZS', 'SI.DST.10TH.10', 'SI.DST.FRST.10',\n",
       "       'SE.TER.ENRR', 'SL.UEM.NEET.ZS', 'AG.LND.FRST.K2',\n",
       "       'NY.GNP.PCAP.PP.CD', 'SL.TLF.TOTL.FE.ZS', 'SL.UEM.TOTL.FE.ZS',\n",
       "       'SE.SEC.TCAQ.ZS', 'SH.XPD.OOPC.CH.ZS', 'SH.STA.SUIC.FE.P5',\n",
       "       'SH.STA.SUIC.MA.P5', 'SH.STA.SMSS.ZS', 'SP.REG.BRTH.ZS'],\n",
       "      dtype=object)"
      ]
     },
     "execution_count": 15,
     "metadata": {},
     "output_type": "execute_result"
    }
   ],
   "source": [
    "# Unique indicator names\n",
    "df_raw[\"Indicator Code\"].unique()\n"
   ]
  },
  {
   "cell_type": "code",
   "execution_count": 19,
   "metadata": {},
   "outputs": [
    {
     "data": {
      "text/html": [
       "<div>\n",
       "<style scoped>\n",
       "    .dataframe tbody tr th:only-of-type {\n",
       "        vertical-align: middle;\n",
       "    }\n",
       "\n",
       "    .dataframe tbody tr th {\n",
       "        vertical-align: top;\n",
       "    }\n",
       "\n",
       "    .dataframe thead th {\n",
       "        text-align: right;\n",
       "    }\n",
       "</style>\n",
       "<table border=\"1\" class=\"dataframe\">\n",
       "  <thead>\n",
       "    <tr style=\"text-align: right;\">\n",
       "      <th></th>\n",
       "      <th>Country Name</th>\n",
       "      <th>Country Code</th>\n",
       "      <th>Indicator Code</th>\n",
       "      <th>Indicator Name</th>\n",
       "      <th>Date</th>\n",
       "      <th>value</th>\n",
       "      <th>continent</th>\n",
       "    </tr>\n",
       "  </thead>\n",
       "  <tbody>\n",
       "    <tr>\n",
       "      <th>0</th>\n",
       "      <td>Africa Eastern and Southern</td>\n",
       "      <td>AFE</td>\n",
       "      <td>EN.ATM.CO2E.LF.KT</td>\n",
       "      <td>CO2 emissions from liquid fuel consumption (kt)</td>\n",
       "      <td>1960</td>\n",
       "      <td>19042.535180</td>\n",
       "      <td>NaN</td>\n",
       "    </tr>\n",
       "    <tr>\n",
       "      <th>1</th>\n",
       "      <td>Africa Eastern and Southern</td>\n",
       "      <td>AFE</td>\n",
       "      <td>NY.GDP.PCAP.CD</td>\n",
       "      <td>GDP per capita (current US$)</td>\n",
       "      <td>1960</td>\n",
       "      <td>162.726325</td>\n",
       "      <td>NaN</td>\n",
       "    </tr>\n",
       "    <tr>\n",
       "      <th>2</th>\n",
       "      <td>Africa Eastern and Southern</td>\n",
       "      <td>AFE</td>\n",
       "      <td>SP.DYN.LE00.FE.IN</td>\n",
       "      <td>Life expectancy at birth, female (years)</td>\n",
       "      <td>1960</td>\n",
       "      <td>44.300571</td>\n",
       "      <td>NaN</td>\n",
       "    </tr>\n",
       "    <tr>\n",
       "      <th>3</th>\n",
       "      <td>Africa Eastern and Southern</td>\n",
       "      <td>AFE</td>\n",
       "      <td>SP.DYN.LE00.MA.IN</td>\n",
       "      <td>Life expectancy at birth, male (years)</td>\n",
       "      <td>1960</td>\n",
       "      <td>41.177958</td>\n",
       "      <td>NaN</td>\n",
       "    </tr>\n",
       "    <tr>\n",
       "      <th>4</th>\n",
       "      <td>Africa Eastern and Southern</td>\n",
       "      <td>AFE</td>\n",
       "      <td>SP.DYN.LE00.IN</td>\n",
       "      <td>Life expectancy at birth, total (years)</td>\n",
       "      <td>1960</td>\n",
       "      <td>42.716053</td>\n",
       "      <td>NaN</td>\n",
       "    </tr>\n",
       "  </tbody>\n",
       "</table>\n",
       "</div>"
      ],
      "text/plain": [
       "                  Country Name Country Code     Indicator Code  \\\n",
       "0  Africa Eastern and Southern          AFE  EN.ATM.CO2E.LF.KT   \n",
       "1  Africa Eastern and Southern          AFE     NY.GDP.PCAP.CD   \n",
       "2  Africa Eastern and Southern          AFE  SP.DYN.LE00.FE.IN   \n",
       "3  Africa Eastern and Southern          AFE  SP.DYN.LE00.MA.IN   \n",
       "4  Africa Eastern and Southern          AFE     SP.DYN.LE00.IN   \n",
       "\n",
       "                                    Indicator Name  Date         value  \\\n",
       "0  CO2 emissions from liquid fuel consumption (kt)  1960  19042.535180   \n",
       "1                     GDP per capita (current US$)  1960    162.726325   \n",
       "2         Life expectancy at birth, female (years)  1960     44.300571   \n",
       "3           Life expectancy at birth, male (years)  1960     41.177958   \n",
       "4          Life expectancy at birth, total (years)  1960     42.716053   \n",
       "\n",
       "  continent  \n",
       "0       NaN  \n",
       "1       NaN  \n",
       "2       NaN  \n",
       "3       NaN  \n",
       "4       NaN  "
      ]
     },
     "execution_count": 19,
     "metadata": {},
     "output_type": "execute_result"
    }
   ],
   "source": [
    "df.head()"
   ]
  },
  {
   "cell_type": "code",
   "execution_count": 23,
   "metadata": {},
   "outputs": [
    {
     "name": "stderr",
     "output_type": "stream",
     "text": [
      "<ipython-input-23-a1e5f716790b>:16: SettingWithCopyWarning:\n",
      "\n",
      "\n",
      "A value is trying to be set on a copy of a slice from a DataFrame.\n",
      "Try using .loc[row_indexer,col_indexer] = value instead\n",
      "\n",
      "See the caveats in the documentation: https://pandas.pydata.org/pandas-docs/stable/user_guide/indexing.html#returning-a-view-versus-a-copy\n",
      "\n"
     ]
    }
   ],
   "source": [
    "df = pd.read_csv(\"https://raw.githubusercontent.com/berdikhanova/DS4SG-Global-Inequality/final_assignment/Data/Final/indicators.csv\")\n",
    "new_df = df[df[\"Indicator Code\"] == \"NY.GNP.PCAP.PP.CD\"]\n",
    "info_df = pd.read_csv(\"https://raw.githubusercontent.com/berdikhanova/DS4SG-Global-Inequality/final_assignment/Data/Final/countries.csv\")\n",
    "# merge \n",
    "new_df = new_df.merge(info_df, left_on=\"Country Code\", right_on=\"iso_alpha\", how = \"inner\")\n",
    "new_df = new_df.groupby(\"Country Name\").apply(lambda x: x[x[\"Date\"] == x[\"Date\"].max()]).reset_index(drop=True)\n",
    "\n",
    "# Highest gdp per capita\n",
    "new_df = new_df.sort_values(\"value\", ascending=False)\n",
    "highest = new_df.head(1)['value'].values[0]\n",
    "# Cumulative sum of gdp per capita\n",
    "new_df = new_df.sort_values(\"value\", ascending=True)\n",
    "new_df['cumsum'] = new_df['value'].cumsum()\n",
    "\n",
    "lowest_df = new_df[new_df['cumsum']< highest]\n",
    "lowest_df['Highest'] = \"Singapore\""
   ]
  },
  {
   "cell_type": "code",
   "execution_count": 25,
   "metadata": {},
   "outputs": [
    {
     "data": {
      "text/plain": [
       "102450.0"
      ]
     },
     "execution_count": 25,
     "metadata": {},
     "output_type": "execute_result"
    }
   ],
   "source": [
    "highest"
   ]
  },
  {
   "cell_type": "code",
   "execution_count": 22,
   "metadata": {},
   "outputs": [
    {
     "data": {
      "text/html": [
       "<div>\n",
       "<style scoped>\n",
       "    .dataframe tbody tr th:only-of-type {\n",
       "        vertical-align: middle;\n",
       "    }\n",
       "\n",
       "    .dataframe tbody tr th {\n",
       "        vertical-align: top;\n",
       "    }\n",
       "\n",
       "    .dataframe thead th {\n",
       "        text-align: right;\n",
       "    }\n",
       "</style>\n",
       "<table border=\"1\" class=\"dataframe\">\n",
       "  <thead>\n",
       "    <tr style=\"text-align: right;\">\n",
       "      <th></th>\n",
       "      <th>Country Name</th>\n",
       "      <th>Country Code</th>\n",
       "      <th>Indicator Code</th>\n",
       "      <th>Indicator Name</th>\n",
       "      <th>Date</th>\n",
       "      <th>value</th>\n",
       "      <th>continent_x</th>\n",
       "      <th>country</th>\n",
       "      <th>iso_alpha</th>\n",
       "      <th>continent_y</th>\n",
       "      <th>cumsum</th>\n",
       "    </tr>\n",
       "  </thead>\n",
       "  <tbody>\n",
       "    <tr>\n",
       "      <th>28</th>\n",
       "      <td>Burundi</td>\n",
       "      <td>BDI</td>\n",
       "      <td>NY.GNP.PCAP.PP.CD</td>\n",
       "      <td>GNI per capita, PPP (current international $)</td>\n",
       "      <td>2021</td>\n",
       "      <td>800.0</td>\n",
       "      <td>Africa</td>\n",
       "      <td>Burundi</td>\n",
       "      <td>BDI</td>\n",
       "      <td>Africa</td>\n",
       "      <td>800.0</td>\n",
       "    </tr>\n",
       "    <tr>\n",
       "      <th>160</th>\n",
       "      <td>South Sudan</td>\n",
       "      <td>SSD</td>\n",
       "      <td>NY.GNP.PCAP.PP.CD</td>\n",
       "      <td>GNI per capita, PPP (current international $)</td>\n",
       "      <td>2015</td>\n",
       "      <td>1080.0</td>\n",
       "      <td>Africa</td>\n",
       "      <td>South Sudan</td>\n",
       "      <td>SSD</td>\n",
       "      <td>Africa</td>\n",
       "      <td>1880.0</td>\n",
       "    </tr>\n",
       "    <tr>\n",
       "      <th>34</th>\n",
       "      <td>Central African Republic</td>\n",
       "      <td>CAF</td>\n",
       "      <td>NY.GNP.PCAP.PP.CD</td>\n",
       "      <td>GNI per capita, PPP (current international $)</td>\n",
       "      <td>2021</td>\n",
       "      <td>1090.0</td>\n",
       "      <td>Africa</td>\n",
       "      <td>Central African Republic</td>\n",
       "      <td>CAF</td>\n",
       "      <td>Africa</td>\n",
       "      <td>2970.0</td>\n",
       "    </tr>\n",
       "    <tr>\n",
       "      <th>40</th>\n",
       "      <td>Congo, Dem. Rep.</td>\n",
       "      <td>COD</td>\n",
       "      <td>NY.GNP.PCAP.PP.CD</td>\n",
       "      <td>GNI per capita, PPP (current international $)</td>\n",
       "      <td>2021</td>\n",
       "      <td>1170.0</td>\n",
       "      <td>Africa</td>\n",
       "      <td>Democratic Republic of the Congo</td>\n",
       "      <td>COD</td>\n",
       "      <td>Africa</td>\n",
       "      <td>4140.0</td>\n",
       "    </tr>\n",
       "    <tr>\n",
       "      <th>158</th>\n",
       "      <td>Somalia</td>\n",
       "      <td>SOM</td>\n",
       "      <td>NY.GNP.PCAP.PP.CD</td>\n",
       "      <td>GNI per capita, PPP (current international $)</td>\n",
       "      <td>2021</td>\n",
       "      <td>1300.0</td>\n",
       "      <td>Africa</td>\n",
       "      <td>Somalia</td>\n",
       "      <td>SOM</td>\n",
       "      <td>Africa</td>\n",
       "      <td>5440.0</td>\n",
       "    </tr>\n",
       "    <tr>\n",
       "      <th>...</th>\n",
       "      <td>...</td>\n",
       "      <td>...</td>\n",
       "      <td>...</td>\n",
       "      <td>...</td>\n",
       "      <td>...</td>\n",
       "      <td>...</td>\n",
       "      <td>...</td>\n",
       "      <td>...</td>\n",
       "      <td>...</td>\n",
       "      <td>...</td>\n",
       "      <td>...</td>\n",
       "    </tr>\n",
       "    <tr>\n",
       "      <th>130</th>\n",
       "      <td>Norway</td>\n",
       "      <td>NOR</td>\n",
       "      <td>NY.GNP.PCAP.PP.CD</td>\n",
       "      <td>GNI per capita, PPP (current international $)</td>\n",
       "      <td>2021</td>\n",
       "      <td>82840.0</td>\n",
       "      <td>Europe</td>\n",
       "      <td>Norway</td>\n",
       "      <td>NOR</td>\n",
       "      <td>Europe</td>\n",
       "      <td>3966550.0</td>\n",
       "    </tr>\n",
       "    <tr>\n",
       "      <th>102</th>\n",
       "      <td>Luxembourg</td>\n",
       "      <td>LUX</td>\n",
       "      <td>NY.GNP.PCAP.PP.CD</td>\n",
       "      <td>GNI per capita, PPP (current international $)</td>\n",
       "      <td>2020</td>\n",
       "      <td>83230.0</td>\n",
       "      <td>Europe</td>\n",
       "      <td>Luxembourg</td>\n",
       "      <td>LUX</td>\n",
       "      <td>Europe</td>\n",
       "      <td>4049780.0</td>\n",
       "    </tr>\n",
       "    <tr>\n",
       "      <th>19</th>\n",
       "      <td>Bermuda</td>\n",
       "      <td>BMU</td>\n",
       "      <td>NY.GNP.PCAP.PP.CD</td>\n",
       "      <td>GNI per capita, PPP (current international $)</td>\n",
       "      <td>2021</td>\n",
       "      <td>87340.0</td>\n",
       "      <td>North America</td>\n",
       "      <td>Bermuda</td>\n",
       "      <td>BMU</td>\n",
       "      <td>North America</td>\n",
       "      <td>4137120.0</td>\n",
       "    </tr>\n",
       "    <tr>\n",
       "      <th>142</th>\n",
       "      <td>Qatar</td>\n",
       "      <td>QAT</td>\n",
       "      <td>NY.GNP.PCAP.PP.CD</td>\n",
       "      <td>GNI per capita, PPP (current international $)</td>\n",
       "      <td>2021</td>\n",
       "      <td>92080.0</td>\n",
       "      <td>Asia</td>\n",
       "      <td>Qatar</td>\n",
       "      <td>QAT</td>\n",
       "      <td>Asia</td>\n",
       "      <td>4229200.0</td>\n",
       "    </tr>\n",
       "    <tr>\n",
       "      <th>153</th>\n",
       "      <td>Singapore</td>\n",
       "      <td>SGP</td>\n",
       "      <td>NY.GNP.PCAP.PP.CD</td>\n",
       "      <td>GNI per capita, PPP (current international $)</td>\n",
       "      <td>2021</td>\n",
       "      <td>102450.0</td>\n",
       "      <td>Asia</td>\n",
       "      <td>Singapore</td>\n",
       "      <td>SGP</td>\n",
       "      <td>Asia</td>\n",
       "      <td>4331650.0</td>\n",
       "    </tr>\n",
       "  </tbody>\n",
       "</table>\n",
       "<p>196 rows × 11 columns</p>\n",
       "</div>"
      ],
      "text/plain": [
       "                 Country Name Country Code     Indicator Code  \\\n",
       "28                    Burundi          BDI  NY.GNP.PCAP.PP.CD   \n",
       "160               South Sudan          SSD  NY.GNP.PCAP.PP.CD   \n",
       "34   Central African Republic          CAF  NY.GNP.PCAP.PP.CD   \n",
       "40           Congo, Dem. Rep.          COD  NY.GNP.PCAP.PP.CD   \n",
       "158                   Somalia          SOM  NY.GNP.PCAP.PP.CD   \n",
       "..                        ...          ...                ...   \n",
       "130                    Norway          NOR  NY.GNP.PCAP.PP.CD   \n",
       "102                Luxembourg          LUX  NY.GNP.PCAP.PP.CD   \n",
       "19                    Bermuda          BMU  NY.GNP.PCAP.PP.CD   \n",
       "142                     Qatar          QAT  NY.GNP.PCAP.PP.CD   \n",
       "153                 Singapore          SGP  NY.GNP.PCAP.PP.CD   \n",
       "\n",
       "                                    Indicator Name  Date     value  \\\n",
       "28   GNI per capita, PPP (current international $)  2021     800.0   \n",
       "160  GNI per capita, PPP (current international $)  2015    1080.0   \n",
       "34   GNI per capita, PPP (current international $)  2021    1090.0   \n",
       "40   GNI per capita, PPP (current international $)  2021    1170.0   \n",
       "158  GNI per capita, PPP (current international $)  2021    1300.0   \n",
       "..                                             ...   ...       ...   \n",
       "130  GNI per capita, PPP (current international $)  2021   82840.0   \n",
       "102  GNI per capita, PPP (current international $)  2020   83230.0   \n",
       "19   GNI per capita, PPP (current international $)  2021   87340.0   \n",
       "142  GNI per capita, PPP (current international $)  2021   92080.0   \n",
       "153  GNI per capita, PPP (current international $)  2021  102450.0   \n",
       "\n",
       "       continent_x                           country iso_alpha    continent_y  \\\n",
       "28          Africa                           Burundi       BDI         Africa   \n",
       "160         Africa                       South Sudan       SSD         Africa   \n",
       "34          Africa          Central African Republic       CAF         Africa   \n",
       "40          Africa  Democratic Republic of the Congo       COD         Africa   \n",
       "158         Africa                           Somalia       SOM         Africa   \n",
       "..             ...                               ...       ...            ...   \n",
       "130         Europe                            Norway       NOR         Europe   \n",
       "102         Europe                        Luxembourg       LUX         Europe   \n",
       "19   North America                           Bermuda       BMU  North America   \n",
       "142           Asia                             Qatar       QAT           Asia   \n",
       "153           Asia                         Singapore       SGP           Asia   \n",
       "\n",
       "        cumsum  \n",
       "28       800.0  \n",
       "160     1880.0  \n",
       "34      2970.0  \n",
       "40      4140.0  \n",
       "158     5440.0  \n",
       "..         ...  \n",
       "130  3966550.0  \n",
       "102  4049780.0  \n",
       "19   4137120.0  \n",
       "142  4229200.0  \n",
       "153  4331650.0  \n",
       "\n",
       "[196 rows x 11 columns]"
      ]
     },
     "execution_count": 22,
     "metadata": {},
     "output_type": "execute_result"
    }
   ],
   "source": [
    "new_df"
   ]
  },
  {
   "cell_type": "code",
   "execution_count": 18,
   "metadata": {},
   "outputs": [
    {
     "data": {
      "text/html": [
       "<div>\n",
       "<style scoped>\n",
       "    .dataframe tbody tr th:only-of-type {\n",
       "        vertical-align: middle;\n",
       "    }\n",
       "\n",
       "    .dataframe tbody tr th {\n",
       "        vertical-align: top;\n",
       "    }\n",
       "\n",
       "    .dataframe thead th {\n",
       "        text-align: right;\n",
       "    }\n",
       "</style>\n",
       "<table border=\"1\" class=\"dataframe\">\n",
       "  <thead>\n",
       "    <tr style=\"text-align: right;\">\n",
       "      <th></th>\n",
       "      <th>Country Name</th>\n",
       "      <th>Country Code</th>\n",
       "      <th>Indicator Code</th>\n",
       "      <th>Indicator Name</th>\n",
       "      <th>Date</th>\n",
       "      <th>value</th>\n",
       "      <th>continent_x</th>\n",
       "      <th>country</th>\n",
       "      <th>iso_alpha</th>\n",
       "      <th>continent_y</th>\n",
       "      <th>cumsum</th>\n",
       "      <th>Highest</th>\n",
       "    </tr>\n",
       "  </thead>\n",
       "  <tbody>\n",
       "    <tr>\n",
       "      <th>28</th>\n",
       "      <td>Burundi</td>\n",
       "      <td>BDI</td>\n",
       "      <td>NY.GNP.PCAP.PP.CD</td>\n",
       "      <td>GNI per capita, PPP (current international $)</td>\n",
       "      <td>2021</td>\n",
       "      <td>800.0</td>\n",
       "      <td>Africa</td>\n",
       "      <td>Burundi</td>\n",
       "      <td>BDI</td>\n",
       "      <td>Africa</td>\n",
       "      <td>800.0</td>\n",
       "      <td>Monaco</td>\n",
       "    </tr>\n",
       "    <tr>\n",
       "      <th>160</th>\n",
       "      <td>South Sudan</td>\n",
       "      <td>SSD</td>\n",
       "      <td>NY.GNP.PCAP.PP.CD</td>\n",
       "      <td>GNI per capita, PPP (current international $)</td>\n",
       "      <td>2015</td>\n",
       "      <td>1080.0</td>\n",
       "      <td>Africa</td>\n",
       "      <td>South Sudan</td>\n",
       "      <td>SSD</td>\n",
       "      <td>Africa</td>\n",
       "      <td>1880.0</td>\n",
       "      <td>Monaco</td>\n",
       "    </tr>\n",
       "    <tr>\n",
       "      <th>34</th>\n",
       "      <td>Central African Republic</td>\n",
       "      <td>CAF</td>\n",
       "      <td>NY.GNP.PCAP.PP.CD</td>\n",
       "      <td>GNI per capita, PPP (current international $)</td>\n",
       "      <td>2021</td>\n",
       "      <td>1090.0</td>\n",
       "      <td>Africa</td>\n",
       "      <td>Central African Republic</td>\n",
       "      <td>CAF</td>\n",
       "      <td>Africa</td>\n",
       "      <td>2970.0</td>\n",
       "      <td>Monaco</td>\n",
       "    </tr>\n",
       "    <tr>\n",
       "      <th>40</th>\n",
       "      <td>Congo, Dem. Rep.</td>\n",
       "      <td>COD</td>\n",
       "      <td>NY.GNP.PCAP.PP.CD</td>\n",
       "      <td>GNI per capita, PPP (current international $)</td>\n",
       "      <td>2021</td>\n",
       "      <td>1170.0</td>\n",
       "      <td>Africa</td>\n",
       "      <td>Democratic Republic of the Congo</td>\n",
       "      <td>COD</td>\n",
       "      <td>Africa</td>\n",
       "      <td>4140.0</td>\n",
       "      <td>Monaco</td>\n",
       "    </tr>\n",
       "    <tr>\n",
       "      <th>158</th>\n",
       "      <td>Somalia</td>\n",
       "      <td>SOM</td>\n",
       "      <td>NY.GNP.PCAP.PP.CD</td>\n",
       "      <td>GNI per capita, PPP (current international $)</td>\n",
       "      <td>2021</td>\n",
       "      <td>1300.0</td>\n",
       "      <td>Africa</td>\n",
       "      <td>Somalia</td>\n",
       "      <td>SOM</td>\n",
       "      <td>Africa</td>\n",
       "      <td>5440.0</td>\n",
       "      <td>Monaco</td>\n",
       "    </tr>\n",
       "    <tr>\n",
       "      <th>119</th>\n",
       "      <td>Mozambique</td>\n",
       "      <td>MOZ</td>\n",
       "      <td>NY.GNP.PCAP.PP.CD</td>\n",
       "      <td>GNI per capita, PPP (current international $)</td>\n",
       "      <td>2021</td>\n",
       "      <td>1310.0</td>\n",
       "      <td>Africa</td>\n",
       "      <td>Mozambique</td>\n",
       "      <td>MOZ</td>\n",
       "      <td>Africa</td>\n",
       "      <td>6750.0</td>\n",
       "      <td>Monaco</td>\n",
       "    </tr>\n",
       "    <tr>\n",
       "      <th>127</th>\n",
       "      <td>Niger</td>\n",
       "      <td>NER</td>\n",
       "      <td>NY.GNP.PCAP.PP.CD</td>\n",
       "      <td>GNI per capita, PPP (current international $)</td>\n",
       "      <td>2021</td>\n",
       "      <td>1330.0</td>\n",
       "      <td>Africa</td>\n",
       "      <td>Niger</td>\n",
       "      <td>NER</td>\n",
       "      <td>Africa</td>\n",
       "      <td>8080.0</td>\n",
       "      <td>Monaco</td>\n",
       "    </tr>\n",
       "    <tr>\n",
       "      <th>99</th>\n",
       "      <td>Liberia</td>\n",
       "      <td>LBR</td>\n",
       "      <td>NY.GNP.PCAP.PP.CD</td>\n",
       "      <td>GNI per capita, PPP (current international $)</td>\n",
       "      <td>2021</td>\n",
       "      <td>1460.0</td>\n",
       "      <td>Africa</td>\n",
       "      <td>Liberia</td>\n",
       "      <td>LBR</td>\n",
       "      <td>Africa</td>\n",
       "      <td>9540.0</td>\n",
       "      <td>Monaco</td>\n",
       "    </tr>\n",
       "    <tr>\n",
       "      <th>35</th>\n",
       "      <td>Chad</td>\n",
       "      <td>TCD</td>\n",
       "      <td>NY.GNP.PCAP.PP.CD</td>\n",
       "      <td>GNI per capita, PPP (current international $)</td>\n",
       "      <td>2021</td>\n",
       "      <td>1540.0</td>\n",
       "      <td>Africa</td>\n",
       "      <td>Chad</td>\n",
       "      <td>TCD</td>\n",
       "      <td>Africa</td>\n",
       "      <td>11080.0</td>\n",
       "      <td>Monaco</td>\n",
       "    </tr>\n",
       "    <tr>\n",
       "      <th>104</th>\n",
       "      <td>Madagascar</td>\n",
       "      <td>MDG</td>\n",
       "      <td>NY.GNP.PCAP.PP.CD</td>\n",
       "      <td>GNI per capita, PPP (current international $)</td>\n",
       "      <td>2021</td>\n",
       "      <td>1600.0</td>\n",
       "      <td>Africa</td>\n",
       "      <td>Madagascar</td>\n",
       "      <td>MDG</td>\n",
       "      <td>Africa</td>\n",
       "      <td>12680.0</td>\n",
       "      <td>Monaco</td>\n",
       "    </tr>\n",
       "    <tr>\n",
       "      <th>56</th>\n",
       "      <td>Eritrea</td>\n",
       "      <td>ERI</td>\n",
       "      <td>NY.GNP.PCAP.PP.CD</td>\n",
       "      <td>GNI per capita, PPP (current international $)</td>\n",
       "      <td>2011</td>\n",
       "      <td>1610.0</td>\n",
       "      <td>Africa</td>\n",
       "      <td>Eritrea</td>\n",
       "      <td>ERI</td>\n",
       "      <td>Africa</td>\n",
       "      <td>14290.0</td>\n",
       "      <td>Monaco</td>\n",
       "    </tr>\n",
       "    <tr>\n",
       "      <th>105</th>\n",
       "      <td>Malawi</td>\n",
       "      <td>MWI</td>\n",
       "      <td>NY.GNP.PCAP.PP.CD</td>\n",
       "      <td>GNI per capita, PPP (current international $)</td>\n",
       "      <td>2021</td>\n",
       "      <td>1630.0</td>\n",
       "      <td>Africa</td>\n",
       "      <td>Malawi</td>\n",
       "      <td>MWI</td>\n",
       "      <td>Africa</td>\n",
       "      <td>15920.0</td>\n",
       "      <td>Monaco</td>\n",
       "    </tr>\n",
       "    <tr>\n",
       "      <th>152</th>\n",
       "      <td>Sierra Leone</td>\n",
       "      <td>SLE</td>\n",
       "      <td>NY.GNP.PCAP.PP.CD</td>\n",
       "      <td>GNI per capita, PPP (current international $)</td>\n",
       "      <td>2021</td>\n",
       "      <td>1750.0</td>\n",
       "      <td>Africa</td>\n",
       "      <td>Sierra Leone</td>\n",
       "      <td>SLE</td>\n",
       "      <td>Africa</td>\n",
       "      <td>17670.0</td>\n",
       "      <td>Monaco</td>\n",
       "    </tr>\n",
       "    <tr>\n",
       "      <th>72</th>\n",
       "      <td>Guinea-Bissau</td>\n",
       "      <td>GNB</td>\n",
       "      <td>NY.GNP.PCAP.PP.CD</td>\n",
       "      <td>GNI per capita, PPP (current international $)</td>\n",
       "      <td>2021</td>\n",
       "      <td>2060.0</td>\n",
       "      <td>Africa</td>\n",
       "      <td>Guinea-Bissau</td>\n",
       "      <td>GNB</td>\n",
       "      <td>Africa</td>\n",
       "      <td>19730.0</td>\n",
       "      <td>Monaco</td>\n",
       "    </tr>\n",
       "    <tr>\n",
       "      <th>0</th>\n",
       "      <td>Afghanistan</td>\n",
       "      <td>AFG</td>\n",
       "      <td>NY.GNP.PCAP.PP.CD</td>\n",
       "      <td>GNI per capita, PPP (current international $)</td>\n",
       "      <td>2020</td>\n",
       "      <td>2100.0</td>\n",
       "      <td>Asia</td>\n",
       "      <td>Afghanistan</td>\n",
       "      <td>AFG</td>\n",
       "      <td>Asia</td>\n",
       "      <td>21830.0</td>\n",
       "      <td>Monaco</td>\n",
       "    </tr>\n",
       "    <tr>\n",
       "      <th>27</th>\n",
       "      <td>Burkina Faso</td>\n",
       "      <td>BFA</td>\n",
       "      <td>NY.GNP.PCAP.PP.CD</td>\n",
       "      <td>GNI per capita, PPP (current international $)</td>\n",
       "      <td>2021</td>\n",
       "      <td>2330.0</td>\n",
       "      <td>Africa</td>\n",
       "      <td>Burkina Faso</td>\n",
       "      <td>BFA</td>\n",
       "      <td>Africa</td>\n",
       "      <td>24160.0</td>\n",
       "      <td>Monaco</td>\n",
       "    </tr>\n",
       "    <tr>\n",
       "      <th>182</th>\n",
       "      <td>Uganda</td>\n",
       "      <td>UGA</td>\n",
       "      <td>NY.GNP.PCAP.PP.CD</td>\n",
       "      <td>GNI per capita, PPP (current international $)</td>\n",
       "      <td>2021</td>\n",
       "      <td>2360.0</td>\n",
       "      <td>Africa</td>\n",
       "      <td>Uganda</td>\n",
       "      <td>UGA</td>\n",
       "      <td>Africa</td>\n",
       "      <td>26520.0</td>\n",
       "      <td>Monaco</td>\n",
       "    </tr>\n",
       "    <tr>\n",
       "      <th>108</th>\n",
       "      <td>Mali</td>\n",
       "      <td>MLI</td>\n",
       "      <td>NY.GNP.PCAP.PP.CD</td>\n",
       "      <td>GNI per capita, PPP (current international $)</td>\n",
       "      <td>2021</td>\n",
       "      <td>2370.0</td>\n",
       "      <td>Africa</td>\n",
       "      <td>Mali</td>\n",
       "      <td>MLI</td>\n",
       "      <td>Africa</td>\n",
       "      <td>28890.0</td>\n",
       "      <td>Monaco</td>\n",
       "    </tr>\n",
       "    <tr>\n",
       "      <th>64</th>\n",
       "      <td>Gambia, The</td>\n",
       "      <td>GMB</td>\n",
       "      <td>NY.GNP.PCAP.PP.CD</td>\n",
       "      <td>GNI per capita, PPP (current international $)</td>\n",
       "      <td>2021</td>\n",
       "      <td>2370.0</td>\n",
       "      <td>Africa</td>\n",
       "      <td>Gambia</td>\n",
       "      <td>GMB</td>\n",
       "      <td>Africa</td>\n",
       "      <td>31260.0</td>\n",
       "      <td>Monaco</td>\n",
       "    </tr>\n",
       "    <tr>\n",
       "      <th>195</th>\n",
       "      <td>Zimbabwe</td>\n",
       "      <td>ZWE</td>\n",
       "      <td>NY.GNP.PCAP.PP.CD</td>\n",
       "      <td>GNI per capita, PPP (current international $)</td>\n",
       "      <td>2021</td>\n",
       "      <td>2380.0</td>\n",
       "      <td>Africa</td>\n",
       "      <td>Zimbabwe</td>\n",
       "      <td>ZWE</td>\n",
       "      <td>Africa</td>\n",
       "      <td>33640.0</td>\n",
       "      <td>Monaco</td>\n",
       "    </tr>\n",
       "    <tr>\n",
       "      <th>174</th>\n",
       "      <td>Togo</td>\n",
       "      <td>TGO</td>\n",
       "      <td>NY.GNP.PCAP.PP.CD</td>\n",
       "      <td>GNI per capita, PPP (current international $)</td>\n",
       "      <td>2021</td>\n",
       "      <td>2390.0</td>\n",
       "      <td>Africa</td>\n",
       "      <td>Togo</td>\n",
       "      <td>TGO</td>\n",
       "      <td>Africa</td>\n",
       "      <td>36030.0</td>\n",
       "      <td>Monaco</td>\n",
       "    </tr>\n",
       "    <tr>\n",
       "      <th>145</th>\n",
       "      <td>Rwanda</td>\n",
       "      <td>RWA</td>\n",
       "      <td>NY.GNP.PCAP.PP.CD</td>\n",
       "      <td>GNI per capita, PPP (current international $)</td>\n",
       "      <td>2021</td>\n",
       "      <td>2440.0</td>\n",
       "      <td>Africa</td>\n",
       "      <td>Rwanda</td>\n",
       "      <td>RWA</td>\n",
       "      <td>Africa</td>\n",
       "      <td>38470.0</td>\n",
       "      <td>Monaco</td>\n",
       "    </tr>\n",
       "    <tr>\n",
       "      <th>71</th>\n",
       "      <td>Guinea</td>\n",
       "      <td>GIN</td>\n",
       "      <td>NY.GNP.PCAP.PP.CD</td>\n",
       "      <td>GNI per capita, PPP (current international $)</td>\n",
       "      <td>2021</td>\n",
       "      <td>2540.0</td>\n",
       "      <td>Africa</td>\n",
       "      <td>Guinea</td>\n",
       "      <td>GIN</td>\n",
       "      <td>Africa</td>\n",
       "      <td>41010.0</td>\n",
       "      <td>Monaco</td>\n",
       "    </tr>\n",
       "    <tr>\n",
       "      <th>59</th>\n",
       "      <td>Ethiopia</td>\n",
       "      <td>ETH</td>\n",
       "      <td>NY.GNP.PCAP.PP.CD</td>\n",
       "      <td>GNI per capita, PPP (current international $)</td>\n",
       "      <td>2021</td>\n",
       "      <td>2590.0</td>\n",
       "      <td>Africa</td>\n",
       "      <td>Ethiopia</td>\n",
       "      <td>ETH</td>\n",
       "      <td>Africa</td>\n",
       "      <td>43600.0</td>\n",
       "      <td>Monaco</td>\n",
       "    </tr>\n",
       "    <tr>\n",
       "      <th>157</th>\n",
       "      <td>Solomon Islands</td>\n",
       "      <td>SLB</td>\n",
       "      <td>NY.GNP.PCAP.PP.CD</td>\n",
       "      <td>GNI per capita, PPP (current international $)</td>\n",
       "      <td>2021</td>\n",
       "      <td>2680.0</td>\n",
       "      <td>Oceania</td>\n",
       "      <td>Solomon Islands</td>\n",
       "      <td>SLB</td>\n",
       "      <td>Oceania</td>\n",
       "      <td>46280.0</td>\n",
       "      <td>Monaco</td>\n",
       "    </tr>\n",
       "    <tr>\n",
       "      <th>41</th>\n",
       "      <td>Congo, Rep.</td>\n",
       "      <td>COG</td>\n",
       "      <td>NY.GNP.PCAP.PP.CD</td>\n",
       "      <td>GNI per capita, PPP (current international $)</td>\n",
       "      <td>2021</td>\n",
       "      <td>2850.0</td>\n",
       "      <td>Africa</td>\n",
       "      <td>Congo</td>\n",
       "      <td>COG</td>\n",
       "      <td>Africa</td>\n",
       "      <td>49130.0</td>\n",
       "      <td>Monaco</td>\n",
       "    </tr>\n",
       "    <tr>\n",
       "      <th>171</th>\n",
       "      <td>Tanzania</td>\n",
       "      <td>TZA</td>\n",
       "      <td>NY.GNP.PCAP.PP.CD</td>\n",
       "      <td>GNI per capita, PPP (current international $)</td>\n",
       "      <td>2021</td>\n",
       "      <td>2920.0</td>\n",
       "      <td>Africa</td>\n",
       "      <td>United Republic of Tanzania</td>\n",
       "      <td>TZA</td>\n",
       "      <td>Africa</td>\n",
       "      <td>52050.0</td>\n",
       "      <td>Monaco</td>\n",
       "    </tr>\n",
       "    <tr>\n",
       "      <th>98</th>\n",
       "      <td>Lesotho</td>\n",
       "      <td>LSO</td>\n",
       "      <td>NY.GNP.PCAP.PP.CD</td>\n",
       "      <td>GNI per capita, PPP (current international $)</td>\n",
       "      <td>2021</td>\n",
       "      <td>3030.0</td>\n",
       "      <td>Africa</td>\n",
       "      <td>Lesotho</td>\n",
       "      <td>LSO</td>\n",
       "      <td>Africa</td>\n",
       "      <td>55080.0</td>\n",
       "      <td>Monaco</td>\n",
       "    </tr>\n",
       "    <tr>\n",
       "      <th>74</th>\n",
       "      <td>Haiti</td>\n",
       "      <td>HTI</td>\n",
       "      <td>NY.GNP.PCAP.PP.CD</td>\n",
       "      <td>GNI per capita, PPP (current international $)</td>\n",
       "      <td>2021</td>\n",
       "      <td>3130.0</td>\n",
       "      <td>North America</td>\n",
       "      <td>Haiti</td>\n",
       "      <td>HTI</td>\n",
       "      <td>North America</td>\n",
       "      <td>58210.0</td>\n",
       "      <td>Monaco</td>\n",
       "    </tr>\n",
       "    <tr>\n",
       "      <th>189</th>\n",
       "      <td>Vanuatu</td>\n",
       "      <td>VUT</td>\n",
       "      <td>NY.GNP.PCAP.PP.CD</td>\n",
       "      <td>GNI per capita, PPP (current international $)</td>\n",
       "      <td>2021</td>\n",
       "      <td>3220.0</td>\n",
       "      <td>Oceania</td>\n",
       "      <td>Vanuatu</td>\n",
       "      <td>VUT</td>\n",
       "      <td>Oceania</td>\n",
       "      <td>61430.0</td>\n",
       "      <td>Monaco</td>\n",
       "    </tr>\n",
       "    <tr>\n",
       "      <th>39</th>\n",
       "      <td>Comoros</td>\n",
       "      <td>COM</td>\n",
       "      <td>NY.GNP.PCAP.PP.CD</td>\n",
       "      <td>GNI per capita, PPP (current international $)</td>\n",
       "      <td>2021</td>\n",
       "      <td>3260.0</td>\n",
       "      <td>Africa</td>\n",
       "      <td>Comoros</td>\n",
       "      <td>COM</td>\n",
       "      <td>Africa</td>\n",
       "      <td>64690.0</td>\n",
       "      <td>Monaco</td>\n",
       "    </tr>\n",
       "    <tr>\n",
       "      <th>194</th>\n",
       "      <td>Zambia</td>\n",
       "      <td>ZMB</td>\n",
       "      <td>NY.GNP.PCAP.PP.CD</td>\n",
       "      <td>GNI per capita, PPP (current international $)</td>\n",
       "      <td>2021</td>\n",
       "      <td>3300.0</td>\n",
       "      <td>Africa</td>\n",
       "      <td>Zambia</td>\n",
       "      <td>ZMB</td>\n",
       "      <td>Africa</td>\n",
       "      <td>67990.0</td>\n",
       "      <td>Monaco</td>\n",
       "    </tr>\n",
       "    <tr>\n",
       "      <th>193</th>\n",
       "      <td>Yemen, Rep.</td>\n",
       "      <td>YEM</td>\n",
       "      <td>NY.GNP.PCAP.PP.CD</td>\n",
       "      <td>GNI per capita, PPP (current international $)</td>\n",
       "      <td>2013</td>\n",
       "      <td>3520.0</td>\n",
       "      <td>Asia</td>\n",
       "      <td>Yemen</td>\n",
       "      <td>YEM</td>\n",
       "      <td>Asia</td>\n",
       "      <td>71510.0</td>\n",
       "      <td>Monaco</td>\n",
       "    </tr>\n",
       "    <tr>\n",
       "      <th>149</th>\n",
       "      <td>Senegal</td>\n",
       "      <td>SEN</td>\n",
       "      <td>NY.GNP.PCAP.PP.CD</td>\n",
       "      <td>GNI per capita, PPP (current international $)</td>\n",
       "      <td>2021</td>\n",
       "      <td>3690.0</td>\n",
       "      <td>Africa</td>\n",
       "      <td>Senegal</td>\n",
       "      <td>SEN</td>\n",
       "      <td>Africa</td>\n",
       "      <td>75200.0</td>\n",
       "      <td>Monaco</td>\n",
       "    </tr>\n",
       "    <tr>\n",
       "      <th>18</th>\n",
       "      <td>Benin</td>\n",
       "      <td>BEN</td>\n",
       "      <td>NY.GNP.PCAP.PP.CD</td>\n",
       "      <td>GNI per capita, PPP (current international $)</td>\n",
       "      <td>2021</td>\n",
       "      <td>3750.0</td>\n",
       "      <td>Africa</td>\n",
       "      <td>Benin</td>\n",
       "      <td>BEN</td>\n",
       "      <td>Africa</td>\n",
       "      <td>78950.0</td>\n",
       "      <td>Monaco</td>\n",
       "    </tr>\n",
       "    <tr>\n",
       "      <th>114</th>\n",
       "      <td>Micronesia, Fed. Sts.</td>\n",
       "      <td>FSM</td>\n",
       "      <td>NY.GNP.PCAP.PP.CD</td>\n",
       "      <td>GNI per capita, PPP (current international $)</td>\n",
       "      <td>2021</td>\n",
       "      <td>3900.0</td>\n",
       "      <td>Oceania</td>\n",
       "      <td>Micronesia (Federated States of)</td>\n",
       "      <td>FSM</td>\n",
       "      <td>Oceania</td>\n",
       "      <td>82850.0</td>\n",
       "      <td>Monaco</td>\n",
       "    </tr>\n",
       "    <tr>\n",
       "      <th>31</th>\n",
       "      <td>Cameroon</td>\n",
       "      <td>CMR</td>\n",
       "      <td>NY.GNP.PCAP.PP.CD</td>\n",
       "      <td>GNI per capita, PPP (current international $)</td>\n",
       "      <td>2021</td>\n",
       "      <td>3990.0</td>\n",
       "      <td>Africa</td>\n",
       "      <td>Cameroon</td>\n",
       "      <td>CMR</td>\n",
       "      <td>Africa</td>\n",
       "      <td>86840.0</td>\n",
       "      <td>Monaco</td>\n",
       "    </tr>\n",
       "    <tr>\n",
       "      <th>166</th>\n",
       "      <td>Sudan</td>\n",
       "      <td>SDN</td>\n",
       "      <td>NY.GNP.PCAP.PP.CD</td>\n",
       "      <td>GNI per capita, PPP (current international $)</td>\n",
       "      <td>2021</td>\n",
       "      <td>4000.0</td>\n",
       "      <td>Africa</td>\n",
       "      <td>Sudan</td>\n",
       "      <td>SDN</td>\n",
       "      <td>Africa</td>\n",
       "      <td>90840.0</td>\n",
       "      <td>Monaco</td>\n",
       "    </tr>\n",
       "    <tr>\n",
       "      <th>91</th>\n",
       "      <td>Kiribati</td>\n",
       "      <td>KIR</td>\n",
       "      <td>NY.GNP.PCAP.PP.CD</td>\n",
       "      <td>GNI per capita, PPP (current international $)</td>\n",
       "      <td>2020</td>\n",
       "      <td>4050.0</td>\n",
       "      <td>Oceania</td>\n",
       "      <td>Kiribati</td>\n",
       "      <td>KIR</td>\n",
       "      <td>Oceania</td>\n",
       "      <td>94890.0</td>\n",
       "      <td>Monaco</td>\n",
       "    </tr>\n",
       "    <tr>\n",
       "      <th>120</th>\n",
       "      <td>Myanmar</td>\n",
       "      <td>MMR</td>\n",
       "      <td>NY.GNP.PCAP.PP.CD</td>\n",
       "      <td>GNI per capita, PPP (current international $)</td>\n",
       "      <td>2021</td>\n",
       "      <td>4230.0</td>\n",
       "      <td>Asia</td>\n",
       "      <td>Myanmar</td>\n",
       "      <td>MMR</td>\n",
       "      <td>Asia</td>\n",
       "      <td>99120.0</td>\n",
       "      <td>Monaco</td>\n",
       "    </tr>\n",
       "  </tbody>\n",
       "</table>\n",
       "</div>"
      ],
      "text/plain": [
       "                 Country Name Country Code     Indicator Code  \\\n",
       "28                    Burundi          BDI  NY.GNP.PCAP.PP.CD   \n",
       "160               South Sudan          SSD  NY.GNP.PCAP.PP.CD   \n",
       "34   Central African Republic          CAF  NY.GNP.PCAP.PP.CD   \n",
       "40           Congo, Dem. Rep.          COD  NY.GNP.PCAP.PP.CD   \n",
       "158                   Somalia          SOM  NY.GNP.PCAP.PP.CD   \n",
       "119                Mozambique          MOZ  NY.GNP.PCAP.PP.CD   \n",
       "127                     Niger          NER  NY.GNP.PCAP.PP.CD   \n",
       "99                    Liberia          LBR  NY.GNP.PCAP.PP.CD   \n",
       "35                       Chad          TCD  NY.GNP.PCAP.PP.CD   \n",
       "104                Madagascar          MDG  NY.GNP.PCAP.PP.CD   \n",
       "56                    Eritrea          ERI  NY.GNP.PCAP.PP.CD   \n",
       "105                    Malawi          MWI  NY.GNP.PCAP.PP.CD   \n",
       "152              Sierra Leone          SLE  NY.GNP.PCAP.PP.CD   \n",
       "72              Guinea-Bissau          GNB  NY.GNP.PCAP.PP.CD   \n",
       "0                 Afghanistan          AFG  NY.GNP.PCAP.PP.CD   \n",
       "27               Burkina Faso          BFA  NY.GNP.PCAP.PP.CD   \n",
       "182                    Uganda          UGA  NY.GNP.PCAP.PP.CD   \n",
       "108                      Mali          MLI  NY.GNP.PCAP.PP.CD   \n",
       "64                Gambia, The          GMB  NY.GNP.PCAP.PP.CD   \n",
       "195                  Zimbabwe          ZWE  NY.GNP.PCAP.PP.CD   \n",
       "174                      Togo          TGO  NY.GNP.PCAP.PP.CD   \n",
       "145                    Rwanda          RWA  NY.GNP.PCAP.PP.CD   \n",
       "71                     Guinea          GIN  NY.GNP.PCAP.PP.CD   \n",
       "59                   Ethiopia          ETH  NY.GNP.PCAP.PP.CD   \n",
       "157           Solomon Islands          SLB  NY.GNP.PCAP.PP.CD   \n",
       "41                Congo, Rep.          COG  NY.GNP.PCAP.PP.CD   \n",
       "171                  Tanzania          TZA  NY.GNP.PCAP.PP.CD   \n",
       "98                    Lesotho          LSO  NY.GNP.PCAP.PP.CD   \n",
       "74                      Haiti          HTI  NY.GNP.PCAP.PP.CD   \n",
       "189                   Vanuatu          VUT  NY.GNP.PCAP.PP.CD   \n",
       "39                    Comoros          COM  NY.GNP.PCAP.PP.CD   \n",
       "194                    Zambia          ZMB  NY.GNP.PCAP.PP.CD   \n",
       "193               Yemen, Rep.          YEM  NY.GNP.PCAP.PP.CD   \n",
       "149                   Senegal          SEN  NY.GNP.PCAP.PP.CD   \n",
       "18                      Benin          BEN  NY.GNP.PCAP.PP.CD   \n",
       "114     Micronesia, Fed. Sts.          FSM  NY.GNP.PCAP.PP.CD   \n",
       "31                   Cameroon          CMR  NY.GNP.PCAP.PP.CD   \n",
       "166                     Sudan          SDN  NY.GNP.PCAP.PP.CD   \n",
       "91                   Kiribati          KIR  NY.GNP.PCAP.PP.CD   \n",
       "120                   Myanmar          MMR  NY.GNP.PCAP.PP.CD   \n",
       "\n",
       "                                    Indicator Name  Date   value  \\\n",
       "28   GNI per capita, PPP (current international $)  2021   800.0   \n",
       "160  GNI per capita, PPP (current international $)  2015  1080.0   \n",
       "34   GNI per capita, PPP (current international $)  2021  1090.0   \n",
       "40   GNI per capita, PPP (current international $)  2021  1170.0   \n",
       "158  GNI per capita, PPP (current international $)  2021  1300.0   \n",
       "119  GNI per capita, PPP (current international $)  2021  1310.0   \n",
       "127  GNI per capita, PPP (current international $)  2021  1330.0   \n",
       "99   GNI per capita, PPP (current international $)  2021  1460.0   \n",
       "35   GNI per capita, PPP (current international $)  2021  1540.0   \n",
       "104  GNI per capita, PPP (current international $)  2021  1600.0   \n",
       "56   GNI per capita, PPP (current international $)  2011  1610.0   \n",
       "105  GNI per capita, PPP (current international $)  2021  1630.0   \n",
       "152  GNI per capita, PPP (current international $)  2021  1750.0   \n",
       "72   GNI per capita, PPP (current international $)  2021  2060.0   \n",
       "0    GNI per capita, PPP (current international $)  2020  2100.0   \n",
       "27   GNI per capita, PPP (current international $)  2021  2330.0   \n",
       "182  GNI per capita, PPP (current international $)  2021  2360.0   \n",
       "108  GNI per capita, PPP (current international $)  2021  2370.0   \n",
       "64   GNI per capita, PPP (current international $)  2021  2370.0   \n",
       "195  GNI per capita, PPP (current international $)  2021  2380.0   \n",
       "174  GNI per capita, PPP (current international $)  2021  2390.0   \n",
       "145  GNI per capita, PPP (current international $)  2021  2440.0   \n",
       "71   GNI per capita, PPP (current international $)  2021  2540.0   \n",
       "59   GNI per capita, PPP (current international $)  2021  2590.0   \n",
       "157  GNI per capita, PPP (current international $)  2021  2680.0   \n",
       "41   GNI per capita, PPP (current international $)  2021  2850.0   \n",
       "171  GNI per capita, PPP (current international $)  2021  2920.0   \n",
       "98   GNI per capita, PPP (current international $)  2021  3030.0   \n",
       "74   GNI per capita, PPP (current international $)  2021  3130.0   \n",
       "189  GNI per capita, PPP (current international $)  2021  3220.0   \n",
       "39   GNI per capita, PPP (current international $)  2021  3260.0   \n",
       "194  GNI per capita, PPP (current international $)  2021  3300.0   \n",
       "193  GNI per capita, PPP (current international $)  2013  3520.0   \n",
       "149  GNI per capita, PPP (current international $)  2021  3690.0   \n",
       "18   GNI per capita, PPP (current international $)  2021  3750.0   \n",
       "114  GNI per capita, PPP (current international $)  2021  3900.0   \n",
       "31   GNI per capita, PPP (current international $)  2021  3990.0   \n",
       "166  GNI per capita, PPP (current international $)  2021  4000.0   \n",
       "91   GNI per capita, PPP (current international $)  2020  4050.0   \n",
       "120  GNI per capita, PPP (current international $)  2021  4230.0   \n",
       "\n",
       "       continent_x                           country iso_alpha    continent_y  \\\n",
       "28          Africa                           Burundi       BDI         Africa   \n",
       "160         Africa                       South Sudan       SSD         Africa   \n",
       "34          Africa          Central African Republic       CAF         Africa   \n",
       "40          Africa  Democratic Republic of the Congo       COD         Africa   \n",
       "158         Africa                           Somalia       SOM         Africa   \n",
       "119         Africa                        Mozambique       MOZ         Africa   \n",
       "127         Africa                             Niger       NER         Africa   \n",
       "99          Africa                           Liberia       LBR         Africa   \n",
       "35          Africa                              Chad       TCD         Africa   \n",
       "104         Africa                        Madagascar       MDG         Africa   \n",
       "56          Africa                           Eritrea       ERI         Africa   \n",
       "105         Africa                            Malawi       MWI         Africa   \n",
       "152         Africa                      Sierra Leone       SLE         Africa   \n",
       "72          Africa                     Guinea-Bissau       GNB         Africa   \n",
       "0             Asia                       Afghanistan       AFG           Asia   \n",
       "27          Africa                      Burkina Faso       BFA         Africa   \n",
       "182         Africa                            Uganda       UGA         Africa   \n",
       "108         Africa                              Mali       MLI         Africa   \n",
       "64          Africa                            Gambia       GMB         Africa   \n",
       "195         Africa                          Zimbabwe       ZWE         Africa   \n",
       "174         Africa                              Togo       TGO         Africa   \n",
       "145         Africa                            Rwanda       RWA         Africa   \n",
       "71          Africa                            Guinea       GIN         Africa   \n",
       "59          Africa                          Ethiopia       ETH         Africa   \n",
       "157        Oceania                   Solomon Islands       SLB        Oceania   \n",
       "41          Africa                             Congo       COG         Africa   \n",
       "171         Africa       United Republic of Tanzania       TZA         Africa   \n",
       "98          Africa                           Lesotho       LSO         Africa   \n",
       "74   North America                             Haiti       HTI  North America   \n",
       "189        Oceania                           Vanuatu       VUT        Oceania   \n",
       "39          Africa                           Comoros       COM         Africa   \n",
       "194         Africa                            Zambia       ZMB         Africa   \n",
       "193           Asia                             Yemen       YEM           Asia   \n",
       "149         Africa                           Senegal       SEN         Africa   \n",
       "18          Africa                             Benin       BEN         Africa   \n",
       "114        Oceania  Micronesia (Federated States of)       FSM        Oceania   \n",
       "31          Africa                          Cameroon       CMR         Africa   \n",
       "166         Africa                             Sudan       SDN         Africa   \n",
       "91         Oceania                          Kiribati       KIR        Oceania   \n",
       "120           Asia                           Myanmar       MMR           Asia   \n",
       "\n",
       "      cumsum Highest  \n",
       "28     800.0  Monaco  \n",
       "160   1880.0  Monaco  \n",
       "34    2970.0  Monaco  \n",
       "40    4140.0  Monaco  \n",
       "158   5440.0  Monaco  \n",
       "119   6750.0  Monaco  \n",
       "127   8080.0  Monaco  \n",
       "99    9540.0  Monaco  \n",
       "35   11080.0  Monaco  \n",
       "104  12680.0  Monaco  \n",
       "56   14290.0  Monaco  \n",
       "105  15920.0  Monaco  \n",
       "152  17670.0  Monaco  \n",
       "72   19730.0  Monaco  \n",
       "0    21830.0  Monaco  \n",
       "27   24160.0  Monaco  \n",
       "182  26520.0  Monaco  \n",
       "108  28890.0  Monaco  \n",
       "64   31260.0  Monaco  \n",
       "195  33640.0  Monaco  \n",
       "174  36030.0  Monaco  \n",
       "145  38470.0  Monaco  \n",
       "71   41010.0  Monaco  \n",
       "59   43600.0  Monaco  \n",
       "157  46280.0  Monaco  \n",
       "41   49130.0  Monaco  \n",
       "171  52050.0  Monaco  \n",
       "98   55080.0  Monaco  \n",
       "74   58210.0  Monaco  \n",
       "189  61430.0  Monaco  \n",
       "39   64690.0  Monaco  \n",
       "194  67990.0  Monaco  \n",
       "193  71510.0  Monaco  \n",
       "149  75200.0  Monaco  \n",
       "18   78950.0  Monaco  \n",
       "114  82850.0  Monaco  \n",
       "31   86840.0  Monaco  \n",
       "166  90840.0  Monaco  \n",
       "91   94890.0  Monaco  \n",
       "120  99120.0  Monaco  "
      ]
     },
     "execution_count": 18,
     "metadata": {},
     "output_type": "execute_result"
    }
   ],
   "source": [
    "lowest_df"
   ]
  },
  {
   "cell_type": "code",
   "execution_count": 20,
   "metadata": {},
   "outputs": [
    {
     "data": {
      "application/vnd.plotly.v1+json": {
       "config": {
        "plotlyServerURL": "https://plot.ly"
       },
       "data": [
        {
         "branchvalues": "total",
         "customdata": [
          [
           "Asia"
          ],
          [
           "Asia"
          ],
          [
           "Oceania"
          ],
          [
           "Africa"
          ],
          [
           "Africa"
          ],
          [
           "Africa"
          ],
          [
           "Africa"
          ],
          [
           "Africa"
          ],
          [
           "Africa"
          ],
          [
           "Africa"
          ],
          [
           "Africa"
          ],
          [
           "Oceania"
          ],
          [
           "Africa"
          ],
          [
           "Africa"
          ],
          [
           "Africa"
          ],
          [
           "Africa"
          ],
          [
           "Africa"
          ],
          [
           "North America"
          ],
          [
           "Africa"
          ],
          [
           "Africa"
          ],
          [
           "Africa"
          ],
          [
           "Africa"
          ],
          [
           "Africa"
          ],
          [
           "Africa"
          ],
          [
           "Africa"
          ],
          [
           "Africa"
          ],
          [
           "Africa"
          ],
          [
           "Africa"
          ],
          [
           "Oceania"
          ],
          [
           "Africa"
          ],
          [
           "Africa"
          ],
          [
           "Africa"
          ],
          [
           "Africa"
          ],
          [
           "Africa"
          ],
          [
           "Africa"
          ],
          [
           "Africa"
          ],
          [
           "Oceania"
          ],
          [
           "Asia"
          ],
          [
           "Africa"
          ],
          [
           "Africa"
          ],
          [
           "(?)"
          ]
         ],
         "domain": {
          "x": [
           0,
           1
          ],
          "y": [
           0,
           1
          ]
         },
         "hovertemplate": "%{label}<br>Yearly Income ($): %{value}<br>Continent: %{customdata[0]}",
         "ids": [
          "Monaco/Afghanistan",
          "Monaco/Yemen, Rep.",
          "Monaco/Vanuatu",
          "Monaco/Togo",
          "Monaco/Tanzania",
          "Monaco/South Sudan",
          "Monaco/Somalia",
          "Monaco/Senegal",
          "Monaco/Rwanda",
          "Monaco/Niger",
          "Monaco/Mozambique",
          "Monaco/Micronesia, Fed. Sts.",
          "Monaco/Mali",
          "Monaco/Malawi",
          "Monaco/Liberia",
          "Monaco/Lesotho",
          "Monaco/Madagascar",
          "Monaco/Haiti",
          "Monaco/Benin",
          "Monaco/Burkina Faso",
          "Monaco/Guinea",
          "Monaco/Gambia, The",
          "Monaco/Ethiopia",
          "Monaco/Eritrea",
          "Monaco/Burundi",
          "Monaco/Congo, Rep.",
          "Monaco/Congo, Dem. Rep.",
          "Monaco/Comoros",
          "Monaco/Kiribati",
          "Monaco/Cameroon",
          "Monaco/Chad",
          "Monaco/Central African Republic",
          "Monaco/Zimbabwe",
          "Monaco/Guinea-Bissau",
          "Monaco/Sudan",
          "Monaco/Sierra Leone",
          "Monaco/Solomon Islands",
          "Monaco/Myanmar",
          "Monaco/Uganda",
          "Monaco/Zambia",
          "Monaco"
         ],
         "labels": [
          "Afghanistan",
          "Yemen, Rep.",
          "Vanuatu",
          "Togo",
          "Tanzania",
          "South Sudan",
          "Somalia",
          "Senegal",
          "Rwanda",
          "Niger",
          "Mozambique",
          "Micronesia, Fed. Sts.",
          "Mali",
          "Malawi",
          "Liberia",
          "Lesotho",
          "Madagascar",
          "Haiti",
          "Benin",
          "Burkina Faso",
          "Guinea",
          "Gambia, The",
          "Ethiopia",
          "Eritrea",
          "Burundi",
          "Congo, Rep.",
          "Congo, Dem. Rep.",
          "Comoros",
          "Kiribati",
          "Cameroon",
          "Chad",
          "Central African Republic",
          "Zimbabwe",
          "Guinea-Bissau",
          "Sudan",
          "Sierra Leone",
          "Solomon Islands",
          "Myanmar",
          "Uganda",
          "Zambia",
          "Monaco"
         ],
         "marker": {
          "colors": [
           "rgb(102,194,165)",
           "rgb(102,194,165)",
           "rgb(252,141,98)",
           "rgb(141,160,203)",
           "rgb(141,160,203)",
           "rgb(141,160,203)",
           "rgb(141,160,203)",
           "rgb(141,160,203)",
           "rgb(141,160,203)",
           "rgb(141,160,203)",
           "rgb(141,160,203)",
           "rgb(252,141,98)",
           "rgb(141,160,203)",
           "rgb(141,160,203)",
           "rgb(141,160,203)",
           "rgb(141,160,203)",
           "rgb(141,160,203)",
           "rgb(231,138,195)",
           "rgb(141,160,203)",
           "rgb(141,160,203)",
           "rgb(141,160,203)",
           "rgb(141,160,203)",
           "rgb(141,160,203)",
           "rgb(141,160,203)",
           "rgb(141,160,203)",
           "rgb(141,160,203)",
           "rgb(141,160,203)",
           "rgb(141,160,203)",
           "rgb(252,141,98)",
           "rgb(141,160,203)",
           "rgb(141,160,203)",
           "rgb(141,160,203)",
           "rgb(141,160,203)",
           "rgb(141,160,203)",
           "rgb(141,160,203)",
           "rgb(141,160,203)",
           "rgb(252,141,98)",
           "rgb(102,194,165)",
           "rgb(141,160,203)",
           "rgb(141,160,203)",
           "rgb(166,216,84)"
          ]
         },
         "name": "",
         "parents": [
          "Monaco",
          "Monaco",
          "Monaco",
          "Monaco",
          "Monaco",
          "Monaco",
          "Monaco",
          "Monaco",
          "Monaco",
          "Monaco",
          "Monaco",
          "Monaco",
          "Monaco",
          "Monaco",
          "Monaco",
          "Monaco",
          "Monaco",
          "Monaco",
          "Monaco",
          "Monaco",
          "Monaco",
          "Monaco",
          "Monaco",
          "Monaco",
          "Monaco",
          "Monaco",
          "Monaco",
          "Monaco",
          "Monaco",
          "Monaco",
          "Monaco",
          "Monaco",
          "Monaco",
          "Monaco",
          "Monaco",
          "Monaco",
          "Monaco",
          "Monaco",
          "Monaco",
          "Monaco",
          ""
         ],
         "type": "treemap",
         "values": [
          2100,
          3520,
          3220,
          2390,
          2920,
          1080,
          1300,
          3690,
          2440,
          1330,
          1310,
          3900,
          2370,
          1630,
          1460,
          3030,
          1600,
          3130,
          3750,
          2330,
          2540,
          2370,
          2590,
          1610,
          800,
          2850,
          1170,
          3260,
          4050,
          3990,
          1540,
          1090,
          2380,
          2060,
          4000,
          1750,
          2680,
          4230,
          2360,
          3300,
          99120
         ]
        }
       ],
       "layout": {
        "legend": {
         "tracegroupgap": 0
        },
        "margin": {
         "b": 25,
         "l": 25,
         "r": 25,
         "t": 50
        },
        "template": {
         "data": {
          "bar": [
           {
            "error_x": {
             "color": "#2a3f5f"
            },
            "error_y": {
             "color": "#2a3f5f"
            },
            "marker": {
             "line": {
              "color": "#E5ECF6",
              "width": 0.5
             },
             "pattern": {
              "fillmode": "overlay",
              "size": 10,
              "solidity": 0.2
             }
            },
            "type": "bar"
           }
          ],
          "barpolar": [
           {
            "marker": {
             "line": {
              "color": "#E5ECF6",
              "width": 0.5
             },
             "pattern": {
              "fillmode": "overlay",
              "size": 10,
              "solidity": 0.2
             }
            },
            "type": "barpolar"
           }
          ],
          "carpet": [
           {
            "aaxis": {
             "endlinecolor": "#2a3f5f",
             "gridcolor": "white",
             "linecolor": "white",
             "minorgridcolor": "white",
             "startlinecolor": "#2a3f5f"
            },
            "baxis": {
             "endlinecolor": "#2a3f5f",
             "gridcolor": "white",
             "linecolor": "white",
             "minorgridcolor": "white",
             "startlinecolor": "#2a3f5f"
            },
            "type": "carpet"
           }
          ],
          "choropleth": [
           {
            "colorbar": {
             "outlinewidth": 0,
             "ticks": ""
            },
            "type": "choropleth"
           }
          ],
          "contour": [
           {
            "colorbar": {
             "outlinewidth": 0,
             "ticks": ""
            },
            "colorscale": [
             [
              0,
              "#0d0887"
             ],
             [
              0.1111111111111111,
              "#46039f"
             ],
             [
              0.2222222222222222,
              "#7201a8"
             ],
             [
              0.3333333333333333,
              "#9c179e"
             ],
             [
              0.4444444444444444,
              "#bd3786"
             ],
             [
              0.5555555555555556,
              "#d8576b"
             ],
             [
              0.6666666666666666,
              "#ed7953"
             ],
             [
              0.7777777777777778,
              "#fb9f3a"
             ],
             [
              0.8888888888888888,
              "#fdca26"
             ],
             [
              1,
              "#f0f921"
             ]
            ],
            "type": "contour"
           }
          ],
          "contourcarpet": [
           {
            "colorbar": {
             "outlinewidth": 0,
             "ticks": ""
            },
            "type": "contourcarpet"
           }
          ],
          "heatmap": [
           {
            "colorbar": {
             "outlinewidth": 0,
             "ticks": ""
            },
            "colorscale": [
             [
              0,
              "#0d0887"
             ],
             [
              0.1111111111111111,
              "#46039f"
             ],
             [
              0.2222222222222222,
              "#7201a8"
             ],
             [
              0.3333333333333333,
              "#9c179e"
             ],
             [
              0.4444444444444444,
              "#bd3786"
             ],
             [
              0.5555555555555556,
              "#d8576b"
             ],
             [
              0.6666666666666666,
              "#ed7953"
             ],
             [
              0.7777777777777778,
              "#fb9f3a"
             ],
             [
              0.8888888888888888,
              "#fdca26"
             ],
             [
              1,
              "#f0f921"
             ]
            ],
            "type": "heatmap"
           }
          ],
          "heatmapgl": [
           {
            "colorbar": {
             "outlinewidth": 0,
             "ticks": ""
            },
            "colorscale": [
             [
              0,
              "#0d0887"
             ],
             [
              0.1111111111111111,
              "#46039f"
             ],
             [
              0.2222222222222222,
              "#7201a8"
             ],
             [
              0.3333333333333333,
              "#9c179e"
             ],
             [
              0.4444444444444444,
              "#bd3786"
             ],
             [
              0.5555555555555556,
              "#d8576b"
             ],
             [
              0.6666666666666666,
              "#ed7953"
             ],
             [
              0.7777777777777778,
              "#fb9f3a"
             ],
             [
              0.8888888888888888,
              "#fdca26"
             ],
             [
              1,
              "#f0f921"
             ]
            ],
            "type": "heatmapgl"
           }
          ],
          "histogram": [
           {
            "marker": {
             "pattern": {
              "fillmode": "overlay",
              "size": 10,
              "solidity": 0.2
             }
            },
            "type": "histogram"
           }
          ],
          "histogram2d": [
           {
            "colorbar": {
             "outlinewidth": 0,
             "ticks": ""
            },
            "colorscale": [
             [
              0,
              "#0d0887"
             ],
             [
              0.1111111111111111,
              "#46039f"
             ],
             [
              0.2222222222222222,
              "#7201a8"
             ],
             [
              0.3333333333333333,
              "#9c179e"
             ],
             [
              0.4444444444444444,
              "#bd3786"
             ],
             [
              0.5555555555555556,
              "#d8576b"
             ],
             [
              0.6666666666666666,
              "#ed7953"
             ],
             [
              0.7777777777777778,
              "#fb9f3a"
             ],
             [
              0.8888888888888888,
              "#fdca26"
             ],
             [
              1,
              "#f0f921"
             ]
            ],
            "type": "histogram2d"
           }
          ],
          "histogram2dcontour": [
           {
            "colorbar": {
             "outlinewidth": 0,
             "ticks": ""
            },
            "colorscale": [
             [
              0,
              "#0d0887"
             ],
             [
              0.1111111111111111,
              "#46039f"
             ],
             [
              0.2222222222222222,
              "#7201a8"
             ],
             [
              0.3333333333333333,
              "#9c179e"
             ],
             [
              0.4444444444444444,
              "#bd3786"
             ],
             [
              0.5555555555555556,
              "#d8576b"
             ],
             [
              0.6666666666666666,
              "#ed7953"
             ],
             [
              0.7777777777777778,
              "#fb9f3a"
             ],
             [
              0.8888888888888888,
              "#fdca26"
             ],
             [
              1,
              "#f0f921"
             ]
            ],
            "type": "histogram2dcontour"
           }
          ],
          "mesh3d": [
           {
            "colorbar": {
             "outlinewidth": 0,
             "ticks": ""
            },
            "type": "mesh3d"
           }
          ],
          "parcoords": [
           {
            "line": {
             "colorbar": {
              "outlinewidth": 0,
              "ticks": ""
             }
            },
            "type": "parcoords"
           }
          ],
          "pie": [
           {
            "automargin": true,
            "type": "pie"
           }
          ],
          "scatter": [
           {
            "marker": {
             "colorbar": {
              "outlinewidth": 0,
              "ticks": ""
             }
            },
            "type": "scatter"
           }
          ],
          "scatter3d": [
           {
            "line": {
             "colorbar": {
              "outlinewidth": 0,
              "ticks": ""
             }
            },
            "marker": {
             "colorbar": {
              "outlinewidth": 0,
              "ticks": ""
             }
            },
            "type": "scatter3d"
           }
          ],
          "scattercarpet": [
           {
            "marker": {
             "colorbar": {
              "outlinewidth": 0,
              "ticks": ""
             }
            },
            "type": "scattercarpet"
           }
          ],
          "scattergeo": [
           {
            "marker": {
             "colorbar": {
              "outlinewidth": 0,
              "ticks": ""
             }
            },
            "type": "scattergeo"
           }
          ],
          "scattergl": [
           {
            "marker": {
             "colorbar": {
              "outlinewidth": 0,
              "ticks": ""
             }
            },
            "type": "scattergl"
           }
          ],
          "scattermapbox": [
           {
            "marker": {
             "colorbar": {
              "outlinewidth": 0,
              "ticks": ""
             }
            },
            "type": "scattermapbox"
           }
          ],
          "scatterpolar": [
           {
            "marker": {
             "colorbar": {
              "outlinewidth": 0,
              "ticks": ""
             }
            },
            "type": "scatterpolar"
           }
          ],
          "scatterpolargl": [
           {
            "marker": {
             "colorbar": {
              "outlinewidth": 0,
              "ticks": ""
             }
            },
            "type": "scatterpolargl"
           }
          ],
          "scatterternary": [
           {
            "marker": {
             "colorbar": {
              "outlinewidth": 0,
              "ticks": ""
             }
            },
            "type": "scatterternary"
           }
          ],
          "surface": [
           {
            "colorbar": {
             "outlinewidth": 0,
             "ticks": ""
            },
            "colorscale": [
             [
              0,
              "#0d0887"
             ],
             [
              0.1111111111111111,
              "#46039f"
             ],
             [
              0.2222222222222222,
              "#7201a8"
             ],
             [
              0.3333333333333333,
              "#9c179e"
             ],
             [
              0.4444444444444444,
              "#bd3786"
             ],
             [
              0.5555555555555556,
              "#d8576b"
             ],
             [
              0.6666666666666666,
              "#ed7953"
             ],
             [
              0.7777777777777778,
              "#fb9f3a"
             ],
             [
              0.8888888888888888,
              "#fdca26"
             ],
             [
              1,
              "#f0f921"
             ]
            ],
            "type": "surface"
           }
          ],
          "table": [
           {
            "cells": {
             "fill": {
              "color": "#EBF0F8"
             },
             "line": {
              "color": "white"
             }
            },
            "header": {
             "fill": {
              "color": "#C8D4E3"
             },
             "line": {
              "color": "white"
             }
            },
            "type": "table"
           }
          ]
         },
         "layout": {
          "annotationdefaults": {
           "arrowcolor": "#2a3f5f",
           "arrowhead": 0,
           "arrowwidth": 1
          },
          "autotypenumbers": "strict",
          "coloraxis": {
           "colorbar": {
            "outlinewidth": 0,
            "ticks": ""
           }
          },
          "colorscale": {
           "diverging": [
            [
             0,
             "#8e0152"
            ],
            [
             0.1,
             "#c51b7d"
            ],
            [
             0.2,
             "#de77ae"
            ],
            [
             0.3,
             "#f1b6da"
            ],
            [
             0.4,
             "#fde0ef"
            ],
            [
             0.5,
             "#f7f7f7"
            ],
            [
             0.6,
             "#e6f5d0"
            ],
            [
             0.7,
             "#b8e186"
            ],
            [
             0.8,
             "#7fbc41"
            ],
            [
             0.9,
             "#4d9221"
            ],
            [
             1,
             "#276419"
            ]
           ],
           "sequential": [
            [
             0,
             "#0d0887"
            ],
            [
             0.1111111111111111,
             "#46039f"
            ],
            [
             0.2222222222222222,
             "#7201a8"
            ],
            [
             0.3333333333333333,
             "#9c179e"
            ],
            [
             0.4444444444444444,
             "#bd3786"
            ],
            [
             0.5555555555555556,
             "#d8576b"
            ],
            [
             0.6666666666666666,
             "#ed7953"
            ],
            [
             0.7777777777777778,
             "#fb9f3a"
            ],
            [
             0.8888888888888888,
             "#fdca26"
            ],
            [
             1,
             "#f0f921"
            ]
           ],
           "sequentialminus": [
            [
             0,
             "#0d0887"
            ],
            [
             0.1111111111111111,
             "#46039f"
            ],
            [
             0.2222222222222222,
             "#7201a8"
            ],
            [
             0.3333333333333333,
             "#9c179e"
            ],
            [
             0.4444444444444444,
             "#bd3786"
            ],
            [
             0.5555555555555556,
             "#d8576b"
            ],
            [
             0.6666666666666666,
             "#ed7953"
            ],
            [
             0.7777777777777778,
             "#fb9f3a"
            ],
            [
             0.8888888888888888,
             "#fdca26"
            ],
            [
             1,
             "#f0f921"
            ]
           ]
          },
          "colorway": [
           "#636efa",
           "#EF553B",
           "#00cc96",
           "#ab63fa",
           "#FFA15A",
           "#19d3f3",
           "#FF6692",
           "#B6E880",
           "#FF97FF",
           "#FECB52"
          ],
          "font": {
           "color": "#2a3f5f"
          },
          "geo": {
           "bgcolor": "white",
           "lakecolor": "white",
           "landcolor": "#E5ECF6",
           "showlakes": true,
           "showland": true,
           "subunitcolor": "white"
          },
          "hoverlabel": {
           "align": "left"
          },
          "hovermode": "closest",
          "mapbox": {
           "style": "light"
          },
          "paper_bgcolor": "white",
          "plot_bgcolor": "#E5ECF6",
          "polar": {
           "angularaxis": {
            "gridcolor": "white",
            "linecolor": "white",
            "ticks": ""
           },
           "bgcolor": "#E5ECF6",
           "radialaxis": {
            "gridcolor": "white",
            "linecolor": "white",
            "ticks": ""
           }
          },
          "scene": {
           "xaxis": {
            "backgroundcolor": "#E5ECF6",
            "gridcolor": "white",
            "gridwidth": 2,
            "linecolor": "white",
            "showbackground": true,
            "ticks": "",
            "zerolinecolor": "white"
           },
           "yaxis": {
            "backgroundcolor": "#E5ECF6",
            "gridcolor": "white",
            "gridwidth": 2,
            "linecolor": "white",
            "showbackground": true,
            "ticks": "",
            "zerolinecolor": "white"
           },
           "zaxis": {
            "backgroundcolor": "#E5ECF6",
            "gridcolor": "white",
            "gridwidth": 2,
            "linecolor": "white",
            "showbackground": true,
            "ticks": "",
            "zerolinecolor": "white"
           }
          },
          "shapedefaults": {
           "line": {
            "color": "#2a3f5f"
           }
          },
          "ternary": {
           "aaxis": {
            "gridcolor": "white",
            "linecolor": "white",
            "ticks": ""
           },
           "baxis": {
            "gridcolor": "white",
            "linecolor": "white",
            "ticks": ""
           },
           "bgcolor": "#E5ECF6",
           "caxis": {
            "gridcolor": "white",
            "linecolor": "white",
            "ticks": ""
           }
          },
          "title": {
           "x": 0.05
          },
          "xaxis": {
           "automargin": true,
           "gridcolor": "white",
           "linecolor": "white",
           "ticks": "",
           "title": {
            "standoff": 15
           },
           "zerolinecolor": "white",
           "zerolinewidth": 2
          },
          "yaxis": {
           "automargin": true,
           "gridcolor": "white",
           "linecolor": "white",
           "ticks": "",
           "title": {
            "standoff": 15
           },
           "zerolinecolor": "white",
           "zerolinewidth": 2
          }
         }
        },
        "treemapcolorway": [
         "rgb(102,194,165)",
         "rgb(252,141,98)",
         "rgb(141,160,203)",
         "rgb(231,138,195)",
         "rgb(166,216,84)",
         "rgb(255,217,47)",
         "rgb(229,196,148)",
         "rgb(179,179,179)"
        ]
       }
      }
     },
     "metadata": {},
     "output_type": "display_data"
    }
   ],
   "source": [
    "fig = px.treemap(lowest_df, path=['Highest', 'Country Name'], values='value',\n",
    "                  color='continent_y', \n",
    "                  color_discrete_sequence= px.colors.qualitative.Set2\n",
    "                  #color_discrete_map={'Europe':'blue', 'South America':'green', 'North America':\"green\", 'Asia':'yellow', 'Africa':'brown', 'Oceania':'purple'},\n",
    "                  #hover_data={'continent':False, 'country':False, 'pop':True, 'lifeExp':True, 'gdpPercap':True, 'year':False, 'Highest':False, 'value':True, 'cumsum':False},\n",
    "                  #color_continuous_scale='RdBu',\n",
    "                  #color_continuous_midpoint=np.average(lowest_df['lifeExp'], weights=lowest_df['pop'])\n",
    ")\n",
    "fig.update_layout(margin = dict(t=50, l=25, r=25, b=25))\n",
    "fig.data[0].hovertemplate = '%{label}<br>Yearly Income ($): %{value}<br>Continent: %{customdata[0]}'\n",
    "fig.show()"
   ]
  },
  {
   "cell_type": "code",
   "execution_count": 147,
   "metadata": {},
   "outputs": [
    {
     "data": {
      "text/plain": [
       "'labels=%{label}<br>value=%{value}<br>parent=%{parent}<br>id=%{id}<br>continent=%{customdata[0]}<extra></extra>'"
      ]
     },
     "execution_count": 147,
     "metadata": {},
     "output_type": "execute_result"
    }
   ],
   "source": [
    "fig.data[0].hovertemplate"
   ]
  },
  {
   "cell_type": "code",
   "execution_count": 207,
   "metadata": {},
   "outputs": [
    {
     "data": {
      "application/vnd.plotly.v1+json": {
       "config": {
        "plotlyServerURL": "https://plot.ly"
       },
       "data": [
        {
         "coloraxis": "coloraxis",
         "customdata": [
          [
           516.747870807558
          ],
          [
           1557.72268174541
          ],
          [
           1774.92121803027
          ],
          [
           6494.38571288581
          ],
          [
           3765.03462494702
          ],
          [
           12844.9009909959
          ],
          [
           43047.6862704034
          ],
          [
           2137.90939339084
          ],
          [
           14900.7974022154
          ],
          [
           6412.38920956596
          ],
          [
           10729.2325777217
          ],
          [
           4670.008798001
          ],
          [
           23384.2987907455
          ],
          [
           59934.1294088895
          ],
          [
           53267.9327491132
          ],
          [
           5384.03499804521
          ],
          [
           28239.3667142001
          ],
          [
           22232.3252265292
          ],
          [
           2503.04388008424
          ],
          [
           17033.9371863139
          ],
          [
           7303.69626589884
          ],
          [
           51767.7885723646
          ],
          [
           4420.4913723374
          ],
          [
           1428.44717671325
          ],
          [
           110869.463103011
          ],
          [
           3000.77798595652
          ],
          [
           3414.89284856087
          ],
          [
           6916.43831507661
          ],
          [
           7347.55238231951
          ],
          [
           7518.83428432838
          ],
          [
           31722.6601371588
          ],
          [
           11634.9710182244
          ],
          [
           918.15258192146
          ],
          [
           236.795414165095
          ],
          [
           3445.75653621
          ],
          [
           1590.95665957308
          ],
          [
           1661.70210527032
          ],
          [
           52051.3514647093
          ],
          [
           9352.28202838224
          ],
          [
           85346.7619526658
          ],
          [
           511.484745592238
          ],
          [
           18568.9933848981
          ],
          [
           696.422775532126
          ],
          [
           74463.0159204917
          ],
          [
           16502.8385709035
          ],
          [
           12556.3331200058
          ],
          [
           6131.22592153117
          ],
          [
           1494.68769339899
          ],
          [
           584.106409215842
          ],
          [
           2213.88086288172
          ],
          [
           12508.6156275756
          ],
          [
           2578.76041204832
          ],
          [
           17398.7659768108
          ],
          [
           9477.85287326771
          ],
          [
           16109.8616665506
          ],
          [
           30798.4765625
          ],
          [
           26378.4999575477
          ],
          [
           67803.0471046403
          ],
          [
           3363.71204814366
          ],
          [
           7559.9750390528
          ],
          [
           8603.78990518158
          ],
          [
           3739.95779025925
          ],
          [
           13037.4626411209
          ],
          [
           9884.67891392745
          ],
          [
           9776.49380942516
          ],
          [
           5934.87549580808
          ],
          [
           3876.35959373349
          ],
          [
           4408.52036511467
          ],
          [
           8462.28632962077
          ],
          [
           642.508258796603
          ],
          [
           27280.6584396993
          ],
          [
           4214.86168781553
          ],
          [
           943.965684225205
          ],
          [
           42307.7290448297
          ],
          [
           27114.2759902197
          ],
          [
           9782.54196718571
          ],
          [
           8708.06363752219
          ],
          [
           38234.1345970542
          ],
          [
           66320.6791976778
          ],
          [
           5085.97164195861
          ],
          [
           53982.6142735261
          ],
          [
           1826.39640076957
          ],
          [
           43518.5385130851
          ],
          [
           20182.5845029164
          ],
          [
           8016.99049546905
          ],
          [
           835.594421389388
          ],
          [
           5042.38552777387
          ],
          [
           50801.7867105308
          ],
          [
           2445.29074932761
          ],
          [
           20276.5446744075
          ],
          [
           54570.3750190141
          ],
          [
           9928.62173326713
          ],
          [
           34624.3401290414
          ],
          [
           5025.57557261451
          ],
          [
           1174.35297194486
          ],
          [
           812.962373003605
          ],
          [
           9374.80456982258
          ],
          [
           1814.67404841047
          ],
          [
           1057.91924158093
          ],
          [
           47886.7845890595
          ],
          [
           2831.03302075308
          ],
          [
           49660.6342382386
          ],
          [
           18772.6732920667
          ],
          [
           7241.95836327065
          ],
          [
           5720.3239225624
          ],
          [
           1857.42256209636
          ],
          [
           1254.26784612554
          ],
          [
           1456.41270360233
          ],
          [
           68383.7653362902
          ],
          [
           2277.43434674354
          ],
          [
           4291.81255449121
          ],
          [
           2756.74997687567
          ],
          [
           5048.38781272046
          ],
          [
           99152.1025718236
          ],
          [
           86481.5525905339
          ],
          [
           51430.0796810561
          ],
          [
           35551.2849900071
          ],
          [
           4586.65050896194
          ],
          [
           39285.1631062756
          ],
          [
           4405.8394238352
          ],
          [
           10041.4898386047
          ],
          [
           2006.8322400859
          ],
          [
           1514.59105909467
          ],
          [
           34757.7200705078
          ],
          [
           4986.58246912142
          ],
          [
           24811.7697100231
          ],
          [
           1276.24264327528
          ],
          [
           2551.32608148502
          ],
          [
           11452.8204130159
          ],
          [
           8340.3896002879
          ],
          [
           7727.16117181435
          ],
          [
           8100.57287507256
          ],
          [
           20642.1679221253
          ],
          [
           1176.97761667496
          ],
          [
           2670.44195648525
          ],
          [
           1166.46166656205
          ],
          [
           673.089067079932
          ],
          [
           6018.44520748105
          ],
          [
           169049.156850326
          ],
          [
           23433.3909073769
          ],
          [
           5530.43855319337
          ],
          [
           749.761380371283
          ],
          [
           2581.85719450806
          ],
          [
           135682.794274648
          ],
          [
           45421.6266348569
          ],
          [
           514.905861752454
          ],
          [
           642.656915782777
          ],
          [
           11371.099019281
          ],
          [
           8994.6413517504
          ],
          [
           917.913063250557
          ],
          [
           33257.4220345104
          ],
          [
           4170.98191821262
          ],
          [
           1723.01386575365
          ],
          [
           8812.10824897507
          ],
          [
           9926.42276755436
          ],
          [
           3476.6508946194
          ],
          [
           7696.86848007217
          ],
          [
           3611.60101144752
          ],
          [
           3612.2455326111
          ],
          [
           6102.00086882533
          ],
          [
           5314.53146055569
          ],
          [
           173688.189360292
          ],
          [
           4534.91858863581
          ],
          [
           9367.01688364836
          ],
          [
           3496.75830078125
          ],
          [
           500.444808525879
          ],
          [
           1187.23848416853
          ],
          [
           4729.27093735257
          ],
          [
           12252.2668014906
          ],
          [
           1222.87879372246
          ],
          [
           58061.0016679359
          ],
          [
           34694.5504017028
          ],
          [
           48801.6851279674
          ],
          [
           2090.75346113141
          ],
          [
           594.925108871258
          ],
          [
           2085.03076477936
          ],
          [
           67514.0231158812
          ],
          [
           6720.89628528501
          ],
          [
           20659.6402915421
          ],
          [
           89202.7505381438
          ],
          [
           42098.6459702322
          ],
          [
           16439.2964488787
          ],
          [
           13776.7558466645
          ],
          [
           3798.75277714128
          ],
          [
           1537.93641065523
          ],
          [
           14243.8646915764
          ],
          [
           14516.45804724
          ],
          [
           2916.35734883159
          ],
          [
           5400.10382635384
          ],
          [
           6692.24837450351
          ],
          [
           3548.82832258057
          ],
          [
           17840.9210506674
          ],
          [
           24262.1809352574
          ],
          [
           48916.1765681417
          ],
          [
           1437.2085016565
          ],
          [
           31429.8661176558
          ],
          [
           61275.9982687563
          ],
          [
           14861.9091737933
          ],
          [
           12172.78515625
          ],
          [
           833.829875672994
          ],
          [
           3939.1136961541
          ],
          [
           45515.7576957013
          ],
          [
           2449.33344243627
          ],
          [
           23585.8856300817
          ],
          [
           1606.47206087311
          ],
          [
           9214.99354640982
          ],
          [
           13306.7256006838
          ],
          [
           515.932091834125
          ],
          [
           72794.0030226738
          ],
          [
           28988.2592085877
          ],
          [
           21087.8461010057
          ],
          [
           29200.8198783863
          ],
          [
           12394.9259087059
          ],
          [
           2336.96813417731
          ],
          [
           445.779016473609
          ],
          [
           6994.21165355675
          ],
          [
           2176.77667126391
          ],
          [
           2176.77667126391
          ],
          [
           1119.65143716565
          ],
          [
           30115.7058866792
          ],
          [
           3814.71521902039
          ],
          [
           18230.1323472653
          ],
          [
           9570.99545736375
          ],
          [
           21459.319127858
          ],
          [
           7996.61400190845
          ],
          [
           1645.47294380133
          ],
          [
           1645.47294380133
          ],
          [
           1644.48036161356
          ],
          [
           764.341003417969
          ],
          [
           4836.33263325566
          ],
          [
           60238.9865644922
          ],
          [
           93457.4403976155
          ],
          [
           1265.60619039693
          ],
          [
           897.087901986119
          ],
          [
           1135.53967285156
          ],
          [
           7233.38885835752
          ],
          [
           1457.82512795863
          ],
          [
           992.328429362491
          ],
          [
           4624.82344882844
          ],
          [
           15243.1228674692
          ],
          [
           3924.34392482058
          ],
          [
           9586.61245005597
          ],
          [
           7612.03518009452
          ],
          [
           24047.0547086116
          ],
          [
           5291.48524431543
          ],
          [
           858.05751272836
          ],
          [
           4835.57177734375
          ],
          [
           36284.5552429552
          ],
          [
           47334.3553149875
          ],
          [
           69287.5365879523
          ],
          [
           10835.5231684532
          ],
          [
           17020.6486362969
          ],
          [
           1983.06472288992
          ],
          [
           3127.44624774101
          ],
          [
           16055.6453173826
          ],
          [
           3694.01904621852
          ],
          [
           39552.1685953523
          ],
          [
           3663.96905468875
          ],
          [
           12262.9346150446
          ],
          [
           690.759273019397
          ],
          [
           1120.63017052477
          ],
          [
           1737.17397698043
          ]
         ],
         "geo": "geo",
         "hovertemplate": "<b>%{hovertext}</b><br><br>Country Code=%{location}<br>GDP per capita (current US$)=%{customdata[0]}<br>Log of GDP per capita (current US$)=%{z}<extra></extra>",
         "hovertext": [
          "Afghanistan",
          "Africa Eastern and Southern",
          "Africa Western and Central",
          "Albania",
          "Algeria",
          "American Samoa",
          "Andorra",
          "Angola",
          "Antigua and Barbuda",
          "Arab World",
          "Argentina",
          "Armenia",
          "Aruba",
          "Australia",
          "Austria",
          "Azerbaijan",
          "Bahamas, The",
          "Bahrain",
          "Bangladesh",
          "Barbados",
          "Belarus",
          "Belgium",
          "Belize",
          "Benin",
          "Bermuda",
          "Bhutan",
          "Bolivia",
          "Bosnia and Herzegovina",
          "Botswana",
          "Brazil",
          "Brunei Darussalam",
          "Bulgaria",
          "Burkina Faso",
          "Burundi",
          "Cabo Verde",
          "Cambodia",
          "Cameroon",
          "Canada",
          "Caribbean small states",
          "Cayman Islands",
          "Central African Republic",
          "Central Europe and the Baltics",
          "Chad",
          "Channel Islands",
          "Chile",
          "China",
          "Colombia",
          "Comoros",
          "Congo, Dem. Rep.",
          "Congo, Rep.",
          "Costa Rica",
          "Cote d'Ivoire",
          "Croatia",
          "Cuba",
          "Curacao",
          "Cyprus",
          "Czech Republic",
          "Denmark",
          "Djibouti",
          "Dominica",
          "Dominican Republic",
          "Early-demographic dividend",
          "East Asia & Pacific",
          "East Asia & Pacific (IDA & IBRD countries)",
          "East Asia & Pacific (excluding high income)",
          "Ecuador",
          "Egypt, Arab Rep.",
          "El Salvador",
          "Equatorial Guinea",
          "Eritrea",
          "Estonia",
          "Eswatini",
          "Ethiopia",
          "Euro area",
          "Europe & Central Asia",
          "Europe & Central Asia (IDA & IBRD countries)",
          "Europe & Central Asia (excluding high income)",
          "European Union",
          "Faroe Islands",
          "Fiji",
          "Finland",
          "Fragile and conflict affected situations",
          "France",
          "French Polynesia",
          "Gabon",
          "Gambia, The",
          "Georgia",
          "Germany",
          "Ghana",
          "Greece",
          "Greenland",
          "Grenada",
          "Guam",
          "Guatemala",
          "Guinea",
          "Guinea-Bissau",
          "Guyana",
          "Haiti",
          "Heavily indebted poor countries (HIPC)",
          "High income",
          "Honduras",
          "Hong Kong SAR, China",
          "Hungary",
          "IBRD only",
          "IDA & IBRD total",
          "IDA blend",
          "IDA only",
          "IDA total",
          "Iceland",
          "India",
          "Indonesia",
          "Iran, Islamic Rep.",
          "Iraq",
          "Ireland",
          "Isle of Man",
          "Israel",
          "Italy",
          "Jamaica",
          "Japan",
          "Jordan",
          "Kazakhstan",
          "Kenya",
          "Kiribati",
          "Korea, Rep.",
          "Kosovo",
          "Kuwait",
          "Kyrgyz Republic",
          "Lao PDR",
          "Late-demographic dividend",
          "Latin America & Caribbean",
          "Latin America & Caribbean (excluding high income)",
          "Latin America & the Caribbean (IDA & IBRD countries)",
          "Latvia",
          "Least developed countries: UN classification",
          "Lebanon",
          "Lesotho",
          "Liberia",
          "Libya",
          "Liechtenstein",
          "Lithuania",
          "Low & middle income",
          "Low income",
          "Lower middle income",
          "Luxembourg",
          "Macao SAR, China",
          "Madagascar",
          "Malawi",
          "Malaysia",
          "Maldives",
          "Mali",
          "Malta",
          "Marshall Islands",
          "Mauritania",
          "Mauritius",
          "Mexico",
          "Micronesia, Fed. Sts.",
          "Middle East & North Africa",
          "Middle East & North Africa (IDA & IBRD countries)",
          "Middle East & North Africa (excluding high income)",
          "Middle income",
          "Moldova",
          "Monaco",
          "Mongolia",
          "Montenegro",
          "Morocco",
          "Mozambique",
          "Myanmar",
          "Namibia",
          "Nauru",
          "Nepal",
          "Netherlands",
          "New Caledonia",
          "New Zealand",
          "Nicaragua",
          "Niger",
          "Nigeria",
          "North America",
          "North Macedonia",
          "Northern Mariana Islands",
          "Norway",
          "OECD members",
          "Oman",
          "Other small states",
          "Pacific island small states",
          "Pakistan",
          "Palau",
          "Panama",
          "Papua New Guinea",
          "Paraguay",
          "Peru",
          "Philippines",
          "Poland",
          "Portugal",
          "Post-demographic dividend",
          "Pre-demographic dividend",
          "Puerto Rico",
          "Qatar",
          "Romania",
          "Russian Federation",
          "Rwanda",
          "Samoa",
          "San Marino",
          "Sao Tome and Principe",
          "Saudi Arabia",
          "Senegal",
          "Serbia",
          "Seychelles",
          "Sierra Leone",
          "Singapore",
          "Sint Maarten (Dutch part)",
          "Slovak Republic",
          "Slovenia",
          "Small states",
          "Solomon Islands",
          "Somalia",
          "South Africa",
          "South Asia",
          "South Asia (IDA & IBRD)",
          "South Sudan",
          "Spain",
          "Sri Lanka",
          "St. Kitts and Nevis",
          "St. Lucia",
          "St. Martin (French part)",
          "St. Vincent and the Grenadines",
          "Sub-Saharan Africa",
          "Sub-Saharan Africa (IDA & IBRD countries)",
          "Sub-Saharan Africa (excluding high income)",
          "Sudan",
          "Suriname",
          "Sweden",
          "Switzerland",
          "Syrian Arab Republic",
          "Tajikistan",
          "Tanzania",
          "Thailand",
          "Timor-Leste",
          "Togo",
          "Tonga",
          "Trinidad and Tobago",
          "Tunisia",
          "Turkiye",
          "Turkmenistan",
          "Turks and Caicos Islands",
          "Tuvalu",
          "Uganda",
          "Ukraine",
          "United Arab Emirates",
          "United Kingdom",
          "United States",
          "Upper middle income",
          "Uruguay",
          "Uzbekistan",
          "Vanuatu",
          "Venezuela, RB",
          "Vietnam",
          "Virgin Islands (U.S.)",
          "West Bank and Gaza",
          "World",
          "Yemen, Rep.",
          "Zambia",
          "Zimbabwe"
         ],
         "locations": [
          "AFG",
          "AFE",
          "AFW",
          "ALB",
          "DZA",
          "ASM",
          "AND",
          "AGO",
          "ATG",
          "ARB",
          "ARG",
          "ARM",
          "ABW",
          "AUS",
          "AUT",
          "AZE",
          "BHS",
          "BHR",
          "BGD",
          "BRB",
          "BLR",
          "BEL",
          "BLZ",
          "BEN",
          "BMU",
          "BTN",
          "BOL",
          "BIH",
          "BWA",
          "BRA",
          "BRN",
          "BGR",
          "BFA",
          "BDI",
          "CPV",
          "KHM",
          "CMR",
          "CAN",
          "CSS",
          "CYM",
          "CAF",
          "CEB",
          "TCD",
          "CHI",
          "CHL",
          "CHN",
          "COL",
          "COM",
          "COD",
          "COG",
          "CRI",
          "CIV",
          "HRV",
          "CUB",
          "CUW",
          "CYP",
          "CZE",
          "DNK",
          "DJI",
          "DMA",
          "DOM",
          "EAR",
          "EAS",
          "TEA",
          "EAP",
          "ECU",
          "EGY",
          "SLV",
          "GNQ",
          "ERI",
          "EST",
          "SWZ",
          "ETH",
          "EMU",
          "ECS",
          "TEC",
          "ECA",
          "EUU",
          "FRO",
          "FJI",
          "FIN",
          "FCS",
          "FRA",
          "PYF",
          "GAB",
          "GMB",
          "GEO",
          "DEU",
          "GHA",
          "GRC",
          "GRL",
          "GRD",
          "GUM",
          "GTM",
          "GIN",
          "GNB",
          "GUY",
          "HTI",
          "HPC",
          "HIC",
          "HND",
          "HKG",
          "HUN",
          "IBD",
          "IBT",
          "IDB",
          "IDX",
          "IDA",
          "ISL",
          "IND",
          "IDN",
          "IRN",
          "IRQ",
          "IRL",
          "IMN",
          "ISR",
          "ITA",
          "JAM",
          "JPN",
          "JOR",
          "KAZ",
          "KEN",
          "KIR",
          "KOR",
          "XKX",
          "KWT",
          "KGZ",
          "LAO",
          "LTE",
          "LCN",
          "LAC",
          "TLA",
          "LVA",
          "LDC",
          "LBN",
          "LSO",
          "LBR",
          "LBY",
          "LIE",
          "LTU",
          "LMY",
          "LIC",
          "LMC",
          "LUX",
          "MAC",
          "MDG",
          "MWI",
          "MYS",
          "MDV",
          "MLI",
          "MLT",
          "MHL",
          "MRT",
          "MUS",
          "MEX",
          "FSM",
          "MEA",
          "TMN",
          "MNA",
          "MIC",
          "MDA",
          "MCO",
          "MNG",
          "MNE",
          "MAR",
          "MOZ",
          "MMR",
          "NAM",
          "NRU",
          "NPL",
          "NLD",
          "NCL",
          "NZL",
          "NIC",
          "NER",
          "NGA",
          "NAC",
          "MKD",
          "MNP",
          "NOR",
          "OED",
          "OMN",
          "OSS",
          "PSS",
          "PAK",
          "PLW",
          "PAN",
          "PNG",
          "PRY",
          "PER",
          "PHL",
          "POL",
          "PRT",
          "PST",
          "PRE",
          "PRI",
          "QAT",
          "ROU",
          "RUS",
          "RWA",
          "WSM",
          "SMR",
          "STP",
          "SAU",
          "SEN",
          "SRB",
          "SYC",
          "SLE",
          "SGP",
          "SXM",
          "SVK",
          "SVN",
          "SST",
          "SLB",
          "SOM",
          "ZAF",
          "SAS",
          "TSA",
          "SSD",
          "ESP",
          "LKA",
          "KNA",
          "LCA",
          "MAF",
          "VCT",
          "SSF",
          "TSS",
          "SSA",
          "SDN",
          "SUR",
          "SWE",
          "CHE",
          "SYR",
          "TJK",
          "TZA",
          "THA",
          "TLS",
          "TGO",
          "TON",
          "TTO",
          "TUN",
          "TUR",
          "TKM",
          "TCA",
          "TUV",
          "UGA",
          "UKR",
          "ARE",
          "GBR",
          "USA",
          "UMC",
          "URY",
          "UZB",
          "VUT",
          "VEN",
          "VNM",
          "VIR",
          "PSE",
          "WLD",
          "YEM",
          "ZMB",
          "ZWE"
         ],
         "name": "",
         "type": "choropleth",
         "z": [
          2.713278695849043,
          3.1924901436396826,
          3.2491790811465817,
          3.812538078562136,
          3.57576897452192,
          4.10873076105625,
          4.633949813931369,
          3.329989295454511,
          4.173209509896548,
          3.8070198746360817,
          4.0305686596006325,
          3.6693176987501994,
          4.368924351542973,
          4.777674201235809,
          4.7264658427755615,
          3.731107874285852,
          4.45085495315837,
          4.3469848869113585,
          3.398468463156529,
          4.231315041424966,
          3.8635427041775445,
          4.714059613092105,
          3.645470547275267,
          3.1548641850154944,
          5.044811944417208,
          3.47723386512138,
          3.533377081074998,
          3.839882507995062,
          3.866142690936718,
          3.876150513048151,
          4.5013695983949065,
          4.065765305831524,
          2.9629148598288064,
          2.37437328748467,
          3.537284588632653,
          3.201658348870572,
          3.2205531700900347,
          4.716432010043405,
          3.970917594980486,
          4.931187048675523,
          2.7088326859388836,
          4.268788361508588,
          2.842872965670714,
          4.871940622146974,
          4.217558651465543,
          4.098862829030333,
          3.787547319171864,
          3.174550458745817,
          2.76649197164254,
          3.3451542461790136,
          4.097209247457333,
          3.4114109944997737,
          4.240518446646576,
          3.9767099627698066,
          4.207091811200616,
          4.4885292347841155,
          4.421250095278492,
          4.831249211728344,
          3.52681881077188,
          3.8785203615832797,
          3.9346897968648515,
          3.572866700713599,
          4.115193076964537,
          3.9949625666012007,
          3.9901831296100405,
          3.773411612582828,
          3.5884240579376434,
          3.6442928513518384,
          3.9274877160166075,
          2.807878714457402,
          4.435854848142695,
          3.624783327666796,
          2.9749562067742152,
          4.626419714299186,
          4.4331980123248425,
          3.990451719703623,
          3.939921594154512,
          4.5824512646837725,
          4.821648965224563,
          3.7063739343345334,
          4.732253912770968,
          3.261595042630528,
          4.638674301985154,
          4.304976779516583,
          3.9040113687205276,
          2.9219955318732627,
          3.7026360476442584,
          4.705878986789408,
          3.3883305048998804,
          4.306993948852038,
          4.736956938355783,
          3.996888964992762,
          4.53938150536357,
          3.7011858081215046,
          3.0697986511944526,
          2.910070445255734,
          3.971962223052311,
          3.258798628441363,
          3.02445251621106,
          4.68021567683985,
          3.4519449349416544,
          4.696012261823626,
          4.2735261220259435,
          3.8598560235666346,
          3.757420622114403,
          3.2689107166155016,
          3.098390289025049,
          3.1632844584247257,
          4.834953010174413,
          3.3574458661025655,
          3.6326407458363597,
          3.440397379603384,
          3.703152709638458,
          4.9963019280789815,
          4.9369234778398985,
          4.711217197177714,
          4.550855302786847,
          3.661495649263908,
          4.594228560612093,
          3.6440286647137246,
          4.001798153116103,
          3.3025110694231508,
          3.180295388777179,
          4.541051281203797,
          3.6978030058867217,
          4.394657741615517,
          3.1059332516715314,
          3.406765968738906,
          4.058912450778458,
          3.9211863380841674,
          3.888019970779987,
          3.90851573340768,
          4.314755306674824,
          3.070768203670125,
          3.426583142779929,
          3.0668704711416677,
          2.828072536411124,
          3.779484311021324,
          5.228013009019777,
          4.3698351373296935,
          3.742759571391515,
          2.8749230664888374,
          3.4119322172672364,
          5.1325247789395,
          4.657262683073783,
          2.7117278359178436,
          2.80797918544799,
          4.055802441375775,
          3.953983851165613,
          2.962801550549316,
          4.5218885816370005,
          3.6202383071228623,
          3.2362887723964135,
          3.9450798234360374,
          3.9967927679100694,
          3.541161083506878,
          3.8863140656335453,
          3.5576997659776444,
          3.5577772626364808,
          3.7854722651428387,
          3.7254649822996293,
          5.239770287819334,
          3.656569494963128,
          3.9716013030280424,
          3.543665614504079,
          2.699356188360116,
          3.0745379657576843,
          3.6747941952221446,
          4.08821644529692,
          3.087383413842415,
          4.76388452400521,
          4.540261263945491,
          4.688434818501524,
          3.3203028244088917,
          2.77446229875202,
          3.3191124674034653,
          4.8293939880801915,
          3.8274271935593935,
          4.315122755675454,
          4.950378245913357,
          4.6242681277332185,
          4.215883227139075,
          4.139146961855702,
          3.579641030586306,
          3.186938378981364,
          4.153627839477024,
          4.161860663320907,
          3.4648407381360213,
          3.73240210996724,
          3.825572050890866,
          3.5500849905114946,
          4.251417271390827,
          4.384929837156101,
          4.6894525039601005,
          3.1575197775637727,
          4.497342531049806,
          4.787290395225312,
          4.172074602855572,
          4.085389956997789,
          2.9210774516051994,
          3.595398516198766,
          4.658161776778802,
          3.389047912259292,
          4.372652188278827,
          3.205873176875305,
          3.9644950354032114,
          4.124071201342196,
          2.712592542552517,
          4.862095602370192,
          4.462222136058549,
          4.3240322234465465,
          4.465395045409386,
          4.093243935094453,
          3.36865279059278,
          2.649119621694238,
          3.844738770464068,
          3.337813874418686,
          3.337813874418686,
          3.049082841887793,
          4.478793047121303,
          3.5814621219961693,
          4.260789821561086,
          3.9809571101025356,
          4.331615938333327,
          3.902906133045267,
          3.2162907456675316,
          3.2162907456675316,
          3.21602869150442,
          2.8832871581333284,
          3.6845161631191425,
          4.779877656865436,
          4.9706138824403405,
          3.1022985904019045,
          2.9528349998747894,
          3.0552023119591265,
          3.859341812878046,
          3.1637054317203392,
          2.9966554336999156,
          3.665095158337086,
          4.1830739502826395,
          3.5937670614261847,
          3.98166517086725,
          3.881500786772841,
          4.381061891432173,
          3.723577589403081,
          2.9335163981324692,
          3.6844478341715603,
          4.55972180409624,
          4.675176466484554,
          4.84065512093397,
          4.034849885077812,
          4.23097610650044,
          3.2973368888574637,
          3.4951898540936495,
          4.205627765657496,
          3.5674991303154515,
          4.597170300303365,
          3.563951797027835,
          4.0885944126465805,
          2.839326723764623,
          3.0494623107212684,
          3.2398433149692316
         ]
        }
       ],
       "layout": {
        "coloraxis": {
         "colorbar": {
          "len": 0.4,
          "ticktext": [
           "1k",
           "10k",
           "100k"
          ],
          "tickvals": [
           3,
           4,
           5
          ],
          "title": {
           "text": "GDP per capita (current US$)"
          },
          "x": 0.01,
          "xanchor": "left",
          "y": 0.1,
          "yanchor": "bottom"
         },
         "colorscale": [
          [
           0,
           "#0d0887"
          ],
          [
           0.1111111111111111,
           "#46039f"
          ],
          [
           0.2222222222222222,
           "#7201a8"
          ],
          [
           0.3333333333333333,
           "#9c179e"
          ],
          [
           0.4444444444444444,
           "#bd3786"
          ],
          [
           0.5555555555555556,
           "#d8576b"
          ],
          [
           0.6666666666666666,
           "#ed7953"
          ],
          [
           0.7777777777777778,
           "#fb9f3a"
          ],
          [
           0.8888888888888888,
           "#fdca26"
          ],
          [
           1,
           "#f0f921"
          ]
         ]
        },
        "geo": {
         "center": {},
         "domain": {
          "x": [
           0,
           1
          ],
          "y": [
           0,
           1
          ]
         }
        },
        "height": 600,
        "legend": {
         "tracegroupgap": 0
        },
        "margin": {
         "b": 10,
         "l": 10,
         "r": 10,
         "t": 50
        },
        "template": {
         "data": {
          "bar": [
           {
            "error_x": {
             "color": "#2a3f5f"
            },
            "error_y": {
             "color": "#2a3f5f"
            },
            "marker": {
             "line": {
              "color": "#E5ECF6",
              "width": 0.5
             },
             "pattern": {
              "fillmode": "overlay",
              "size": 10,
              "solidity": 0.2
             }
            },
            "type": "bar"
           }
          ],
          "barpolar": [
           {
            "marker": {
             "line": {
              "color": "#E5ECF6",
              "width": 0.5
             },
             "pattern": {
              "fillmode": "overlay",
              "size": 10,
              "solidity": 0.2
             }
            },
            "type": "barpolar"
           }
          ],
          "carpet": [
           {
            "aaxis": {
             "endlinecolor": "#2a3f5f",
             "gridcolor": "white",
             "linecolor": "white",
             "minorgridcolor": "white",
             "startlinecolor": "#2a3f5f"
            },
            "baxis": {
             "endlinecolor": "#2a3f5f",
             "gridcolor": "white",
             "linecolor": "white",
             "minorgridcolor": "white",
             "startlinecolor": "#2a3f5f"
            },
            "type": "carpet"
           }
          ],
          "choropleth": [
           {
            "colorbar": {
             "outlinewidth": 0,
             "ticks": ""
            },
            "type": "choropleth"
           }
          ],
          "contour": [
           {
            "colorbar": {
             "outlinewidth": 0,
             "ticks": ""
            },
            "colorscale": [
             [
              0,
              "#0d0887"
             ],
             [
              0.1111111111111111,
              "#46039f"
             ],
             [
              0.2222222222222222,
              "#7201a8"
             ],
             [
              0.3333333333333333,
              "#9c179e"
             ],
             [
              0.4444444444444444,
              "#bd3786"
             ],
             [
              0.5555555555555556,
              "#d8576b"
             ],
             [
              0.6666666666666666,
              "#ed7953"
             ],
             [
              0.7777777777777778,
              "#fb9f3a"
             ],
             [
              0.8888888888888888,
              "#fdca26"
             ],
             [
              1,
              "#f0f921"
             ]
            ],
            "type": "contour"
           }
          ],
          "contourcarpet": [
           {
            "colorbar": {
             "outlinewidth": 0,
             "ticks": ""
            },
            "type": "contourcarpet"
           }
          ],
          "heatmap": [
           {
            "colorbar": {
             "outlinewidth": 0,
             "ticks": ""
            },
            "colorscale": [
             [
              0,
              "#0d0887"
             ],
             [
              0.1111111111111111,
              "#46039f"
             ],
             [
              0.2222222222222222,
              "#7201a8"
             ],
             [
              0.3333333333333333,
              "#9c179e"
             ],
             [
              0.4444444444444444,
              "#bd3786"
             ],
             [
              0.5555555555555556,
              "#d8576b"
             ],
             [
              0.6666666666666666,
              "#ed7953"
             ],
             [
              0.7777777777777778,
              "#fb9f3a"
             ],
             [
              0.8888888888888888,
              "#fdca26"
             ],
             [
              1,
              "#f0f921"
             ]
            ],
            "type": "heatmap"
           }
          ],
          "heatmapgl": [
           {
            "colorbar": {
             "outlinewidth": 0,
             "ticks": ""
            },
            "colorscale": [
             [
              0,
              "#0d0887"
             ],
             [
              0.1111111111111111,
              "#46039f"
             ],
             [
              0.2222222222222222,
              "#7201a8"
             ],
             [
              0.3333333333333333,
              "#9c179e"
             ],
             [
              0.4444444444444444,
              "#bd3786"
             ],
             [
              0.5555555555555556,
              "#d8576b"
             ],
             [
              0.6666666666666666,
              "#ed7953"
             ],
             [
              0.7777777777777778,
              "#fb9f3a"
             ],
             [
              0.8888888888888888,
              "#fdca26"
             ],
             [
              1,
              "#f0f921"
             ]
            ],
            "type": "heatmapgl"
           }
          ],
          "histogram": [
           {
            "marker": {
             "pattern": {
              "fillmode": "overlay",
              "size": 10,
              "solidity": 0.2
             }
            },
            "type": "histogram"
           }
          ],
          "histogram2d": [
           {
            "colorbar": {
             "outlinewidth": 0,
             "ticks": ""
            },
            "colorscale": [
             [
              0,
              "#0d0887"
             ],
             [
              0.1111111111111111,
              "#46039f"
             ],
             [
              0.2222222222222222,
              "#7201a8"
             ],
             [
              0.3333333333333333,
              "#9c179e"
             ],
             [
              0.4444444444444444,
              "#bd3786"
             ],
             [
              0.5555555555555556,
              "#d8576b"
             ],
             [
              0.6666666666666666,
              "#ed7953"
             ],
             [
              0.7777777777777778,
              "#fb9f3a"
             ],
             [
              0.8888888888888888,
              "#fdca26"
             ],
             [
              1,
              "#f0f921"
             ]
            ],
            "type": "histogram2d"
           }
          ],
          "histogram2dcontour": [
           {
            "colorbar": {
             "outlinewidth": 0,
             "ticks": ""
            },
            "colorscale": [
             [
              0,
              "#0d0887"
             ],
             [
              0.1111111111111111,
              "#46039f"
             ],
             [
              0.2222222222222222,
              "#7201a8"
             ],
             [
              0.3333333333333333,
              "#9c179e"
             ],
             [
              0.4444444444444444,
              "#bd3786"
             ],
             [
              0.5555555555555556,
              "#d8576b"
             ],
             [
              0.6666666666666666,
              "#ed7953"
             ],
             [
              0.7777777777777778,
              "#fb9f3a"
             ],
             [
              0.8888888888888888,
              "#fdca26"
             ],
             [
              1,
              "#f0f921"
             ]
            ],
            "type": "histogram2dcontour"
           }
          ],
          "mesh3d": [
           {
            "colorbar": {
             "outlinewidth": 0,
             "ticks": ""
            },
            "type": "mesh3d"
           }
          ],
          "parcoords": [
           {
            "line": {
             "colorbar": {
              "outlinewidth": 0,
              "ticks": ""
             }
            },
            "type": "parcoords"
           }
          ],
          "pie": [
           {
            "automargin": true,
            "type": "pie"
           }
          ],
          "scatter": [
           {
            "marker": {
             "colorbar": {
              "outlinewidth": 0,
              "ticks": ""
             }
            },
            "type": "scatter"
           }
          ],
          "scatter3d": [
           {
            "line": {
             "colorbar": {
              "outlinewidth": 0,
              "ticks": ""
             }
            },
            "marker": {
             "colorbar": {
              "outlinewidth": 0,
              "ticks": ""
             }
            },
            "type": "scatter3d"
           }
          ],
          "scattercarpet": [
           {
            "marker": {
             "colorbar": {
              "outlinewidth": 0,
              "ticks": ""
             }
            },
            "type": "scattercarpet"
           }
          ],
          "scattergeo": [
           {
            "marker": {
             "colorbar": {
              "outlinewidth": 0,
              "ticks": ""
             }
            },
            "type": "scattergeo"
           }
          ],
          "scattergl": [
           {
            "marker": {
             "colorbar": {
              "outlinewidth": 0,
              "ticks": ""
             }
            },
            "type": "scattergl"
           }
          ],
          "scattermapbox": [
           {
            "marker": {
             "colorbar": {
              "outlinewidth": 0,
              "ticks": ""
             }
            },
            "type": "scattermapbox"
           }
          ],
          "scatterpolar": [
           {
            "marker": {
             "colorbar": {
              "outlinewidth": 0,
              "ticks": ""
             }
            },
            "type": "scatterpolar"
           }
          ],
          "scatterpolargl": [
           {
            "marker": {
             "colorbar": {
              "outlinewidth": 0,
              "ticks": ""
             }
            },
            "type": "scatterpolargl"
           }
          ],
          "scatterternary": [
           {
            "marker": {
             "colorbar": {
              "outlinewidth": 0,
              "ticks": ""
             }
            },
            "type": "scatterternary"
           }
          ],
          "surface": [
           {
            "colorbar": {
             "outlinewidth": 0,
             "ticks": ""
            },
            "colorscale": [
             [
              0,
              "#0d0887"
             ],
             [
              0.1111111111111111,
              "#46039f"
             ],
             [
              0.2222222222222222,
              "#7201a8"
             ],
             [
              0.3333333333333333,
              "#9c179e"
             ],
             [
              0.4444444444444444,
              "#bd3786"
             ],
             [
              0.5555555555555556,
              "#d8576b"
             ],
             [
              0.6666666666666666,
              "#ed7953"
             ],
             [
              0.7777777777777778,
              "#fb9f3a"
             ],
             [
              0.8888888888888888,
              "#fdca26"
             ],
             [
              1,
              "#f0f921"
             ]
            ],
            "type": "surface"
           }
          ],
          "table": [
           {
            "cells": {
             "fill": {
              "color": "#EBF0F8"
             },
             "line": {
              "color": "white"
             }
            },
            "header": {
             "fill": {
              "color": "#C8D4E3"
             },
             "line": {
              "color": "white"
             }
            },
            "type": "table"
           }
          ]
         },
         "layout": {
          "annotationdefaults": {
           "arrowcolor": "#2a3f5f",
           "arrowhead": 0,
           "arrowwidth": 1
          },
          "autotypenumbers": "strict",
          "coloraxis": {
           "colorbar": {
            "outlinewidth": 0,
            "ticks": ""
           }
          },
          "colorscale": {
           "diverging": [
            [
             0,
             "#8e0152"
            ],
            [
             0.1,
             "#c51b7d"
            ],
            [
             0.2,
             "#de77ae"
            ],
            [
             0.3,
             "#f1b6da"
            ],
            [
             0.4,
             "#fde0ef"
            ],
            [
             0.5,
             "#f7f7f7"
            ],
            [
             0.6,
             "#e6f5d0"
            ],
            [
             0.7,
             "#b8e186"
            ],
            [
             0.8,
             "#7fbc41"
            ],
            [
             0.9,
             "#4d9221"
            ],
            [
             1,
             "#276419"
            ]
           ],
           "sequential": [
            [
             0,
             "#0d0887"
            ],
            [
             0.1111111111111111,
             "#46039f"
            ],
            [
             0.2222222222222222,
             "#7201a8"
            ],
            [
             0.3333333333333333,
             "#9c179e"
            ],
            [
             0.4444444444444444,
             "#bd3786"
            ],
            [
             0.5555555555555556,
             "#d8576b"
            ],
            [
             0.6666666666666666,
             "#ed7953"
            ],
            [
             0.7777777777777778,
             "#fb9f3a"
            ],
            [
             0.8888888888888888,
             "#fdca26"
            ],
            [
             1,
             "#f0f921"
            ]
           ],
           "sequentialminus": [
            [
             0,
             "#0d0887"
            ],
            [
             0.1111111111111111,
             "#46039f"
            ],
            [
             0.2222222222222222,
             "#7201a8"
            ],
            [
             0.3333333333333333,
             "#9c179e"
            ],
            [
             0.4444444444444444,
             "#bd3786"
            ],
            [
             0.5555555555555556,
             "#d8576b"
            ],
            [
             0.6666666666666666,
             "#ed7953"
            ],
            [
             0.7777777777777778,
             "#fb9f3a"
            ],
            [
             0.8888888888888888,
             "#fdca26"
            ],
            [
             1,
             "#f0f921"
            ]
           ]
          },
          "colorway": [
           "#636efa",
           "#EF553B",
           "#00cc96",
           "#ab63fa",
           "#FFA15A",
           "#19d3f3",
           "#FF6692",
           "#B6E880",
           "#FF97FF",
           "#FECB52"
          ],
          "font": {
           "color": "#2a3f5f"
          },
          "geo": {
           "bgcolor": "white",
           "lakecolor": "white",
           "landcolor": "#E5ECF6",
           "showlakes": true,
           "showland": true,
           "subunitcolor": "white"
          },
          "hoverlabel": {
           "align": "left"
          },
          "hovermode": "closest",
          "mapbox": {
           "style": "light"
          },
          "paper_bgcolor": "white",
          "plot_bgcolor": "#E5ECF6",
          "polar": {
           "angularaxis": {
            "gridcolor": "white",
            "linecolor": "white",
            "ticks": ""
           },
           "bgcolor": "#E5ECF6",
           "radialaxis": {
            "gridcolor": "white",
            "linecolor": "white",
            "ticks": ""
           }
          },
          "scene": {
           "xaxis": {
            "backgroundcolor": "#E5ECF6",
            "gridcolor": "white",
            "gridwidth": 2,
            "linecolor": "white",
            "showbackground": true,
            "ticks": "",
            "zerolinecolor": "white"
           },
           "yaxis": {
            "backgroundcolor": "#E5ECF6",
            "gridcolor": "white",
            "gridwidth": 2,
            "linecolor": "white",
            "showbackground": true,
            "ticks": "",
            "zerolinecolor": "white"
           },
           "zaxis": {
            "backgroundcolor": "#E5ECF6",
            "gridcolor": "white",
            "gridwidth": 2,
            "linecolor": "white",
            "showbackground": true,
            "ticks": "",
            "zerolinecolor": "white"
           }
          },
          "shapedefaults": {
           "line": {
            "color": "#2a3f5f"
           }
          },
          "ternary": {
           "aaxis": {
            "gridcolor": "white",
            "linecolor": "white",
            "ticks": ""
           },
           "baxis": {
            "gridcolor": "white",
            "linecolor": "white",
            "ticks": ""
           },
           "bgcolor": "#E5ECF6",
           "caxis": {
            "gridcolor": "white",
            "linecolor": "white",
            "ticks": ""
           }
          },
          "title": {
           "x": 0.05
          },
          "xaxis": {
           "automargin": true,
           "gridcolor": "white",
           "linecolor": "white",
           "ticks": "",
           "title": {
            "standoff": 15
           },
           "zerolinecolor": "white",
           "zerolinewidth": 2
          },
          "yaxis": {
           "automargin": true,
           "gridcolor": "white",
           "linecolor": "white",
           "ticks": "",
           "title": {
            "standoff": 15
           },
           "zerolinecolor": "white",
           "zerolinewidth": 2
          }
         }
        },
        "title": {
         "text": "GDP per capita in the World"
        },
        "width": 1000
       }
      }
     },
     "metadata": {},
     "output_type": "display_data"
    }
   ],
   "source": [
    "df = df_raw[df_raw[\"Indicator Name\"] == \"GDP per capita (current US$)\"]\n",
    "df = df.groupby(\"Country Name\").apply(lambda x: x[x[\"Date\"] == x[\"Date\"].max()]).reset_index(drop=True)\n",
    "# log values\n",
    "df[\"log_value\"] = np.log10(df[\"value\"])\n",
    "# Figure size\n",
    "\n",
    "fig = px.choropleth(df, locations=\"Country Code\",\n",
    "                    color=\"log_value\", \n",
    "                    hover_name=\"Country Name\", # column to add to hover information\n",
    "                    hover_data=[\"value\"],\n",
    "                    color_continuous_scale=px.colors.sequential.Plasma,\n",
    "                    title='GDP per capita in the World',\n",
    "                    labels={'log_value':'Log of GDP per capita (current US$)', 'value':'GDP per capita (current US$)'},\n",
    "                    )\n",
    "\n",
    "fig.update_layout(height=600, \n",
    "                  width=1000,\n",
    "                  coloraxis_colorbar=dict(\n",
    "                    #len=0.75,\n",
    "                    title='GDP per capita (current US$)', \n",
    "                    tickvals = [3, 4, 5],\n",
    "                    ticktext = ['1k', '10k', '100k'],\n",
    "                    yanchor=\"bottom\",\n",
    "                    y=0.1,\n",
    "                    xanchor=\"left\",\n",
    "                    x=0.01,\n",
    "                    len = .4),\n",
    "                  margin=dict(l=10, r=10, t=50, b=10)\n",
    "                )\n",
    "\n",
    "fig.show()"
   ]
  },
  {
   "cell_type": "code",
   "execution_count": 174,
   "metadata": {},
   "outputs": [
    {
     "data": {
      "text/plain": [
       "0      6.247555\n",
       "1      7.350980\n",
       "2      7.481511\n",
       "3      8.778693\n",
       "4      8.233512\n",
       "         ...   \n",
       "257    8.206302\n",
       "258    9.414337\n",
       "259    6.537791\n",
       "260    7.021646\n",
       "261    7.460015\n",
       "Name: log_value, Length: 262, dtype: float64"
      ]
     },
     "execution_count": 174,
     "metadata": {},
     "output_type": "execute_result"
    }
   ],
   "source": [
    "df['log_value']"
   ]
  },
  {
   "cell_type": "code",
   "execution_count": null,
   "metadata": {},
   "outputs": [],
   "source": []
  }
 ],
 "metadata": {
  "kernelspec": {
   "display_name": "Python 3.9.12 ('base')",
   "language": "python",
   "name": "python3"
  },
  "language_info": {
   "codemirror_mode": {
    "name": "ipython",
    "version": 3
   },
   "file_extension": ".py",
   "mimetype": "text/x-python",
   "name": "python",
   "nbconvert_exporter": "python",
   "pygments_lexer": "ipython3",
   "version": "3.9.12"
  },
  "orig_nbformat": 4,
  "vscode": {
   "interpreter": {
    "hash": "8485bf4bb2d61086dc172b0aacfd790f29127f517be6ea87039a95cde055dcdd"
   }
  }
 },
 "nbformat": 4,
 "nbformat_minor": 2
}
