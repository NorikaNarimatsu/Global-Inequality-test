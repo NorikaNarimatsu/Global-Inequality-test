{
 "cells": [
  {
   "cell_type": "code",
   "execution_count": 1,
   "metadata": {},
   "outputs": [],
   "source": [
    "import plotly.express as px\n",
    "import pandas as pd\n",
    "import matplotlib.pyplot as plt\n",
    "import numpy as np"
   ]
  },
  {
   "cell_type": "code",
   "execution_count": null,
   "metadata": {},
   "outputs": [],
   "source": []
  },
  {
   "cell_type": "code",
   "execution_count": 137,
   "metadata": {},
   "outputs": [],
   "source": [
    "df_raw = pd.read_csv(\"https://github.com/berdikhanova/DS4SG-Global-Inequality/blob/Assignment/Data/Final/indicators.csv?raw=true\")\n",
    "df = df_raw[df_raw[\"Indicator Name\"] == \"GDP per capita (current US$)\"]\n",
    "df = df.groupby(\"Country Name\").apply(lambda x: x[x[\"Date\"] == x[\"Date\"].max()]).reset_index(drop=True)\n",
    "info_df = pd.read_csv(\"https://raw.githubusercontent.com/berdikhanova/DS4SG-Global-Inequality/final_assignment/Data/Final/countries.csv\")\n",
    "# merge \n",
    "df = df.merge(info_df, left_on=\"Country Code\", right_on=\"iso_alpha\", how = \"inner\")\n",
    "\n",
    "# Select only countries based on their alpha-3 code\n",
    "\n",
    "\n",
    "# List of country codes\n"
   ]
  },
  {
   "cell_type": "code",
   "execution_count": 131,
   "metadata": {},
   "outputs": [],
   "source": []
  },
  {
   "cell_type": "code",
   "execution_count": 153,
   "metadata": {},
   "outputs": [
    {
     "data": {
      "text/html": [
       "<div>\n",
       "<style scoped>\n",
       "    .dataframe tbody tr th:only-of-type {\n",
       "        vertical-align: middle;\n",
       "    }\n",
       "\n",
       "    .dataframe tbody tr th {\n",
       "        vertical-align: top;\n",
       "    }\n",
       "\n",
       "    .dataframe thead th {\n",
       "        text-align: right;\n",
       "    }\n",
       "</style>\n",
       "<table border=\"1\" class=\"dataframe\">\n",
       "  <thead>\n",
       "    <tr style=\"text-align: right;\">\n",
       "      <th></th>\n",
       "      <th>Country Name</th>\n",
       "      <th>Country Code</th>\n",
       "      <th>Indicator Code</th>\n",
       "      <th>Indicator Name</th>\n",
       "      <th>Date</th>\n",
       "      <th>value</th>\n",
       "      <th>country</th>\n",
       "      <th>iso_alpha</th>\n",
       "      <th>continent</th>\n",
       "      <th>cumsum</th>\n",
       "      <th>Highest</th>\n",
       "    </tr>\n",
       "  </thead>\n",
       "  <tbody>\n",
       "    <tr>\n",
       "      <th>30</th>\n",
       "      <td>Burundi</td>\n",
       "      <td>BDI</td>\n",
       "      <td>NY.GDP.PCAP.CD</td>\n",
       "      <td>GDP per capita (current US$)</td>\n",
       "      <td>2021</td>\n",
       "      <td>236.795414</td>\n",
       "      <td>Burundi</td>\n",
       "      <td>BDI</td>\n",
       "      <td>Africa</td>\n",
       "      <td>236.795414</td>\n",
       "      <td>Monaco</td>\n",
       "    </tr>\n",
       "    <tr>\n",
       "      <th>171</th>\n",
       "      <td>Somalia</td>\n",
       "      <td>SOM</td>\n",
       "      <td>NY.GDP.PCAP.CD</td>\n",
       "      <td>GDP per capita (current US$)</td>\n",
       "      <td>2021</td>\n",
       "      <td>445.779016</td>\n",
       "      <td>Somalia</td>\n",
       "      <td>SOM</td>\n",
       "      <td>Africa</td>\n",
       "      <td>682.574431</td>\n",
       "      <td>Monaco</td>\n",
       "    </tr>\n",
       "    <tr>\n",
       "      <th>129</th>\n",
       "      <td>Mozambique</td>\n",
       "      <td>MOZ</td>\n",
       "      <td>NY.GDP.PCAP.CD</td>\n",
       "      <td>GDP per capita (current US$)</td>\n",
       "      <td>2021</td>\n",
       "      <td>500.444809</td>\n",
       "      <td>Mozambique</td>\n",
       "      <td>MOZ</td>\n",
       "      <td>Africa</td>\n",
       "      <td>1183.019239</td>\n",
       "      <td>Monaco</td>\n",
       "    </tr>\n",
       "    <tr>\n",
       "      <th>36</th>\n",
       "      <td>Central African Republic</td>\n",
       "      <td>CAF</td>\n",
       "      <td>NY.GDP.PCAP.CD</td>\n",
       "      <td>GDP per capita (current US$)</td>\n",
       "      <td>2021</td>\n",
       "      <td>511.484746</td>\n",
       "      <td>Central African Republic</td>\n",
       "      <td>CAF</td>\n",
       "      <td>Africa</td>\n",
       "      <td>1694.503985</td>\n",
       "      <td>Monaco</td>\n",
       "    </tr>\n",
       "    <tr>\n",
       "      <th>113</th>\n",
       "      <td>Madagascar</td>\n",
       "      <td>MDG</td>\n",
       "      <td>NY.GDP.PCAP.CD</td>\n",
       "      <td>GDP per capita (current US$)</td>\n",
       "      <td>2021</td>\n",
       "      <td>514.905862</td>\n",
       "      <td>Madagascar</td>\n",
       "      <td>MDG</td>\n",
       "      <td>Africa</td>\n",
       "      <td>2209.409847</td>\n",
       "      <td>Monaco</td>\n",
       "    </tr>\n",
       "    <tr>\n",
       "      <th>...</th>\n",
       "      <td>...</td>\n",
       "      <td>...</td>\n",
       "      <td>...</td>\n",
       "      <td>...</td>\n",
       "      <td>...</td>\n",
       "      <td>...</td>\n",
       "      <td>...</td>\n",
       "      <td>...</td>\n",
       "      <td>...</td>\n",
       "      <td>...</td>\n",
       "      <td>...</td>\n",
       "    </tr>\n",
       "    <tr>\n",
       "      <th>87</th>\n",
       "      <td>Indonesia</td>\n",
       "      <td>IDN</td>\n",
       "      <td>NY.GDP.PCAP.CD</td>\n",
       "      <td>GDP per capita (current US$)</td>\n",
       "      <td>2021</td>\n",
       "      <td>4291.812554</td>\n",
       "      <td>Indonesia</td>\n",
       "      <td>IDN</td>\n",
       "      <td>Asia</td>\n",
       "      <td>151841.117979</td>\n",
       "      <td>Monaco</td>\n",
       "    </tr>\n",
       "    <tr>\n",
       "      <th>96</th>\n",
       "      <td>Jordan</td>\n",
       "      <td>JOR</td>\n",
       "      <td>NY.GDP.PCAP.CD</td>\n",
       "      <td>GDP per capita (current US$)</td>\n",
       "      <td>2021</td>\n",
       "      <td>4405.839424</td>\n",
       "      <td>Jordan</td>\n",
       "      <td>JOR</td>\n",
       "      <td>Asia</td>\n",
       "      <td>156246.957403</td>\n",
       "      <td>Monaco</td>\n",
       "    </tr>\n",
       "    <tr>\n",
       "      <th>57</th>\n",
       "      <td>El Salvador</td>\n",
       "      <td>SLV</td>\n",
       "      <td>NY.GDP.PCAP.CD</td>\n",
       "      <td>GDP per capita (current US$)</td>\n",
       "      <td>2021</td>\n",
       "      <td>4408.520365</td>\n",
       "      <td>El Salvador</td>\n",
       "      <td>SLV</td>\n",
       "      <td>North America</td>\n",
       "      <td>160655.477768</td>\n",
       "      <td>Monaco</td>\n",
       "    </tr>\n",
       "    <tr>\n",
       "      <th>19</th>\n",
       "      <td>Belize</td>\n",
       "      <td>BLZ</td>\n",
       "      <td>NY.GDP.PCAP.CD</td>\n",
       "      <td>GDP per capita (current US$)</td>\n",
       "      <td>2021</td>\n",
       "      <td>4420.491372</td>\n",
       "      <td>Belize</td>\n",
       "      <td>BLZ</td>\n",
       "      <td>North America</td>\n",
       "      <td>165075.969140</td>\n",
       "      <td>Monaco</td>\n",
       "    </tr>\n",
       "    <tr>\n",
       "      <th>126</th>\n",
       "      <td>Mongolia</td>\n",
       "      <td>MNG</td>\n",
       "      <td>NY.GDP.PCAP.CD</td>\n",
       "      <td>GDP per capita (current US$)</td>\n",
       "      <td>2021</td>\n",
       "      <td>4534.918589</td>\n",
       "      <td>Mongolia</td>\n",
       "      <td>MNG</td>\n",
       "      <td>Asia</td>\n",
       "      <td>169610.887729</td>\n",
       "      <td>Monaco</td>\n",
       "    </tr>\n",
       "  </tbody>\n",
       "</table>\n",
       "<p>83 rows × 11 columns</p>\n",
       "</div>"
      ],
      "text/plain": [
       "                 Country Name Country Code  Indicator Code  \\\n",
       "30                    Burundi          BDI  NY.GDP.PCAP.CD   \n",
       "171                   Somalia          SOM  NY.GDP.PCAP.CD   \n",
       "129                Mozambique          MOZ  NY.GDP.PCAP.CD   \n",
       "36   Central African Republic          CAF  NY.GDP.PCAP.CD   \n",
       "113                Madagascar          MDG  NY.GDP.PCAP.CD   \n",
       "..                        ...          ...             ...   \n",
       "87                  Indonesia          IDN  NY.GDP.PCAP.CD   \n",
       "96                     Jordan          JOR  NY.GDP.PCAP.CD   \n",
       "57                El Salvador          SLV  NY.GDP.PCAP.CD   \n",
       "19                     Belize          BLZ  NY.GDP.PCAP.CD   \n",
       "126                  Mongolia          MNG  NY.GDP.PCAP.CD   \n",
       "\n",
       "                   Indicator Name  Date        value  \\\n",
       "30   GDP per capita (current US$)  2021   236.795414   \n",
       "171  GDP per capita (current US$)  2021   445.779016   \n",
       "129  GDP per capita (current US$)  2021   500.444809   \n",
       "36   GDP per capita (current US$)  2021   511.484746   \n",
       "113  GDP per capita (current US$)  2021   514.905862   \n",
       "..                            ...   ...          ...   \n",
       "87   GDP per capita (current US$)  2021  4291.812554   \n",
       "96   GDP per capita (current US$)  2021  4405.839424   \n",
       "57   GDP per capita (current US$)  2021  4408.520365   \n",
       "19   GDP per capita (current US$)  2021  4420.491372   \n",
       "126  GDP per capita (current US$)  2021  4534.918589   \n",
       "\n",
       "                      country iso_alpha      continent         cumsum Highest  \n",
       "30                    Burundi       BDI         Africa     236.795414  Monaco  \n",
       "171                   Somalia       SOM         Africa     682.574431  Monaco  \n",
       "129                Mozambique       MOZ         Africa    1183.019239  Monaco  \n",
       "36   Central African Republic       CAF         Africa    1694.503985  Monaco  \n",
       "113                Madagascar       MDG         Africa    2209.409847  Monaco  \n",
       "..                        ...       ...            ...            ...     ...  \n",
       "87                  Indonesia       IDN           Asia  151841.117979  Monaco  \n",
       "96                     Jordan       JOR           Asia  156246.957403  Monaco  \n",
       "57                El Salvador       SLV  North America  160655.477768  Monaco  \n",
       "19                     Belize       BLZ  North America  165075.969140  Monaco  \n",
       "126                  Mongolia       MNG           Asia  169610.887729  Monaco  \n",
       "\n",
       "[83 rows x 11 columns]"
      ]
     },
     "execution_count": 153,
     "metadata": {},
     "output_type": "execute_result"
    }
   ],
   "source": [
    "lowest_df"
   ]
  },
  {
   "cell_type": "code",
   "execution_count": 152,
   "metadata": {},
   "outputs": [
    {
     "data": {
      "application/vnd.plotly.v1+json": {
       "config": {
        "plotlyServerURL": "https://plot.ly"
       },
       "data": [
        {
         "branchvalues": "total",
         "customdata": [
          [
           "Asia"
          ],
          [
           "Africa"
          ],
          [
           "Africa"
          ],
          [
           "Asia"
          ],
          [
           "Africa"
          ],
          [
           "Asia"
          ],
          [
           "Africa"
          ],
          [
           "Africa"
          ],
          [
           "Oceania"
          ],
          [
           "Africa"
          ],
          [
           "Asia"
          ],
          [
           "Africa"
          ],
          [
           "Asia"
          ],
          [
           "North America"
          ],
          [
           "Asia"
          ],
          [
           "Africa"
          ],
          [
           "Africa"
          ],
          [
           "Asia"
          ],
          [
           "Africa"
          ],
          [
           "Africa"
          ],
          [
           "Africa"
          ],
          [
           "Oceania"
          ],
          [
           "Africa"
          ],
          [
           "Africa"
          ],
          [
           "Africa"
          ],
          [
           "Africa"
          ],
          [
           "Africa"
          ],
          [
           "Africa"
          ],
          [
           "Asia"
          ],
          [
           "North America"
          ],
          [
           "Africa"
          ],
          [
           "South America"
          ],
          [
           "Africa"
          ],
          [
           "Africa"
          ],
          [
           "Africa"
          ],
          [
           "Asia"
          ],
          [
           "Africa"
          ],
          [
           "Africa"
          ],
          [
           "Africa"
          ],
          [
           "Africa"
          ],
          [
           "Africa"
          ],
          [
           "Africa"
          ],
          [
           "Africa"
          ],
          [
           "North America"
          ],
          [
           "Africa"
          ],
          [
           "Africa"
          ],
          [
           "Asia"
          ],
          [
           "Asia"
          ],
          [
           "North America"
          ],
          [
           "Africa"
          ],
          [
           "Asia"
          ],
          [
           "Africa"
          ],
          [
           "North America"
          ],
          [
           "Asia"
          ],
          [
           "Asia"
          ],
          [
           "Asia"
          ],
          [
           "Asia"
          ],
          [
           "Asia"
          ],
          [
           "Africa"
          ],
          [
           "Africa"
          ],
          [
           "Asia"
          ],
          [
           "Asia"
          ],
          [
           "Africa"
          ],
          [
           "Africa"
          ],
          [
           "Africa"
          ],
          [
           "Africa"
          ],
          [
           "Asia"
          ],
          [
           "Asia"
          ],
          [
           "Oceania"
          ],
          [
           "Africa"
          ],
          [
           "Asia"
          ],
          [
           "Africa"
          ],
          [
           "Africa"
          ],
          [
           "Oceania"
          ],
          [
           "Africa"
          ],
          [
           "Oceania"
          ],
          [
           "Asia"
          ],
          [
           "Africa"
          ],
          [
           "Asia"
          ],
          [
           "Africa"
          ],
          [
           "Africa"
          ],
          [
           "Oceania"
          ],
          [
           "Oceania"
          ],
          [
           "(?)"
          ]
         ],
         "domain": {
          "x": [
           0,
           1
          ],
          "y": [
           0,
           1
          ]
         },
         "hovertemplate": "%{label}<br>Yearly Income ($): %{value}<br>Continent: %{customdata[0]}",
         "ids": [
          "Monaco/Afghanistan",
          "Monaco/Guinea",
          "Monaco/Guinea-Bissau",
          "Monaco/Iran, Islamic Rep.",
          "Monaco/Kenya",
          "Monaco/Lebanon",
          "Monaco/Lesotho",
          "Monaco/Madagascar",
          "Monaco/Marshall Islands",
          "Monaco/Mauritania",
          "Monaco/Mongolia",
          "Monaco/Morocco",
          "Monaco/Nepal",
          "Monaco/Nicaragua",
          "Monaco/Pakistan",
          "Monaco/Sierra Leone",
          "Monaco/Somalia",
          "Monaco/Sri Lanka",
          "Monaco/Tanzania",
          "Monaco/Togo",
          "Monaco/Tunisia",
          "Monaco/Vanuatu",
          "Monaco/Ghana",
          "Monaco/Gambia, The",
          "Monaco/Liberia",
          "Monaco/Eswatini",
          "Monaco/Algeria",
          "Monaco/Angola",
          "Monaco/Bangladesh",
          "Monaco/Belize",
          "Monaco/Benin",
          "Monaco/Bolivia",
          "Monaco/Burkina Faso",
          "Monaco/Ethiopia",
          "Monaco/Cabo Verde",
          "Monaco/Cambodia",
          "Monaco/Central African Republic",
          "Monaco/Chad",
          "Monaco/Comoros",
          "Monaco/Congo, Dem. Rep.",
          "Monaco/Burundi",
          "Monaco/Cote d'Ivoire",
          "Monaco/Eritrea",
          "Monaco/El Salvador",
          "Monaco/Egypt, Arab Rep.",
          "Monaco/Congo, Rep.",
          "Monaco/India",
          "Monaco/Bhutan",
          "Monaco/Honduras",
          "Monaco/Sudan",
          "Monaco/Syrian Arab Republic",
          "Monaco/Sao Tome and Principe",
          "Monaco/Haiti",
          "Monaco/Timor-Leste",
          "Monaco/Vietnam",
          "Monaco/West Bank and Gaza",
          "Monaco/Tajikistan",
          "Monaco/Philippines",
          "Monaco/Zimbabwe",
          "Monaco/Mozambique",
          "Monaco/Indonesia",
          "Monaco/Lao PDR",
          "Monaco/Nigeria",
          "Monaco/Niger",
          "Monaco/Mali",
          "Monaco/Djibouti",
          "Monaco/Jordan",
          "Monaco/Kyrgyz Republic",
          "Monaco/Papua New Guinea",
          "Monaco/Cameroon",
          "Monaco/Yemen, Rep.",
          "Monaco/Malawi",
          "Monaco/Rwanda",
          "Monaco/Micronesia, Fed. Sts.",
          "Monaco/Zambia",
          "Monaco/Kiribati",
          "Monaco/Myanmar",
          "Monaco/Uganda",
          "Monaco/Uzbekistan",
          "Monaco/South Sudan",
          "Monaco/Senegal",
          "Monaco/Samoa",
          "Monaco/Solomon Islands",
          "Monaco"
         ],
         "labels": [
          "Afghanistan",
          "Guinea",
          "Guinea-Bissau",
          "Iran, Islamic Rep.",
          "Kenya",
          "Lebanon",
          "Lesotho",
          "Madagascar",
          "Marshall Islands",
          "Mauritania",
          "Mongolia",
          "Morocco",
          "Nepal",
          "Nicaragua",
          "Pakistan",
          "Sierra Leone",
          "Somalia",
          "Sri Lanka",
          "Tanzania",
          "Togo",
          "Tunisia",
          "Vanuatu",
          "Ghana",
          "Gambia, The",
          "Liberia",
          "Eswatini",
          "Algeria",
          "Angola",
          "Bangladesh",
          "Belize",
          "Benin",
          "Bolivia",
          "Burkina Faso",
          "Ethiopia",
          "Cabo Verde",
          "Cambodia",
          "Central African Republic",
          "Chad",
          "Comoros",
          "Congo, Dem. Rep.",
          "Burundi",
          "Cote d'Ivoire",
          "Eritrea",
          "El Salvador",
          "Egypt, Arab Rep.",
          "Congo, Rep.",
          "India",
          "Bhutan",
          "Honduras",
          "Sudan",
          "Syrian Arab Republic",
          "Sao Tome and Principe",
          "Haiti",
          "Timor-Leste",
          "Vietnam",
          "West Bank and Gaza",
          "Tajikistan",
          "Philippines",
          "Zimbabwe",
          "Mozambique",
          "Indonesia",
          "Lao PDR",
          "Nigeria",
          "Niger",
          "Mali",
          "Djibouti",
          "Jordan",
          "Kyrgyz Republic",
          "Papua New Guinea",
          "Cameroon",
          "Yemen, Rep.",
          "Malawi",
          "Rwanda",
          "Micronesia, Fed. Sts.",
          "Zambia",
          "Kiribati",
          "Myanmar",
          "Uganda",
          "Uzbekistan",
          "South Sudan",
          "Senegal",
          "Samoa",
          "Solomon Islands",
          "Monaco"
         ],
         "marker": {
          "colors": [
           "rgb(102,194,165)",
           "rgb(252,141,98)",
           "rgb(252,141,98)",
           "rgb(102,194,165)",
           "rgb(252,141,98)",
           "rgb(102,194,165)",
           "rgb(252,141,98)",
           "rgb(252,141,98)",
           "rgb(141,160,203)",
           "rgb(252,141,98)",
           "rgb(102,194,165)",
           "rgb(252,141,98)",
           "rgb(102,194,165)",
           "rgb(231,138,195)",
           "rgb(102,194,165)",
           "rgb(252,141,98)",
           "rgb(252,141,98)",
           "rgb(102,194,165)",
           "rgb(252,141,98)",
           "rgb(252,141,98)",
           "rgb(252,141,98)",
           "rgb(141,160,203)",
           "rgb(252,141,98)",
           "rgb(252,141,98)",
           "rgb(252,141,98)",
           "rgb(252,141,98)",
           "rgb(252,141,98)",
           "rgb(252,141,98)",
           "rgb(102,194,165)",
           "rgb(231,138,195)",
           "rgb(252,141,98)",
           "rgb(166,216,84)",
           "rgb(252,141,98)",
           "rgb(252,141,98)",
           "rgb(252,141,98)",
           "rgb(102,194,165)",
           "rgb(252,141,98)",
           "rgb(252,141,98)",
           "rgb(252,141,98)",
           "rgb(252,141,98)",
           "rgb(252,141,98)",
           "rgb(252,141,98)",
           "rgb(252,141,98)",
           "rgb(231,138,195)",
           "rgb(252,141,98)",
           "rgb(252,141,98)",
           "rgb(102,194,165)",
           "rgb(102,194,165)",
           "rgb(231,138,195)",
           "rgb(252,141,98)",
           "rgb(102,194,165)",
           "rgb(252,141,98)",
           "rgb(231,138,195)",
           "rgb(102,194,165)",
           "rgb(102,194,165)",
           "rgb(102,194,165)",
           "rgb(102,194,165)",
           "rgb(102,194,165)",
           "rgb(252,141,98)",
           "rgb(252,141,98)",
           "rgb(102,194,165)",
           "rgb(102,194,165)",
           "rgb(252,141,98)",
           "rgb(252,141,98)",
           "rgb(252,141,98)",
           "rgb(252,141,98)",
           "rgb(102,194,165)",
           "rgb(102,194,165)",
           "rgb(141,160,203)",
           "rgb(252,141,98)",
           "rgb(102,194,165)",
           "rgb(252,141,98)",
           "rgb(252,141,98)",
           "rgb(141,160,203)",
           "rgb(252,141,98)",
           "rgb(141,160,203)",
           "rgb(102,194,165)",
           "rgb(252,141,98)",
           "rgb(102,194,165)",
           "rgb(252,141,98)",
           "rgb(252,141,98)",
           "rgb(141,160,203)",
           "rgb(141,160,203)",
           "rgb(255,217,47)"
          ]
         },
         "name": "",
         "parents": [
          "Monaco",
          "Monaco",
          "Monaco",
          "Monaco",
          "Monaco",
          "Monaco",
          "Monaco",
          "Monaco",
          "Monaco",
          "Monaco",
          "Monaco",
          "Monaco",
          "Monaco",
          "Monaco",
          "Monaco",
          "Monaco",
          "Monaco",
          "Monaco",
          "Monaco",
          "Monaco",
          "Monaco",
          "Monaco",
          "Monaco",
          "Monaco",
          "Monaco",
          "Monaco",
          "Monaco",
          "Monaco",
          "Monaco",
          "Monaco",
          "Monaco",
          "Monaco",
          "Monaco",
          "Monaco",
          "Monaco",
          "Monaco",
          "Monaco",
          "Monaco",
          "Monaco",
          "Monaco",
          "Monaco",
          "Monaco",
          "Monaco",
          "Monaco",
          "Monaco",
          "Monaco",
          "Monaco",
          "Monaco",
          "Monaco",
          "Monaco",
          "Monaco",
          "Monaco",
          "Monaco",
          "Monaco",
          "Monaco",
          "Monaco",
          "Monaco",
          "Monaco",
          "Monaco",
          "Monaco",
          "Monaco",
          "Monaco",
          "Monaco",
          "Monaco",
          "Monaco",
          "Monaco",
          "Monaco",
          "Monaco",
          "Monaco",
          "Monaco",
          "Monaco",
          "Monaco",
          "Monaco",
          "Monaco",
          "Monaco",
          "Monaco",
          "Monaco",
          "Monaco",
          "Monaco",
          "Monaco",
          "Monaco",
          "Monaco",
          "Monaco",
          ""
         ],
         "type": "treemap",
         "values": [
          516.747870807558,
          1174.35297194486,
          812.962373003605,
          2756.74997687567,
          2006.8322400859,
          2670.44195648525,
          1166.46166656205,
          514.905861752454,
          4170.98191821262,
          1723.01386575365,
          4534.91858863581,
          3496.75830078125,
          1222.87879372246,
          2090.75346113141,
          1537.93641065523,
          515.932091834125,
          445.779016473609,
          3814.71521902039,
          1135.53967285156,
          992.328429362491,
          3924.34392482058,
          3127.44624774101,
          2445.29074932761,
          835.594421389388,
          673.089067079932,
          4214.86168781553,
          3765.03462494702,
          2137.90939339084,
          2503.04388008424,
          4420.4913723374,
          1428.44717671325,
          3414.89284856087,
          918.15258192146,
          943.965684225205,
          3445.75653621,
          1590.95665957308,
          511.484745592238,
          696.422775532126,
          1494.68769339899,
          584.106409215842,
          236.795414165095,
          2578.76041204832,
          642.508258796603,
          4408.52036511467,
          3876.35959373349,
          2213.88086288172,
          2277.43434674354,
          3000.77798595652,
          2831.03302075308,
          764.341003417969,
          1265.60619039693,
          2449.33344243627,
          1814.67404841047,
          1457.82512795863,
          3694.01904621852,
          3663.96905468875,
          897.087901986119,
          3548.82832258057,
          1737.17397698043,
          500.444808525879,
          4291.81255449121,
          2551.32608148502,
          2085.03076477936,
          594.925108871258,
          917.913063250557,
          3363.71204814366,
          4405.8394238352,
          1276.24264327528,
          2916.35734883159,
          1661.70210527032,
          690.759273019397,
          642.656915782777,
          833.829875672994,
          3476.6508946194,
          1120.63017052477,
          1514.59105909467,
          1187.23848416853,
          858.05751272836,
          1983.06472288992,
          1119.65143716565,
          1606.47206087311,
          3939.1136961541,
          2336.96813417731,
          169610.88772872646
         ]
        }
       ],
       "layout": {
        "legend": {
         "tracegroupgap": 0
        },
        "margin": {
         "b": 25,
         "l": 25,
         "r": 25,
         "t": 50
        },
        "template": {
         "data": {
          "bar": [
           {
            "error_x": {
             "color": "#2a3f5f"
            },
            "error_y": {
             "color": "#2a3f5f"
            },
            "marker": {
             "line": {
              "color": "#E5ECF6",
              "width": 0.5
             },
             "pattern": {
              "fillmode": "overlay",
              "size": 10,
              "solidity": 0.2
             }
            },
            "type": "bar"
           }
          ],
          "barpolar": [
           {
            "marker": {
             "line": {
              "color": "#E5ECF6",
              "width": 0.5
             },
             "pattern": {
              "fillmode": "overlay",
              "size": 10,
              "solidity": 0.2
             }
            },
            "type": "barpolar"
           }
          ],
          "carpet": [
           {
            "aaxis": {
             "endlinecolor": "#2a3f5f",
             "gridcolor": "white",
             "linecolor": "white",
             "minorgridcolor": "white",
             "startlinecolor": "#2a3f5f"
            },
            "baxis": {
             "endlinecolor": "#2a3f5f",
             "gridcolor": "white",
             "linecolor": "white",
             "minorgridcolor": "white",
             "startlinecolor": "#2a3f5f"
            },
            "type": "carpet"
           }
          ],
          "choropleth": [
           {
            "colorbar": {
             "outlinewidth": 0,
             "ticks": ""
            },
            "type": "choropleth"
           }
          ],
          "contour": [
           {
            "colorbar": {
             "outlinewidth": 0,
             "ticks": ""
            },
            "colorscale": [
             [
              0,
              "#0d0887"
             ],
             [
              0.1111111111111111,
              "#46039f"
             ],
             [
              0.2222222222222222,
              "#7201a8"
             ],
             [
              0.3333333333333333,
              "#9c179e"
             ],
             [
              0.4444444444444444,
              "#bd3786"
             ],
             [
              0.5555555555555556,
              "#d8576b"
             ],
             [
              0.6666666666666666,
              "#ed7953"
             ],
             [
              0.7777777777777778,
              "#fb9f3a"
             ],
             [
              0.8888888888888888,
              "#fdca26"
             ],
             [
              1,
              "#f0f921"
             ]
            ],
            "type": "contour"
           }
          ],
          "contourcarpet": [
           {
            "colorbar": {
             "outlinewidth": 0,
             "ticks": ""
            },
            "type": "contourcarpet"
           }
          ],
          "heatmap": [
           {
            "colorbar": {
             "outlinewidth": 0,
             "ticks": ""
            },
            "colorscale": [
             [
              0,
              "#0d0887"
             ],
             [
              0.1111111111111111,
              "#46039f"
             ],
             [
              0.2222222222222222,
              "#7201a8"
             ],
             [
              0.3333333333333333,
              "#9c179e"
             ],
             [
              0.4444444444444444,
              "#bd3786"
             ],
             [
              0.5555555555555556,
              "#d8576b"
             ],
             [
              0.6666666666666666,
              "#ed7953"
             ],
             [
              0.7777777777777778,
              "#fb9f3a"
             ],
             [
              0.8888888888888888,
              "#fdca26"
             ],
             [
              1,
              "#f0f921"
             ]
            ],
            "type": "heatmap"
           }
          ],
          "heatmapgl": [
           {
            "colorbar": {
             "outlinewidth": 0,
             "ticks": ""
            },
            "colorscale": [
             [
              0,
              "#0d0887"
             ],
             [
              0.1111111111111111,
              "#46039f"
             ],
             [
              0.2222222222222222,
              "#7201a8"
             ],
             [
              0.3333333333333333,
              "#9c179e"
             ],
             [
              0.4444444444444444,
              "#bd3786"
             ],
             [
              0.5555555555555556,
              "#d8576b"
             ],
             [
              0.6666666666666666,
              "#ed7953"
             ],
             [
              0.7777777777777778,
              "#fb9f3a"
             ],
             [
              0.8888888888888888,
              "#fdca26"
             ],
             [
              1,
              "#f0f921"
             ]
            ],
            "type": "heatmapgl"
           }
          ],
          "histogram": [
           {
            "marker": {
             "pattern": {
              "fillmode": "overlay",
              "size": 10,
              "solidity": 0.2
             }
            },
            "type": "histogram"
           }
          ],
          "histogram2d": [
           {
            "colorbar": {
             "outlinewidth": 0,
             "ticks": ""
            },
            "colorscale": [
             [
              0,
              "#0d0887"
             ],
             [
              0.1111111111111111,
              "#46039f"
             ],
             [
              0.2222222222222222,
              "#7201a8"
             ],
             [
              0.3333333333333333,
              "#9c179e"
             ],
             [
              0.4444444444444444,
              "#bd3786"
             ],
             [
              0.5555555555555556,
              "#d8576b"
             ],
             [
              0.6666666666666666,
              "#ed7953"
             ],
             [
              0.7777777777777778,
              "#fb9f3a"
             ],
             [
              0.8888888888888888,
              "#fdca26"
             ],
             [
              1,
              "#f0f921"
             ]
            ],
            "type": "histogram2d"
           }
          ],
          "histogram2dcontour": [
           {
            "colorbar": {
             "outlinewidth": 0,
             "ticks": ""
            },
            "colorscale": [
             [
              0,
              "#0d0887"
             ],
             [
              0.1111111111111111,
              "#46039f"
             ],
             [
              0.2222222222222222,
              "#7201a8"
             ],
             [
              0.3333333333333333,
              "#9c179e"
             ],
             [
              0.4444444444444444,
              "#bd3786"
             ],
             [
              0.5555555555555556,
              "#d8576b"
             ],
             [
              0.6666666666666666,
              "#ed7953"
             ],
             [
              0.7777777777777778,
              "#fb9f3a"
             ],
             [
              0.8888888888888888,
              "#fdca26"
             ],
             [
              1,
              "#f0f921"
             ]
            ],
            "type": "histogram2dcontour"
           }
          ],
          "mesh3d": [
           {
            "colorbar": {
             "outlinewidth": 0,
             "ticks": ""
            },
            "type": "mesh3d"
           }
          ],
          "parcoords": [
           {
            "line": {
             "colorbar": {
              "outlinewidth": 0,
              "ticks": ""
             }
            },
            "type": "parcoords"
           }
          ],
          "pie": [
           {
            "automargin": true,
            "type": "pie"
           }
          ],
          "scatter": [
           {
            "marker": {
             "colorbar": {
              "outlinewidth": 0,
              "ticks": ""
             }
            },
            "type": "scatter"
           }
          ],
          "scatter3d": [
           {
            "line": {
             "colorbar": {
              "outlinewidth": 0,
              "ticks": ""
             }
            },
            "marker": {
             "colorbar": {
              "outlinewidth": 0,
              "ticks": ""
             }
            },
            "type": "scatter3d"
           }
          ],
          "scattercarpet": [
           {
            "marker": {
             "colorbar": {
              "outlinewidth": 0,
              "ticks": ""
             }
            },
            "type": "scattercarpet"
           }
          ],
          "scattergeo": [
           {
            "marker": {
             "colorbar": {
              "outlinewidth": 0,
              "ticks": ""
             }
            },
            "type": "scattergeo"
           }
          ],
          "scattergl": [
           {
            "marker": {
             "colorbar": {
              "outlinewidth": 0,
              "ticks": ""
             }
            },
            "type": "scattergl"
           }
          ],
          "scattermapbox": [
           {
            "marker": {
             "colorbar": {
              "outlinewidth": 0,
              "ticks": ""
             }
            },
            "type": "scattermapbox"
           }
          ],
          "scatterpolar": [
           {
            "marker": {
             "colorbar": {
              "outlinewidth": 0,
              "ticks": ""
             }
            },
            "type": "scatterpolar"
           }
          ],
          "scatterpolargl": [
           {
            "marker": {
             "colorbar": {
              "outlinewidth": 0,
              "ticks": ""
             }
            },
            "type": "scatterpolargl"
           }
          ],
          "scatterternary": [
           {
            "marker": {
             "colorbar": {
              "outlinewidth": 0,
              "ticks": ""
             }
            },
            "type": "scatterternary"
           }
          ],
          "surface": [
           {
            "colorbar": {
             "outlinewidth": 0,
             "ticks": ""
            },
            "colorscale": [
             [
              0,
              "#0d0887"
             ],
             [
              0.1111111111111111,
              "#46039f"
             ],
             [
              0.2222222222222222,
              "#7201a8"
             ],
             [
              0.3333333333333333,
              "#9c179e"
             ],
             [
              0.4444444444444444,
              "#bd3786"
             ],
             [
              0.5555555555555556,
              "#d8576b"
             ],
             [
              0.6666666666666666,
              "#ed7953"
             ],
             [
              0.7777777777777778,
              "#fb9f3a"
             ],
             [
              0.8888888888888888,
              "#fdca26"
             ],
             [
              1,
              "#f0f921"
             ]
            ],
            "type": "surface"
           }
          ],
          "table": [
           {
            "cells": {
             "fill": {
              "color": "#EBF0F8"
             },
             "line": {
              "color": "white"
             }
            },
            "header": {
             "fill": {
              "color": "#C8D4E3"
             },
             "line": {
              "color": "white"
             }
            },
            "type": "table"
           }
          ]
         },
         "layout": {
          "annotationdefaults": {
           "arrowcolor": "#2a3f5f",
           "arrowhead": 0,
           "arrowwidth": 1
          },
          "autotypenumbers": "strict",
          "coloraxis": {
           "colorbar": {
            "outlinewidth": 0,
            "ticks": ""
           }
          },
          "colorscale": {
           "diverging": [
            [
             0,
             "#8e0152"
            ],
            [
             0.1,
             "#c51b7d"
            ],
            [
             0.2,
             "#de77ae"
            ],
            [
             0.3,
             "#f1b6da"
            ],
            [
             0.4,
             "#fde0ef"
            ],
            [
             0.5,
             "#f7f7f7"
            ],
            [
             0.6,
             "#e6f5d0"
            ],
            [
             0.7,
             "#b8e186"
            ],
            [
             0.8,
             "#7fbc41"
            ],
            [
             0.9,
             "#4d9221"
            ],
            [
             1,
             "#276419"
            ]
           ],
           "sequential": [
            [
             0,
             "#0d0887"
            ],
            [
             0.1111111111111111,
             "#46039f"
            ],
            [
             0.2222222222222222,
             "#7201a8"
            ],
            [
             0.3333333333333333,
             "#9c179e"
            ],
            [
             0.4444444444444444,
             "#bd3786"
            ],
            [
             0.5555555555555556,
             "#d8576b"
            ],
            [
             0.6666666666666666,
             "#ed7953"
            ],
            [
             0.7777777777777778,
             "#fb9f3a"
            ],
            [
             0.8888888888888888,
             "#fdca26"
            ],
            [
             1,
             "#f0f921"
            ]
           ],
           "sequentialminus": [
            [
             0,
             "#0d0887"
            ],
            [
             0.1111111111111111,
             "#46039f"
            ],
            [
             0.2222222222222222,
             "#7201a8"
            ],
            [
             0.3333333333333333,
             "#9c179e"
            ],
            [
             0.4444444444444444,
             "#bd3786"
            ],
            [
             0.5555555555555556,
             "#d8576b"
            ],
            [
             0.6666666666666666,
             "#ed7953"
            ],
            [
             0.7777777777777778,
             "#fb9f3a"
            ],
            [
             0.8888888888888888,
             "#fdca26"
            ],
            [
             1,
             "#f0f921"
            ]
           ]
          },
          "colorway": [
           "#636efa",
           "#EF553B",
           "#00cc96",
           "#ab63fa",
           "#FFA15A",
           "#19d3f3",
           "#FF6692",
           "#B6E880",
           "#FF97FF",
           "#FECB52"
          ],
          "font": {
           "color": "#2a3f5f"
          },
          "geo": {
           "bgcolor": "white",
           "lakecolor": "white",
           "landcolor": "#E5ECF6",
           "showlakes": true,
           "showland": true,
           "subunitcolor": "white"
          },
          "hoverlabel": {
           "align": "left"
          },
          "hovermode": "closest",
          "mapbox": {
           "style": "light"
          },
          "paper_bgcolor": "white",
          "plot_bgcolor": "#E5ECF6",
          "polar": {
           "angularaxis": {
            "gridcolor": "white",
            "linecolor": "white",
            "ticks": ""
           },
           "bgcolor": "#E5ECF6",
           "radialaxis": {
            "gridcolor": "white",
            "linecolor": "white",
            "ticks": ""
           }
          },
          "scene": {
           "xaxis": {
            "backgroundcolor": "#E5ECF6",
            "gridcolor": "white",
            "gridwidth": 2,
            "linecolor": "white",
            "showbackground": true,
            "ticks": "",
            "zerolinecolor": "white"
           },
           "yaxis": {
            "backgroundcolor": "#E5ECF6",
            "gridcolor": "white",
            "gridwidth": 2,
            "linecolor": "white",
            "showbackground": true,
            "ticks": "",
            "zerolinecolor": "white"
           },
           "zaxis": {
            "backgroundcolor": "#E5ECF6",
            "gridcolor": "white",
            "gridwidth": 2,
            "linecolor": "white",
            "showbackground": true,
            "ticks": "",
            "zerolinecolor": "white"
           }
          },
          "shapedefaults": {
           "line": {
            "color": "#2a3f5f"
           }
          },
          "ternary": {
           "aaxis": {
            "gridcolor": "white",
            "linecolor": "white",
            "ticks": ""
           },
           "baxis": {
            "gridcolor": "white",
            "linecolor": "white",
            "ticks": ""
           },
           "bgcolor": "#E5ECF6",
           "caxis": {
            "gridcolor": "white",
            "linecolor": "white",
            "ticks": ""
           }
          },
          "title": {
           "x": 0.05
          },
          "xaxis": {
           "automargin": true,
           "gridcolor": "white",
           "linecolor": "white",
           "ticks": "",
           "title": {
            "standoff": 15
           },
           "zerolinecolor": "white",
           "zerolinewidth": 2
          },
          "yaxis": {
           "automargin": true,
           "gridcolor": "white",
           "linecolor": "white",
           "ticks": "",
           "title": {
            "standoff": 15
           },
           "zerolinecolor": "white",
           "zerolinewidth": 2
          }
         }
        },
        "treemapcolorway": [
         "rgb(102,194,165)",
         "rgb(252,141,98)",
         "rgb(141,160,203)",
         "rgb(231,138,195)",
         "rgb(166,216,84)",
         "rgb(255,217,47)",
         "rgb(229,196,148)",
         "rgb(179,179,179)"
        ]
       }
      }
     },
     "metadata": {},
     "output_type": "display_data"
    }
   ],
   "source": [
    "fig = px.treemap(lowest_df, path=['Highest', 'Country Name'], values='value',\n",
    "                  color='continent', \n",
    "                  color_discrete_sequence= px.colors.qualitative.Set2\n",
    "                  #color_discrete_map={'Europe':'blue', 'South America':'green', 'North America':\"green\", 'Asia':'yellow', 'Africa':'brown', 'Oceania':'purple'},\n",
    "                  #hover_data={'continent':False, 'country':False, 'pop':True, 'lifeExp':True, 'gdpPercap':True, 'year':False, 'Highest':False, 'value':True, 'cumsum':False},\n",
    "                  #color_continuous_scale='RdBu',\n",
    "                  #color_continuous_midpoint=np.average(lowest_df['lifeExp'], weights=lowest_df['pop'])\n",
    ")\n",
    "fig.update_layout(margin = dict(t=50, l=25, r=25, b=25))\n",
    "fig.data[0].hovertemplate = '%{label}<br>Yearly Income ($): %{value}<br>Continent: %{customdata[0]}'\n",
    "fig.show()"
   ]
  },
  {
   "cell_type": "code",
   "execution_count": 147,
   "metadata": {},
   "outputs": [
    {
     "data": {
      "text/plain": [
       "'labels=%{label}<br>value=%{value}<br>parent=%{parent}<br>id=%{id}<br>continent=%{customdata[0]}<extra></extra>'"
      ]
     },
     "execution_count": 147,
     "metadata": {},
     "output_type": "execute_result"
    }
   ],
   "source": [
    "fig.data[0].hovertemplate"
   ]
  },
  {
   "cell_type": "code",
   "execution_count": 207,
   "metadata": {},
   "outputs": [
    {
     "data": {
      "application/vnd.plotly.v1+json": {
       "config": {
        "plotlyServerURL": "https://plot.ly"
       },
       "data": [
        {
         "coloraxis": "coloraxis",
         "customdata": [
          [
           516.747870807558
          ],
          [
           1557.72268174541
          ],
          [
           1774.92121803027
          ],
          [
           6494.38571288581
          ],
          [
           3765.03462494702
          ],
          [
           12844.9009909959
          ],
          [
           43047.6862704034
          ],
          [
           2137.90939339084
          ],
          [
           14900.7974022154
          ],
          [
           6412.38920956596
          ],
          [
           10729.2325777217
          ],
          [
           4670.008798001
          ],
          [
           23384.2987907455
          ],
          [
           59934.1294088895
          ],
          [
           53267.9327491132
          ],
          [
           5384.03499804521
          ],
          [
           28239.3667142001
          ],
          [
           22232.3252265292
          ],
          [
           2503.04388008424
          ],
          [
           17033.9371863139
          ],
          [
           7303.69626589884
          ],
          [
           51767.7885723646
          ],
          [
           4420.4913723374
          ],
          [
           1428.44717671325
          ],
          [
           110869.463103011
          ],
          [
           3000.77798595652
          ],
          [
           3414.89284856087
          ],
          [
           6916.43831507661
          ],
          [
           7347.55238231951
          ],
          [
           7518.83428432838
          ],
          [
           31722.6601371588
          ],
          [
           11634.9710182244
          ],
          [
           918.15258192146
          ],
          [
           236.795414165095
          ],
          [
           3445.75653621
          ],
          [
           1590.95665957308
          ],
          [
           1661.70210527032
          ],
          [
           52051.3514647093
          ],
          [
           9352.28202838224
          ],
          [
           85346.7619526658
          ],
          [
           511.484745592238
          ],
          [
           18568.9933848981
          ],
          [
           696.422775532126
          ],
          [
           74463.0159204917
          ],
          [
           16502.8385709035
          ],
          [
           12556.3331200058
          ],
          [
           6131.22592153117
          ],
          [
           1494.68769339899
          ],
          [
           584.106409215842
          ],
          [
           2213.88086288172
          ],
          [
           12508.6156275756
          ],
          [
           2578.76041204832
          ],
          [
           17398.7659768108
          ],
          [
           9477.85287326771
          ],
          [
           16109.8616665506
          ],
          [
           30798.4765625
          ],
          [
           26378.4999575477
          ],
          [
           67803.0471046403
          ],
          [
           3363.71204814366
          ],
          [
           7559.9750390528
          ],
          [
           8603.78990518158
          ],
          [
           3739.95779025925
          ],
          [
           13037.4626411209
          ],
          [
           9884.67891392745
          ],
          [
           9776.49380942516
          ],
          [
           5934.87549580808
          ],
          [
           3876.35959373349
          ],
          [
           4408.52036511467
          ],
          [
           8462.28632962077
          ],
          [
           642.508258796603
          ],
          [
           27280.6584396993
          ],
          [
           4214.86168781553
          ],
          [
           943.965684225205
          ],
          [
           42307.7290448297
          ],
          [
           27114.2759902197
          ],
          [
           9782.54196718571
          ],
          [
           8708.06363752219
          ],
          [
           38234.1345970542
          ],
          [
           66320.6791976778
          ],
          [
           5085.97164195861
          ],
          [
           53982.6142735261
          ],
          [
           1826.39640076957
          ],
          [
           43518.5385130851
          ],
          [
           20182.5845029164
          ],
          [
           8016.99049546905
          ],
          [
           835.594421389388
          ],
          [
           5042.38552777387
          ],
          [
           50801.7867105308
          ],
          [
           2445.29074932761
          ],
          [
           20276.5446744075
          ],
          [
           54570.3750190141
          ],
          [
           9928.62173326713
          ],
          [
           34624.3401290414
          ],
          [
           5025.57557261451
          ],
          [
           1174.35297194486
          ],
          [
           812.962373003605
          ],
          [
           9374.80456982258
          ],
          [
           1814.67404841047
          ],
          [
           1057.91924158093
          ],
          [
           47886.7845890595
          ],
          [
           2831.03302075308
          ],
          [
           49660.6342382386
          ],
          [
           18772.6732920667
          ],
          [
           7241.95836327065
          ],
          [
           5720.3239225624
          ],
          [
           1857.42256209636
          ],
          [
           1254.26784612554
          ],
          [
           1456.41270360233
          ],
          [
           68383.7653362902
          ],
          [
           2277.43434674354
          ],
          [
           4291.81255449121
          ],
          [
           2756.74997687567
          ],
          [
           5048.38781272046
          ],
          [
           99152.1025718236
          ],
          [
           86481.5525905339
          ],
          [
           51430.0796810561
          ],
          [
           35551.2849900071
          ],
          [
           4586.65050896194
          ],
          [
           39285.1631062756
          ],
          [
           4405.8394238352
          ],
          [
           10041.4898386047
          ],
          [
           2006.8322400859
          ],
          [
           1514.59105909467
          ],
          [
           34757.7200705078
          ],
          [
           4986.58246912142
          ],
          [
           24811.7697100231
          ],
          [
           1276.24264327528
          ],
          [
           2551.32608148502
          ],
          [
           11452.8204130159
          ],
          [
           8340.3896002879
          ],
          [
           7727.16117181435
          ],
          [
           8100.57287507256
          ],
          [
           20642.1679221253
          ],
          [
           1176.97761667496
          ],
          [
           2670.44195648525
          ],
          [
           1166.46166656205
          ],
          [
           673.089067079932
          ],
          [
           6018.44520748105
          ],
          [
           169049.156850326
          ],
          [
           23433.3909073769
          ],
          [
           5530.43855319337
          ],
          [
           749.761380371283
          ],
          [
           2581.85719450806
          ],
          [
           135682.794274648
          ],
          [
           45421.6266348569
          ],
          [
           514.905861752454
          ],
          [
           642.656915782777
          ],
          [
           11371.099019281
          ],
          [
           8994.6413517504
          ],
          [
           917.913063250557
          ],
          [
           33257.4220345104
          ],
          [
           4170.98191821262
          ],
          [
           1723.01386575365
          ],
          [
           8812.10824897507
          ],
          [
           9926.42276755436
          ],
          [
           3476.6508946194
          ],
          [
           7696.86848007217
          ],
          [
           3611.60101144752
          ],
          [
           3612.2455326111
          ],
          [
           6102.00086882533
          ],
          [
           5314.53146055569
          ],
          [
           173688.189360292
          ],
          [
           4534.91858863581
          ],
          [
           9367.01688364836
          ],
          [
           3496.75830078125
          ],
          [
           500.444808525879
          ],
          [
           1187.23848416853
          ],
          [
           4729.27093735257
          ],
          [
           12252.2668014906
          ],
          [
           1222.87879372246
          ],
          [
           58061.0016679359
          ],
          [
           34694.5504017028
          ],
          [
           48801.6851279674
          ],
          [
           2090.75346113141
          ],
          [
           594.925108871258
          ],
          [
           2085.03076477936
          ],
          [
           67514.0231158812
          ],
          [
           6720.89628528501
          ],
          [
           20659.6402915421
          ],
          [
           89202.7505381438
          ],
          [
           42098.6459702322
          ],
          [
           16439.2964488787
          ],
          [
           13776.7558466645
          ],
          [
           3798.75277714128
          ],
          [
           1537.93641065523
          ],
          [
           14243.8646915764
          ],
          [
           14516.45804724
          ],
          [
           2916.35734883159
          ],
          [
           5400.10382635384
          ],
          [
           6692.24837450351
          ],
          [
           3548.82832258057
          ],
          [
           17840.9210506674
          ],
          [
           24262.1809352574
          ],
          [
           48916.1765681417
          ],
          [
           1437.2085016565
          ],
          [
           31429.8661176558
          ],
          [
           61275.9982687563
          ],
          [
           14861.9091737933
          ],
          [
           12172.78515625
          ],
          [
           833.829875672994
          ],
          [
           3939.1136961541
          ],
          [
           45515.7576957013
          ],
          [
           2449.33344243627
          ],
          [
           23585.8856300817
          ],
          [
           1606.47206087311
          ],
          [
           9214.99354640982
          ],
          [
           13306.7256006838
          ],
          [
           515.932091834125
          ],
          [
           72794.0030226738
          ],
          [
           28988.2592085877
          ],
          [
           21087.8461010057
          ],
          [
           29200.8198783863
          ],
          [
           12394.9259087059
          ],
          [
           2336.96813417731
          ],
          [
           445.779016473609
          ],
          [
           6994.21165355675
          ],
          [
           2176.77667126391
          ],
          [
           2176.77667126391
          ],
          [
           1119.65143716565
          ],
          [
           30115.7058866792
          ],
          [
           3814.71521902039
          ],
          [
           18230.1323472653
          ],
          [
           9570.99545736375
          ],
          [
           21459.319127858
          ],
          [
           7996.61400190845
          ],
          [
           1645.47294380133
          ],
          [
           1645.47294380133
          ],
          [
           1644.48036161356
          ],
          [
           764.341003417969
          ],
          [
           4836.33263325566
          ],
          [
           60238.9865644922
          ],
          [
           93457.4403976155
          ],
          [
           1265.60619039693
          ],
          [
           897.087901986119
          ],
          [
           1135.53967285156
          ],
          [
           7233.38885835752
          ],
          [
           1457.82512795863
          ],
          [
           992.328429362491
          ],
          [
           4624.82344882844
          ],
          [
           15243.1228674692
          ],
          [
           3924.34392482058
          ],
          [
           9586.61245005597
          ],
          [
           7612.03518009452
          ],
          [
           24047.0547086116
          ],
          [
           5291.48524431543
          ],
          [
           858.05751272836
          ],
          [
           4835.57177734375
          ],
          [
           36284.5552429552
          ],
          [
           47334.3553149875
          ],
          [
           69287.5365879523
          ],
          [
           10835.5231684532
          ],
          [
           17020.6486362969
          ],
          [
           1983.06472288992
          ],
          [
           3127.44624774101
          ],
          [
           16055.6453173826
          ],
          [
           3694.01904621852
          ],
          [
           39552.1685953523
          ],
          [
           3663.96905468875
          ],
          [
           12262.9346150446
          ],
          [
           690.759273019397
          ],
          [
           1120.63017052477
          ],
          [
           1737.17397698043
          ]
         ],
         "geo": "geo",
         "hovertemplate": "<b>%{hovertext}</b><br><br>Country Code=%{location}<br>GDP per capita (current US$)=%{customdata[0]}<br>Log of GDP per capita (current US$)=%{z}<extra></extra>",
         "hovertext": [
          "Afghanistan",
          "Africa Eastern and Southern",
          "Africa Western and Central",
          "Albania",
          "Algeria",
          "American Samoa",
          "Andorra",
          "Angola",
          "Antigua and Barbuda",
          "Arab World",
          "Argentina",
          "Armenia",
          "Aruba",
          "Australia",
          "Austria",
          "Azerbaijan",
          "Bahamas, The",
          "Bahrain",
          "Bangladesh",
          "Barbados",
          "Belarus",
          "Belgium",
          "Belize",
          "Benin",
          "Bermuda",
          "Bhutan",
          "Bolivia",
          "Bosnia and Herzegovina",
          "Botswana",
          "Brazil",
          "Brunei Darussalam",
          "Bulgaria",
          "Burkina Faso",
          "Burundi",
          "Cabo Verde",
          "Cambodia",
          "Cameroon",
          "Canada",
          "Caribbean small states",
          "Cayman Islands",
          "Central African Republic",
          "Central Europe and the Baltics",
          "Chad",
          "Channel Islands",
          "Chile",
          "China",
          "Colombia",
          "Comoros",
          "Congo, Dem. Rep.",
          "Congo, Rep.",
          "Costa Rica",
          "Cote d'Ivoire",
          "Croatia",
          "Cuba",
          "Curacao",
          "Cyprus",
          "Czech Republic",
          "Denmark",
          "Djibouti",
          "Dominica",
          "Dominican Republic",
          "Early-demographic dividend",
          "East Asia & Pacific",
          "East Asia & Pacific (IDA & IBRD countries)",
          "East Asia & Pacific (excluding high income)",
          "Ecuador",
          "Egypt, Arab Rep.",
          "El Salvador",
          "Equatorial Guinea",
          "Eritrea",
          "Estonia",
          "Eswatini",
          "Ethiopia",
          "Euro area",
          "Europe & Central Asia",
          "Europe & Central Asia (IDA & IBRD countries)",
          "Europe & Central Asia (excluding high income)",
          "European Union",
          "Faroe Islands",
          "Fiji",
          "Finland",
          "Fragile and conflict affected situations",
          "France",
          "French Polynesia",
          "Gabon",
          "Gambia, The",
          "Georgia",
          "Germany",
          "Ghana",
          "Greece",
          "Greenland",
          "Grenada",
          "Guam",
          "Guatemala",
          "Guinea",
          "Guinea-Bissau",
          "Guyana",
          "Haiti",
          "Heavily indebted poor countries (HIPC)",
          "High income",
          "Honduras",
          "Hong Kong SAR, China",
          "Hungary",
          "IBRD only",
          "IDA & IBRD total",
          "IDA blend",
          "IDA only",
          "IDA total",
          "Iceland",
          "India",
          "Indonesia",
          "Iran, Islamic Rep.",
          "Iraq",
          "Ireland",
          "Isle of Man",
          "Israel",
          "Italy",
          "Jamaica",
          "Japan",
          "Jordan",
          "Kazakhstan",
          "Kenya",
          "Kiribati",
          "Korea, Rep.",
          "Kosovo",
          "Kuwait",
          "Kyrgyz Republic",
          "Lao PDR",
          "Late-demographic dividend",
          "Latin America & Caribbean",
          "Latin America & Caribbean (excluding high income)",
          "Latin America & the Caribbean (IDA & IBRD countries)",
          "Latvia",
          "Least developed countries: UN classification",
          "Lebanon",
          "Lesotho",
          "Liberia",
          "Libya",
          "Liechtenstein",
          "Lithuania",
          "Low & middle income",
          "Low income",
          "Lower middle income",
          "Luxembourg",
          "Macao SAR, China",
          "Madagascar",
          "Malawi",
          "Malaysia",
          "Maldives",
          "Mali",
          "Malta",
          "Marshall Islands",
          "Mauritania",
          "Mauritius",
          "Mexico",
          "Micronesia, Fed. Sts.",
          "Middle East & North Africa",
          "Middle East & North Africa (IDA & IBRD countries)",
          "Middle East & North Africa (excluding high income)",
          "Middle income",
          "Moldova",
          "Monaco",
          "Mongolia",
          "Montenegro",
          "Morocco",
          "Mozambique",
          "Myanmar",
          "Namibia",
          "Nauru",
          "Nepal",
          "Netherlands",
          "New Caledonia",
          "New Zealand",
          "Nicaragua",
          "Niger",
          "Nigeria",
          "North America",
          "North Macedonia",
          "Northern Mariana Islands",
          "Norway",
          "OECD members",
          "Oman",
          "Other small states",
          "Pacific island small states",
          "Pakistan",
          "Palau",
          "Panama",
          "Papua New Guinea",
          "Paraguay",
          "Peru",
          "Philippines",
          "Poland",
          "Portugal",
          "Post-demographic dividend",
          "Pre-demographic dividend",
          "Puerto Rico",
          "Qatar",
          "Romania",
          "Russian Federation",
          "Rwanda",
          "Samoa",
          "San Marino",
          "Sao Tome and Principe",
          "Saudi Arabia",
          "Senegal",
          "Serbia",
          "Seychelles",
          "Sierra Leone",
          "Singapore",
          "Sint Maarten (Dutch part)",
          "Slovak Republic",
          "Slovenia",
          "Small states",
          "Solomon Islands",
          "Somalia",
          "South Africa",
          "South Asia",
          "South Asia (IDA & IBRD)",
          "South Sudan",
          "Spain",
          "Sri Lanka",
          "St. Kitts and Nevis",
          "St. Lucia",
          "St. Martin (French part)",
          "St. Vincent and the Grenadines",
          "Sub-Saharan Africa",
          "Sub-Saharan Africa (IDA & IBRD countries)",
          "Sub-Saharan Africa (excluding high income)",
          "Sudan",
          "Suriname",
          "Sweden",
          "Switzerland",
          "Syrian Arab Republic",
          "Tajikistan",
          "Tanzania",
          "Thailand",
          "Timor-Leste",
          "Togo",
          "Tonga",
          "Trinidad and Tobago",
          "Tunisia",
          "Turkiye",
          "Turkmenistan",
          "Turks and Caicos Islands",
          "Tuvalu",
          "Uganda",
          "Ukraine",
          "United Arab Emirates",
          "United Kingdom",
          "United States",
          "Upper middle income",
          "Uruguay",
          "Uzbekistan",
          "Vanuatu",
          "Venezuela, RB",
          "Vietnam",
          "Virgin Islands (U.S.)",
          "West Bank and Gaza",
          "World",
          "Yemen, Rep.",
          "Zambia",
          "Zimbabwe"
         ],
         "locations": [
          "AFG",
          "AFE",
          "AFW",
          "ALB",
          "DZA",
          "ASM",
          "AND",
          "AGO",
          "ATG",
          "ARB",
          "ARG",
          "ARM",
          "ABW",
          "AUS",
          "AUT",
          "AZE",
          "BHS",
          "BHR",
          "BGD",
          "BRB",
          "BLR",
          "BEL",
          "BLZ",
          "BEN",
          "BMU",
          "BTN",
          "BOL",
          "BIH",
          "BWA",
          "BRA",
          "BRN",
          "BGR",
          "BFA",
          "BDI",
          "CPV",
          "KHM",
          "CMR",
          "CAN",
          "CSS",
          "CYM",
          "CAF",
          "CEB",
          "TCD",
          "CHI",
          "CHL",
          "CHN",
          "COL",
          "COM",
          "COD",
          "COG",
          "CRI",
          "CIV",
          "HRV",
          "CUB",
          "CUW",
          "CYP",
          "CZE",
          "DNK",
          "DJI",
          "DMA",
          "DOM",
          "EAR",
          "EAS",
          "TEA",
          "EAP",
          "ECU",
          "EGY",
          "SLV",
          "GNQ",
          "ERI",
          "EST",
          "SWZ",
          "ETH",
          "EMU",
          "ECS",
          "TEC",
          "ECA",
          "EUU",
          "FRO",
          "FJI",
          "FIN",
          "FCS",
          "FRA",
          "PYF",
          "GAB",
          "GMB",
          "GEO",
          "DEU",
          "GHA",
          "GRC",
          "GRL",
          "GRD",
          "GUM",
          "GTM",
          "GIN",
          "GNB",
          "GUY",
          "HTI",
          "HPC",
          "HIC",
          "HND",
          "HKG",
          "HUN",
          "IBD",
          "IBT",
          "IDB",
          "IDX",
          "IDA",
          "ISL",
          "IND",
          "IDN",
          "IRN",
          "IRQ",
          "IRL",
          "IMN",
          "ISR",
          "ITA",
          "JAM",
          "JPN",
          "JOR",
          "KAZ",
          "KEN",
          "KIR",
          "KOR",
          "XKX",
          "KWT",
          "KGZ",
          "LAO",
          "LTE",
          "LCN",
          "LAC",
          "TLA",
          "LVA",
          "LDC",
          "LBN",
          "LSO",
          "LBR",
          "LBY",
          "LIE",
          "LTU",
          "LMY",
          "LIC",
          "LMC",
          "LUX",
          "MAC",
          "MDG",
          "MWI",
          "MYS",
          "MDV",
          "MLI",
          "MLT",
          "MHL",
          "MRT",
          "MUS",
          "MEX",
          "FSM",
          "MEA",
          "TMN",
          "MNA",
          "MIC",
          "MDA",
          "MCO",
          "MNG",
          "MNE",
          "MAR",
          "MOZ",
          "MMR",
          "NAM",
          "NRU",
          "NPL",
          "NLD",
          "NCL",
          "NZL",
          "NIC",
          "NER",
          "NGA",
          "NAC",
          "MKD",
          "MNP",
          "NOR",
          "OED",
          "OMN",
          "OSS",
          "PSS",
          "PAK",
          "PLW",
          "PAN",
          "PNG",
          "PRY",
          "PER",
          "PHL",
          "POL",
          "PRT",
          "PST",
          "PRE",
          "PRI",
          "QAT",
          "ROU",
          "RUS",
          "RWA",
          "WSM",
          "SMR",
          "STP",
          "SAU",
          "SEN",
          "SRB",
          "SYC",
          "SLE",
          "SGP",
          "SXM",
          "SVK",
          "SVN",
          "SST",
          "SLB",
          "SOM",
          "ZAF",
          "SAS",
          "TSA",
          "SSD",
          "ESP",
          "LKA",
          "KNA",
          "LCA",
          "MAF",
          "VCT",
          "SSF",
          "TSS",
          "SSA",
          "SDN",
          "SUR",
          "SWE",
          "CHE",
          "SYR",
          "TJK",
          "TZA",
          "THA",
          "TLS",
          "TGO",
          "TON",
          "TTO",
          "TUN",
          "TUR",
          "TKM",
          "TCA",
          "TUV",
          "UGA",
          "UKR",
          "ARE",
          "GBR",
          "USA",
          "UMC",
          "URY",
          "UZB",
          "VUT",
          "VEN",
          "VNM",
          "VIR",
          "PSE",
          "WLD",
          "YEM",
          "ZMB",
          "ZWE"
         ],
         "name": "",
         "type": "choropleth",
         "z": [
          2.713278695849043,
          3.1924901436396826,
          3.2491790811465817,
          3.812538078562136,
          3.57576897452192,
          4.10873076105625,
          4.633949813931369,
          3.329989295454511,
          4.173209509896548,
          3.8070198746360817,
          4.0305686596006325,
          3.6693176987501994,
          4.368924351542973,
          4.777674201235809,
          4.7264658427755615,
          3.731107874285852,
          4.45085495315837,
          4.3469848869113585,
          3.398468463156529,
          4.231315041424966,
          3.8635427041775445,
          4.714059613092105,
          3.645470547275267,
          3.1548641850154944,
          5.044811944417208,
          3.47723386512138,
          3.533377081074998,
          3.839882507995062,
          3.866142690936718,
          3.876150513048151,
          4.5013695983949065,
          4.065765305831524,
          2.9629148598288064,
          2.37437328748467,
          3.537284588632653,
          3.201658348870572,
          3.2205531700900347,
          4.716432010043405,
          3.970917594980486,
          4.931187048675523,
          2.7088326859388836,
          4.268788361508588,
          2.842872965670714,
          4.871940622146974,
          4.217558651465543,
          4.098862829030333,
          3.787547319171864,
          3.174550458745817,
          2.76649197164254,
          3.3451542461790136,
          4.097209247457333,
          3.4114109944997737,
          4.240518446646576,
          3.9767099627698066,
          4.207091811200616,
          4.4885292347841155,
          4.421250095278492,
          4.831249211728344,
          3.52681881077188,
          3.8785203615832797,
          3.9346897968648515,
          3.572866700713599,
          4.115193076964537,
          3.9949625666012007,
          3.9901831296100405,
          3.773411612582828,
          3.5884240579376434,
          3.6442928513518384,
          3.9274877160166075,
          2.807878714457402,
          4.435854848142695,
          3.624783327666796,
          2.9749562067742152,
          4.626419714299186,
          4.4331980123248425,
          3.990451719703623,
          3.939921594154512,
          4.5824512646837725,
          4.821648965224563,
          3.7063739343345334,
          4.732253912770968,
          3.261595042630528,
          4.638674301985154,
          4.304976779516583,
          3.9040113687205276,
          2.9219955318732627,
          3.7026360476442584,
          4.705878986789408,
          3.3883305048998804,
          4.306993948852038,
          4.736956938355783,
          3.996888964992762,
          4.53938150536357,
          3.7011858081215046,
          3.0697986511944526,
          2.910070445255734,
          3.971962223052311,
          3.258798628441363,
          3.02445251621106,
          4.68021567683985,
          3.4519449349416544,
          4.696012261823626,
          4.2735261220259435,
          3.8598560235666346,
          3.757420622114403,
          3.2689107166155016,
          3.098390289025049,
          3.1632844584247257,
          4.834953010174413,
          3.3574458661025655,
          3.6326407458363597,
          3.440397379603384,
          3.703152709638458,
          4.9963019280789815,
          4.9369234778398985,
          4.711217197177714,
          4.550855302786847,
          3.661495649263908,
          4.594228560612093,
          3.6440286647137246,
          4.001798153116103,
          3.3025110694231508,
          3.180295388777179,
          4.541051281203797,
          3.6978030058867217,
          4.394657741615517,
          3.1059332516715314,
          3.406765968738906,
          4.058912450778458,
          3.9211863380841674,
          3.888019970779987,
          3.90851573340768,
          4.314755306674824,
          3.070768203670125,
          3.426583142779929,
          3.0668704711416677,
          2.828072536411124,
          3.779484311021324,
          5.228013009019777,
          4.3698351373296935,
          3.742759571391515,
          2.8749230664888374,
          3.4119322172672364,
          5.1325247789395,
          4.657262683073783,
          2.7117278359178436,
          2.80797918544799,
          4.055802441375775,
          3.953983851165613,
          2.962801550549316,
          4.5218885816370005,
          3.6202383071228623,
          3.2362887723964135,
          3.9450798234360374,
          3.9967927679100694,
          3.541161083506878,
          3.8863140656335453,
          3.5576997659776444,
          3.5577772626364808,
          3.7854722651428387,
          3.7254649822996293,
          5.239770287819334,
          3.656569494963128,
          3.9716013030280424,
          3.543665614504079,
          2.699356188360116,
          3.0745379657576843,
          3.6747941952221446,
          4.08821644529692,
          3.087383413842415,
          4.76388452400521,
          4.540261263945491,
          4.688434818501524,
          3.3203028244088917,
          2.77446229875202,
          3.3191124674034653,
          4.8293939880801915,
          3.8274271935593935,
          4.315122755675454,
          4.950378245913357,
          4.6242681277332185,
          4.215883227139075,
          4.139146961855702,
          3.579641030586306,
          3.186938378981364,
          4.153627839477024,
          4.161860663320907,
          3.4648407381360213,
          3.73240210996724,
          3.825572050890866,
          3.5500849905114946,
          4.251417271390827,
          4.384929837156101,
          4.6894525039601005,
          3.1575197775637727,
          4.497342531049806,
          4.787290395225312,
          4.172074602855572,
          4.085389956997789,
          2.9210774516051994,
          3.595398516198766,
          4.658161776778802,
          3.389047912259292,
          4.372652188278827,
          3.205873176875305,
          3.9644950354032114,
          4.124071201342196,
          2.712592542552517,
          4.862095602370192,
          4.462222136058549,
          4.3240322234465465,
          4.465395045409386,
          4.093243935094453,
          3.36865279059278,
          2.649119621694238,
          3.844738770464068,
          3.337813874418686,
          3.337813874418686,
          3.049082841887793,
          4.478793047121303,
          3.5814621219961693,
          4.260789821561086,
          3.9809571101025356,
          4.331615938333327,
          3.902906133045267,
          3.2162907456675316,
          3.2162907456675316,
          3.21602869150442,
          2.8832871581333284,
          3.6845161631191425,
          4.779877656865436,
          4.9706138824403405,
          3.1022985904019045,
          2.9528349998747894,
          3.0552023119591265,
          3.859341812878046,
          3.1637054317203392,
          2.9966554336999156,
          3.665095158337086,
          4.1830739502826395,
          3.5937670614261847,
          3.98166517086725,
          3.881500786772841,
          4.381061891432173,
          3.723577589403081,
          2.9335163981324692,
          3.6844478341715603,
          4.55972180409624,
          4.675176466484554,
          4.84065512093397,
          4.034849885077812,
          4.23097610650044,
          3.2973368888574637,
          3.4951898540936495,
          4.205627765657496,
          3.5674991303154515,
          4.597170300303365,
          3.563951797027835,
          4.0885944126465805,
          2.839326723764623,
          3.0494623107212684,
          3.2398433149692316
         ]
        }
       ],
       "layout": {
        "coloraxis": {
         "colorbar": {
          "len": 0.4,
          "ticktext": [
           "1k",
           "10k",
           "100k"
          ],
          "tickvals": [
           3,
           4,
           5
          ],
          "title": {
           "text": "GDP per capita (current US$)"
          },
          "x": 0.01,
          "xanchor": "left",
          "y": 0.1,
          "yanchor": "bottom"
         },
         "colorscale": [
          [
           0,
           "#0d0887"
          ],
          [
           0.1111111111111111,
           "#46039f"
          ],
          [
           0.2222222222222222,
           "#7201a8"
          ],
          [
           0.3333333333333333,
           "#9c179e"
          ],
          [
           0.4444444444444444,
           "#bd3786"
          ],
          [
           0.5555555555555556,
           "#d8576b"
          ],
          [
           0.6666666666666666,
           "#ed7953"
          ],
          [
           0.7777777777777778,
           "#fb9f3a"
          ],
          [
           0.8888888888888888,
           "#fdca26"
          ],
          [
           1,
           "#f0f921"
          ]
         ]
        },
        "geo": {
         "center": {},
         "domain": {
          "x": [
           0,
           1
          ],
          "y": [
           0,
           1
          ]
         }
        },
        "height": 600,
        "legend": {
         "tracegroupgap": 0
        },
        "margin": {
         "b": 10,
         "l": 10,
         "r": 10,
         "t": 50
        },
        "template": {
         "data": {
          "bar": [
           {
            "error_x": {
             "color": "#2a3f5f"
            },
            "error_y": {
             "color": "#2a3f5f"
            },
            "marker": {
             "line": {
              "color": "#E5ECF6",
              "width": 0.5
             },
             "pattern": {
              "fillmode": "overlay",
              "size": 10,
              "solidity": 0.2
             }
            },
            "type": "bar"
           }
          ],
          "barpolar": [
           {
            "marker": {
             "line": {
              "color": "#E5ECF6",
              "width": 0.5
             },
             "pattern": {
              "fillmode": "overlay",
              "size": 10,
              "solidity": 0.2
             }
            },
            "type": "barpolar"
           }
          ],
          "carpet": [
           {
            "aaxis": {
             "endlinecolor": "#2a3f5f",
             "gridcolor": "white",
             "linecolor": "white",
             "minorgridcolor": "white",
             "startlinecolor": "#2a3f5f"
            },
            "baxis": {
             "endlinecolor": "#2a3f5f",
             "gridcolor": "white",
             "linecolor": "white",
             "minorgridcolor": "white",
             "startlinecolor": "#2a3f5f"
            },
            "type": "carpet"
           }
          ],
          "choropleth": [
           {
            "colorbar": {
             "outlinewidth": 0,
             "ticks": ""
            },
            "type": "choropleth"
           }
          ],
          "contour": [
           {
            "colorbar": {
             "outlinewidth": 0,
             "ticks": ""
            },
            "colorscale": [
             [
              0,
              "#0d0887"
             ],
             [
              0.1111111111111111,
              "#46039f"
             ],
             [
              0.2222222222222222,
              "#7201a8"
             ],
             [
              0.3333333333333333,
              "#9c179e"
             ],
             [
              0.4444444444444444,
              "#bd3786"
             ],
             [
              0.5555555555555556,
              "#d8576b"
             ],
             [
              0.6666666666666666,
              "#ed7953"
             ],
             [
              0.7777777777777778,
              "#fb9f3a"
             ],
             [
              0.8888888888888888,
              "#fdca26"
             ],
             [
              1,
              "#f0f921"
             ]
            ],
            "type": "contour"
           }
          ],
          "contourcarpet": [
           {
            "colorbar": {
             "outlinewidth": 0,
             "ticks": ""
            },
            "type": "contourcarpet"
           }
          ],
          "heatmap": [
           {
            "colorbar": {
             "outlinewidth": 0,
             "ticks": ""
            },
            "colorscale": [
             [
              0,
              "#0d0887"
             ],
             [
              0.1111111111111111,
              "#46039f"
             ],
             [
              0.2222222222222222,
              "#7201a8"
             ],
             [
              0.3333333333333333,
              "#9c179e"
             ],
             [
              0.4444444444444444,
              "#bd3786"
             ],
             [
              0.5555555555555556,
              "#d8576b"
             ],
             [
              0.6666666666666666,
              "#ed7953"
             ],
             [
              0.7777777777777778,
              "#fb9f3a"
             ],
             [
              0.8888888888888888,
              "#fdca26"
             ],
             [
              1,
              "#f0f921"
             ]
            ],
            "type": "heatmap"
           }
          ],
          "heatmapgl": [
           {
            "colorbar": {
             "outlinewidth": 0,
             "ticks": ""
            },
            "colorscale": [
             [
              0,
              "#0d0887"
             ],
             [
              0.1111111111111111,
              "#46039f"
             ],
             [
              0.2222222222222222,
              "#7201a8"
             ],
             [
              0.3333333333333333,
              "#9c179e"
             ],
             [
              0.4444444444444444,
              "#bd3786"
             ],
             [
              0.5555555555555556,
              "#d8576b"
             ],
             [
              0.6666666666666666,
              "#ed7953"
             ],
             [
              0.7777777777777778,
              "#fb9f3a"
             ],
             [
              0.8888888888888888,
              "#fdca26"
             ],
             [
              1,
              "#f0f921"
             ]
            ],
            "type": "heatmapgl"
           }
          ],
          "histogram": [
           {
            "marker": {
             "pattern": {
              "fillmode": "overlay",
              "size": 10,
              "solidity": 0.2
             }
            },
            "type": "histogram"
           }
          ],
          "histogram2d": [
           {
            "colorbar": {
             "outlinewidth": 0,
             "ticks": ""
            },
            "colorscale": [
             [
              0,
              "#0d0887"
             ],
             [
              0.1111111111111111,
              "#46039f"
             ],
             [
              0.2222222222222222,
              "#7201a8"
             ],
             [
              0.3333333333333333,
              "#9c179e"
             ],
             [
              0.4444444444444444,
              "#bd3786"
             ],
             [
              0.5555555555555556,
              "#d8576b"
             ],
             [
              0.6666666666666666,
              "#ed7953"
             ],
             [
              0.7777777777777778,
              "#fb9f3a"
             ],
             [
              0.8888888888888888,
              "#fdca26"
             ],
             [
              1,
              "#f0f921"
             ]
            ],
            "type": "histogram2d"
           }
          ],
          "histogram2dcontour": [
           {
            "colorbar": {
             "outlinewidth": 0,
             "ticks": ""
            },
            "colorscale": [
             [
              0,
              "#0d0887"
             ],
             [
              0.1111111111111111,
              "#46039f"
             ],
             [
              0.2222222222222222,
              "#7201a8"
             ],
             [
              0.3333333333333333,
              "#9c179e"
             ],
             [
              0.4444444444444444,
              "#bd3786"
             ],
             [
              0.5555555555555556,
              "#d8576b"
             ],
             [
              0.6666666666666666,
              "#ed7953"
             ],
             [
              0.7777777777777778,
              "#fb9f3a"
             ],
             [
              0.8888888888888888,
              "#fdca26"
             ],
             [
              1,
              "#f0f921"
             ]
            ],
            "type": "histogram2dcontour"
           }
          ],
          "mesh3d": [
           {
            "colorbar": {
             "outlinewidth": 0,
             "ticks": ""
            },
            "type": "mesh3d"
           }
          ],
          "parcoords": [
           {
            "line": {
             "colorbar": {
              "outlinewidth": 0,
              "ticks": ""
             }
            },
            "type": "parcoords"
           }
          ],
          "pie": [
           {
            "automargin": true,
            "type": "pie"
           }
          ],
          "scatter": [
           {
            "marker": {
             "colorbar": {
              "outlinewidth": 0,
              "ticks": ""
             }
            },
            "type": "scatter"
           }
          ],
          "scatter3d": [
           {
            "line": {
             "colorbar": {
              "outlinewidth": 0,
              "ticks": ""
             }
            },
            "marker": {
             "colorbar": {
              "outlinewidth": 0,
              "ticks": ""
             }
            },
            "type": "scatter3d"
           }
          ],
          "scattercarpet": [
           {
            "marker": {
             "colorbar": {
              "outlinewidth": 0,
              "ticks": ""
             }
            },
            "type": "scattercarpet"
           }
          ],
          "scattergeo": [
           {
            "marker": {
             "colorbar": {
              "outlinewidth": 0,
              "ticks": ""
             }
            },
            "type": "scattergeo"
           }
          ],
          "scattergl": [
           {
            "marker": {
             "colorbar": {
              "outlinewidth": 0,
              "ticks": ""
             }
            },
            "type": "scattergl"
           }
          ],
          "scattermapbox": [
           {
            "marker": {
             "colorbar": {
              "outlinewidth": 0,
              "ticks": ""
             }
            },
            "type": "scattermapbox"
           }
          ],
          "scatterpolar": [
           {
            "marker": {
             "colorbar": {
              "outlinewidth": 0,
              "ticks": ""
             }
            },
            "type": "scatterpolar"
           }
          ],
          "scatterpolargl": [
           {
            "marker": {
             "colorbar": {
              "outlinewidth": 0,
              "ticks": ""
             }
            },
            "type": "scatterpolargl"
           }
          ],
          "scatterternary": [
           {
            "marker": {
             "colorbar": {
              "outlinewidth": 0,
              "ticks": ""
             }
            },
            "type": "scatterternary"
           }
          ],
          "surface": [
           {
            "colorbar": {
             "outlinewidth": 0,
             "ticks": ""
            },
            "colorscale": [
             [
              0,
              "#0d0887"
             ],
             [
              0.1111111111111111,
              "#46039f"
             ],
             [
              0.2222222222222222,
              "#7201a8"
             ],
             [
              0.3333333333333333,
              "#9c179e"
             ],
             [
              0.4444444444444444,
              "#bd3786"
             ],
             [
              0.5555555555555556,
              "#d8576b"
             ],
             [
              0.6666666666666666,
              "#ed7953"
             ],
             [
              0.7777777777777778,
              "#fb9f3a"
             ],
             [
              0.8888888888888888,
              "#fdca26"
             ],
             [
              1,
              "#f0f921"
             ]
            ],
            "type": "surface"
           }
          ],
          "table": [
           {
            "cells": {
             "fill": {
              "color": "#EBF0F8"
             },
             "line": {
              "color": "white"
             }
            },
            "header": {
             "fill": {
              "color": "#C8D4E3"
             },
             "line": {
              "color": "white"
             }
            },
            "type": "table"
           }
          ]
         },
         "layout": {
          "annotationdefaults": {
           "arrowcolor": "#2a3f5f",
           "arrowhead": 0,
           "arrowwidth": 1
          },
          "autotypenumbers": "strict",
          "coloraxis": {
           "colorbar": {
            "outlinewidth": 0,
            "ticks": ""
           }
          },
          "colorscale": {
           "diverging": [
            [
             0,
             "#8e0152"
            ],
            [
             0.1,
             "#c51b7d"
            ],
            [
             0.2,
             "#de77ae"
            ],
            [
             0.3,
             "#f1b6da"
            ],
            [
             0.4,
             "#fde0ef"
            ],
            [
             0.5,
             "#f7f7f7"
            ],
            [
             0.6,
             "#e6f5d0"
            ],
            [
             0.7,
             "#b8e186"
            ],
            [
             0.8,
             "#7fbc41"
            ],
            [
             0.9,
             "#4d9221"
            ],
            [
             1,
             "#276419"
            ]
           ],
           "sequential": [
            [
             0,
             "#0d0887"
            ],
            [
             0.1111111111111111,
             "#46039f"
            ],
            [
             0.2222222222222222,
             "#7201a8"
            ],
            [
             0.3333333333333333,
             "#9c179e"
            ],
            [
             0.4444444444444444,
             "#bd3786"
            ],
            [
             0.5555555555555556,
             "#d8576b"
            ],
            [
             0.6666666666666666,
             "#ed7953"
            ],
            [
             0.7777777777777778,
             "#fb9f3a"
            ],
            [
             0.8888888888888888,
             "#fdca26"
            ],
            [
             1,
             "#f0f921"
            ]
           ],
           "sequentialminus": [
            [
             0,
             "#0d0887"
            ],
            [
             0.1111111111111111,
             "#46039f"
            ],
            [
             0.2222222222222222,
             "#7201a8"
            ],
            [
             0.3333333333333333,
             "#9c179e"
            ],
            [
             0.4444444444444444,
             "#bd3786"
            ],
            [
             0.5555555555555556,
             "#d8576b"
            ],
            [
             0.6666666666666666,
             "#ed7953"
            ],
            [
             0.7777777777777778,
             "#fb9f3a"
            ],
            [
             0.8888888888888888,
             "#fdca26"
            ],
            [
             1,
             "#f0f921"
            ]
           ]
          },
          "colorway": [
           "#636efa",
           "#EF553B",
           "#00cc96",
           "#ab63fa",
           "#FFA15A",
           "#19d3f3",
           "#FF6692",
           "#B6E880",
           "#FF97FF",
           "#FECB52"
          ],
          "font": {
           "color": "#2a3f5f"
          },
          "geo": {
           "bgcolor": "white",
           "lakecolor": "white",
           "landcolor": "#E5ECF6",
           "showlakes": true,
           "showland": true,
           "subunitcolor": "white"
          },
          "hoverlabel": {
           "align": "left"
          },
          "hovermode": "closest",
          "mapbox": {
           "style": "light"
          },
          "paper_bgcolor": "white",
          "plot_bgcolor": "#E5ECF6",
          "polar": {
           "angularaxis": {
            "gridcolor": "white",
            "linecolor": "white",
            "ticks": ""
           },
           "bgcolor": "#E5ECF6",
           "radialaxis": {
            "gridcolor": "white",
            "linecolor": "white",
            "ticks": ""
           }
          },
          "scene": {
           "xaxis": {
            "backgroundcolor": "#E5ECF6",
            "gridcolor": "white",
            "gridwidth": 2,
            "linecolor": "white",
            "showbackground": true,
            "ticks": "",
            "zerolinecolor": "white"
           },
           "yaxis": {
            "backgroundcolor": "#E5ECF6",
            "gridcolor": "white",
            "gridwidth": 2,
            "linecolor": "white",
            "showbackground": true,
            "ticks": "",
            "zerolinecolor": "white"
           },
           "zaxis": {
            "backgroundcolor": "#E5ECF6",
            "gridcolor": "white",
            "gridwidth": 2,
            "linecolor": "white",
            "showbackground": true,
            "ticks": "",
            "zerolinecolor": "white"
           }
          },
          "shapedefaults": {
           "line": {
            "color": "#2a3f5f"
           }
          },
          "ternary": {
           "aaxis": {
            "gridcolor": "white",
            "linecolor": "white",
            "ticks": ""
           },
           "baxis": {
            "gridcolor": "white",
            "linecolor": "white",
            "ticks": ""
           },
           "bgcolor": "#E5ECF6",
           "caxis": {
            "gridcolor": "white",
            "linecolor": "white",
            "ticks": ""
           }
          },
          "title": {
           "x": 0.05
          },
          "xaxis": {
           "automargin": true,
           "gridcolor": "white",
           "linecolor": "white",
           "ticks": "",
           "title": {
            "standoff": 15
           },
           "zerolinecolor": "white",
           "zerolinewidth": 2
          },
          "yaxis": {
           "automargin": true,
           "gridcolor": "white",
           "linecolor": "white",
           "ticks": "",
           "title": {
            "standoff": 15
           },
           "zerolinecolor": "white",
           "zerolinewidth": 2
          }
         }
        },
        "title": {
         "text": "GDP per capita in the World"
        },
        "width": 1000
       }
      }
     },
     "metadata": {},
     "output_type": "display_data"
    }
   ],
   "source": [
    "df = df_raw[df_raw[\"Indicator Name\"] == \"GDP per capita (current US$)\"]\n",
    "df = df.groupby(\"Country Name\").apply(lambda x: x[x[\"Date\"] == x[\"Date\"].max()]).reset_index(drop=True)\n",
    "# log values\n",
    "df[\"log_value\"] = np.log10(df[\"value\"])\n",
    "# Figure size\n",
    "\n",
    "fig = px.choropleth(df, locations=\"Country Code\",\n",
    "                    color=\"log_value\", \n",
    "                    hover_name=\"Country Name\", # column to add to hover information\n",
    "                    hover_data=[\"value\"],\n",
    "                    color_continuous_scale=px.colors.sequential.Plasma,\n",
    "                    title='GDP per capita in the World',\n",
    "                    labels={'log_value':'Log of GDP per capita (current US$)', 'value':'GDP per capita (current US$)'},\n",
    "                    )\n",
    "\n",
    "fig.update_layout(height=600, \n",
    "                  width=1000,\n",
    "                  coloraxis_colorbar=dict(\n",
    "                    #len=0.75,\n",
    "                    title='GDP per capita (current US$)', \n",
    "                    tickvals = [3, 4, 5],\n",
    "                    ticktext = ['1k', '10k', '100k'],\n",
    "                    yanchor=\"bottom\",\n",
    "                    y=0.1,\n",
    "                    xanchor=\"left\",\n",
    "                    x=0.01,\n",
    "                    len = .4),\n",
    "                  margin=dict(l=10, r=10, t=50, b=10)\n",
    "                )\n",
    "\n",
    "fig.show()"
   ]
  },
  {
   "cell_type": "code",
   "execution_count": 174,
   "metadata": {},
   "outputs": [
    {
     "data": {
      "text/plain": [
       "0      6.247555\n",
       "1      7.350980\n",
       "2      7.481511\n",
       "3      8.778693\n",
       "4      8.233512\n",
       "         ...   \n",
       "257    8.206302\n",
       "258    9.414337\n",
       "259    6.537791\n",
       "260    7.021646\n",
       "261    7.460015\n",
       "Name: log_value, Length: 262, dtype: float64"
      ]
     },
     "execution_count": 174,
     "metadata": {},
     "output_type": "execute_result"
    }
   ],
   "source": [
    "df['log_value']"
   ]
  },
  {
   "cell_type": "code",
   "execution_count": null,
   "metadata": {},
   "outputs": [],
   "source": []
  }
 ],
 "metadata": {
  "kernelspec": {
   "display_name": "Python 3.9.12 ('base')",
   "language": "python",
   "name": "python3"
  },
  "language_info": {
   "codemirror_mode": {
    "name": "ipython",
    "version": 3
   },
   "file_extension": ".py",
   "mimetype": "text/x-python",
   "name": "python",
   "nbconvert_exporter": "python",
   "pygments_lexer": "ipython3",
   "version": "3.9.12"
  },
  "orig_nbformat": 4,
  "vscode": {
   "interpreter": {
    "hash": "8485bf4bb2d61086dc172b0aacfd790f29127f517be6ea87039a95cde055dcdd"
   }
  }
 },
 "nbformat": 4,
 "nbformat_minor": 2
}
