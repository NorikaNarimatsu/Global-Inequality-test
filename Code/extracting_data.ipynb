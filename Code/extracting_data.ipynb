{
 "cells": [
  {
   "cell_type": "markdown",
   "metadata": {},
   "source": [
    "### How to separate countries and regions"
   ]
  },
  {
   "cell_type": "code",
   "execution_count": 1,
   "metadata": {},
   "outputs": [],
   "source": [
    "import pandas as pd"
   ]
  },
  {
   "attachments": {},
   "cell_type": "markdown",
   "metadata": {},
   "source": [
    "### Dictionaries"
   ]
  },
  {
   "cell_type": "code",
   "execution_count": 2,
   "metadata": {},
   "outputs": [],
   "source": [
    "ISOs_Country = {\n",
    "'ABW':'Aruba', 'AFG':'Afghanistan','AGO':'Angola','AIA':'Anguilla','ALA':'Åland Islands','ALB':'Albania',\n",
    "'AND':'Andorra','ARE':'United Arab Emirates','ARG':'Argentina','ARM':'Armenia','ASM':'American Samoa',\n",
    "'ATA':'Antarctica','ATF':'French Southern Territories','ATG':'Antigua and Barbuda','AUS':'Australia',\n",
    "'AUT':'Austria','AZE':'Azerbaijan','BDI':'Burundi','BEL':'Belgium','BEN':'Benin',\n",
    "'BES':'Bonaire, Sint Eustatius and Saba','BFA':'Burkina Faso','BGD':'Bangladesh','BGR':'Bulgaria',\n",
    "'BHR':'Bahrain','BHS':'Bahamas','BIH':'Bosnia and Herzegovina','BLM':'Saint Barthélemy','BLR':'Belarus',\n",
    "'BLZ':'Belize','BMU':'Bermuda','BOL':'Bolivia (Plurinational State of)','BRA':'Brazil','BRB':'Barbados',\n",
    "'BRN':'Brunei Darussalam','BTN':'Bhutan','BVT':'Bouvet Island','BWA':'Botswana','CAF':'Central African Republic',\n",
    "'CAN':'Canada','CCK':'Cocos (Keeling) Islands','CHE':'Switzerland','CHL':'Chile','CHN':'China',\n",
    "'CIV':'Côte d\\'Ivoire','CMR':'Cameroon','COD':'Democratic Republic of the Congo','COG':'Congo',\n",
    "'COK':'Cook Islands','COL':'Colombia','COM':'Comoros','CPV':'Cabo Verde','CRI':'Costa Rica','CUB':'Cuba',\n",
    "'CUW':'Curaçao','CXR':'Christmas Island','CYM':'Cayman Islands','CYP':'Cyprus','CZE':'Czechia',\n",
    "'DEU':'Germany','DJI':'Djibouti','DMA':'Dominica','DNK':'Denmark','DOM':'Dominican Republic','DZA':'Algeria',\n",
    "'ECU':'Ecuador','EGY':'Egypt','ERI':'Eritrea','ESH':'Western Sahara','ESP':'Spain','EST':'Estonia',\n",
    "'ETH':'Ethiopia','FIN':'Finland','FJI':'Fiji','FLK':'Falkland Islands (Malvinas)','FRA':'France',\n",
    "'FRO':'Faroe Islands','FSM':'Micronesia (Federated States of)','GAB':'Gabon',\n",
    "'GBR':'United Kingdom of Great Britain and Northern Ireland','GEO':'Georgia','GGY':'Guernsey','GHA':'Ghana',\n",
    "'GIB':'Gibraltar','GIN':'Guinea','GLP':'Guadeloupe','GMB':'Gambia','GNB':'Guinea-Bissau',\n",
    "'GNQ':'Equatorial Guinea','GRC':'Greece','GRD':'Grenada','GRL':'Greenland','GTM':'Guatemala',\n",
    "'GUF':'French Guiana','GUM':'Guam','GUY':'Guyana','HKG':'Hong Kong','HMD':'Heard Island and McDonald Islands',\n",
    "'HND':'Honduras','HRV':'Croatia','HTI':'Haiti','HUN':'Hungary','IDN':'Indonesia','IMN':'Isle of Man',\n",
    "'IND':'India','IOT':'British Indian Ocean Territory','IRL':'Ireland','IRN':'Iran (Islamic Republic of)',\n",
    "'IRQ':'Iraq','ISL':'Iceland','ISR':'Israel','ITA':'Italy','JAM':'Jamaica','JEY':'Jersey','JOR':'Jordan',\n",
    "'JPN':'Japan','KAZ':'Kazakhstan','KEN':'Kenya','KGZ':'Kyrgyzstan','KHM':'Cambodia','KIR':'Kiribati',\n",
    "'KNA':'Saint Kitts and Nevis','KOR':'Republic of Korea','KWT':'Kuwait','LAO':'Lao People\\'s Democratic Republic',\n",
    "'LBN':'Lebanon','LBR':'Liberia','LBY':'Libya','LCA':'Saint Lucia', 'LIE':'Liechtenstein','LKA':'Sri Lanka',\n",
    "'LSO':'Lesotho','LTU':'Lithuania','LUX':'Luxembourg','LVA':'Latvia','MAC':'Macao',\n",
    "'MAF':'Saint Martin (French part)','MAR':'Morocco','MCO':'Monaco','MDA':'Republic of Moldova',\n",
    "'MDG':'Madagascar','MDV':'Maldives','MEX':'Mexico','MHL':'Marshall Islands','MKD':'North Macedonia',\n",
    "'MLI':'Mali','MLT':'Malta','MMR':'Myanmar','MNE':'Montenegro','MNG':'Mongolia','MNP':'Northern Mariana Islands',\n",
    "'MOZ':'Mozambique','MRT':'Mauritania','MSR':'Montserrat','MTQ':'Martinique','MUS':'Mauritius','MWI':'Malawi',\n",
    "'MYS':'Malaysia','MYT':'Mayotte','NAM':'Namibia','NCL':'New Caledonia','NER':'Niger','NFK':'Norfolk Island',\n",
    "'NGA':'Nigeria','NIC':'Nicaragua','NIU':'Niue','NLD':'Netherlands','NOR':'Norway','NPL':'Nepal','NRU':'Nauru',\n",
    "'NZL':'New Zealand','OMN':'Oman','PAK':'Pakistan','PAN':'Panama','PCN':'Pitcairn','PER':'Peru','PHL':'Philippines',\n",
    "'PLW':'Palau','PNG':'Papua New Guinea','POL':'Poland','PRI':'Puerto Rico','PRK':'Democratic People\\'s Republic of Korea',\n",
    "'PRT':'Portugal','PRY':'Paraguay','PSE':'Palestine, State of','PYF':'French Polynesia','QAT':'Qatar','REU':'Réunion',\n",
    "'ROU':'Romania','RUS':'Russian Federation','RWA':'Rwanda','SAU':'Saudi Arabia','SDN':'Sudan','SEN':'Senegal',\n",
    "'SGP':'Singapore','SGS':'South Georgia and the South Sandwich Islands','SHN':'Saint Helena, Ascension and Tristan da Cunha',\n",
    "'SJM':'Svalbard and Jan Mayen','SLB':'Solomon Islands','SLE':'Sierra Leone','SLV':'El Salvador','SMR':'San Marino',\n",
    "'SOM':'Somalia','SPM':'Saint Pierre and Miquelon','SRB':'Serbia','SSD':'South Sudan','STP':'Sao Tome and Principe',\n",
    "'SUR':'Suriname','SVK':'Slovakia','SVN':'Slovenia','SWE':'Sweden','SWZ':'Eswatini','SXM':'Sint Maarten (Dutch part)',\n",
    "'SYC':'Seychelles','SYR':'Syrian Arab Republic','TCA':'Turks and Caicos Islands','TCD':'Chad','TGO':'Togo',\n",
    "'THA':'Thailand','TJK':'Tajikistan','TKL':'Tokelau','TKM':'Turkmenistan','TLS':'Timor-Leste','TON':'Tonga',\n",
    "'TTO':'Trinidad and Tobago','TUN':'Tunisia','TUR':'Turkey','TUV':'Tuvalu','TWN':'Taiwan, Province of China',\n",
    "'TZA':'United Republic of Tanzania','UGA':'Uganda','UKR':'Ukraine','UMI':'United States Minor Outlying Islands',\n",
    "'URY':'Uruguay','USA':'United States of America','UZB':'Uzbekistan','VAT':'Holy See','VCT':'Saint Vincent and the Grenadines',\n",
    "'VEN':'Venezuela (Bolivarian Republic of)','VGB':'Virgin Islands (British)','VIR':'Virgin Islands (U.S.)','VNM':'Viet Nam',\n",
    "'VUT':'Vanuatu','WLF':'Wallis and Futuna','WSM':'Samoa','YEM':'Yemen','ZAF':'South Africa','ZMB':'Zambia',\n",
    "'ZWE':'Zimbabwe','XKX': 'Kosovo'}\n",
    "ISO_alpha3 = ISOs_Country.keys()"
   ]
  },
  {
   "cell_type": "code",
   "execution_count": 3,
   "metadata": {},
   "outputs": [],
   "source": [
    "regional_code_dict = {\n",
    "    \"AFE\":\t\"Africa Eastern and Southern\",\n",
    "    \"AFW\":\t\"Africa Western and Central\",\n",
    "    \"ARB\":\t\"Arab World\",\n",
    "    \"CEB\":\t\"Central Europe and the Baltics\",\n",
    "    \"CSS\":\t\"Caribbean small states\",\n",
    "    \"EAS\":\t\"East Asia & Pacific\",\n",
    "    \"ECS\":\t\"Europe & Central Asia\",\n",
    "    \"EUU\":\t\"European Union\",\n",
    "    \"LCN\":\t\"Latin America & Caribbean\",\n",
    "    \"MEA\":\t\"Middle East & North Africa\",\n",
    "    \"NAC\":\t\"North America\",\n",
    "    \"SAS\":\t\"South Asia\",\n",
    "    \"SSF\":\t\"Sub-Saharan Africa\"}\n",
    "regional_code = regional_code_dict.keys()"
   ]
  },
  {
   "cell_type": "code",
   "execution_count": 4,
   "metadata": {},
   "outputs": [],
   "source": [
    "economic_code_dict = {\n",
    "'UMC':'Upper middle income',\n",
    " 'MIC':'Middle income',\n",
    " 'LMY':'Low & middle income',\n",
    " 'LIC':'Low income',\n",
    " 'LMC':'Lower middle income',\n",
    " 'HIC':'High income'}\n",
    "economic_code = economic_code_dict.keys()"
   ]
  },
  {
   "attachments": {},
   "cell_type": "markdown",
   "metadata": {},
   "source": [
    "### Making three dataframe"
   ]
  },
  {
   "cell_type": "code",
   "execution_count": 11,
   "metadata": {},
   "outputs": [],
   "source": [
    "df = pd.read_csv(\"/Users/norika_machome/GitHub/DS4SG-Global-Inequality/Data/Final/Health/health_indicators.csv\")"
   ]
  },
  {
   "cell_type": "code",
   "execution_count": 17,
   "metadata": {},
   "outputs": [
    {
     "data": {
      "text/plain": [
       "array(['GDP per capita (current US$)',\n",
       "       'Life expectancy at birth, total (years)', 'Population, total',\n",
       "       'Physicians (per 1,000 people)',\n",
       "       'Out-of-pocket expenditure (% of current health expenditure)',\n",
       "       'Suicide mortality rate (per 100,000 population)',\n",
       "       'Suicide mortality rate, female (per 100,000 female population)',\n",
       "       'Suicide mortality rate, male (per 100,000 male population)',\n",
       "       'People using safely managed sanitation services (% of population)',\n",
       "       'Completeness of birth registration (%)',\n",
       "       'Completeness of birth registration, rural (%)',\n",
       "       'Completeness of birth registration, urban (%)',\n",
       "       'Completeness of birth registration, female (%)',\n",
       "       'Completeness of birth registration, male (%)'], dtype=object)"
      ]
     },
     "execution_count": 17,
     "metadata": {},
     "output_type": "execute_result"
    }
   ],
   "source": [
    "df['Indicator Name'].unique()"
   ]
  },
  {
   "cell_type": "code",
   "execution_count": 12,
   "metadata": {},
   "outputs": [],
   "source": [
    "df_only_countries = df[df['Country Code'].isin(ISO_alpha3)]\n",
    "df_only_econstatus = df[df['Country Code'].isin(economic_code)]\n",
    "df_only_region = df[df['Country Code'].isin(regional_code)]\n",
    "df_rest =  df[(~df['Country Code'].isin(regional_code))&(~df['Country Code'].isin(economic_code))&(~df['Country Code'].isin(ISO_alpha3))]"
   ]
  },
  {
   "cell_type": "code",
   "execution_count": 13,
   "metadata": {},
   "outputs": [
    {
     "name": "stdout",
     "output_type": "stream",
     "text": [
      "Written to: /Users/norika_machome/GitHub/DS4SG-Global-Inequality/Data/Final/Health/health_countries.csv\n",
      "Written to: /Users/norika_machome/GitHub/DS4SG-Global-Inequality/Data/Final/Health/health__econstatus.csv\n",
      "Written to: /Users/norika_machome/GitHub/DS4SG-Global-Inequality/Data/Final/Health/health_regions.csv\n",
      "Written to: /Users/norika_machome/GitHub/DS4SG-Global-Inequality/Data/Final/Health/health_rest.csv\n"
     ]
    },
    {
     "data": {
      "text/html": [
       "<div>\n",
       "<style scoped>\n",
       "    .dataframe tbody tr th:only-of-type {\n",
       "        vertical-align: middle;\n",
       "    }\n",
       "\n",
       "    .dataframe tbody tr th {\n",
       "        vertical-align: top;\n",
       "    }\n",
       "\n",
       "    .dataframe thead th {\n",
       "        text-align: right;\n",
       "    }\n",
       "</style>\n",
       "<table border=\"1\" class=\"dataframe\">\n",
       "  <thead>\n",
       "    <tr style=\"text-align: right;\">\n",
       "      <th></th>\n",
       "      <th>Country Name</th>\n",
       "      <th>Country Code</th>\n",
       "      <th>Indicator Code</th>\n",
       "      <th>Indicator Name</th>\n",
       "      <th>Date</th>\n",
       "      <th>value</th>\n",
       "    </tr>\n",
       "  </thead>\n",
       "  <tbody>\n",
       "    <tr>\n",
       "      <th>13</th>\n",
       "      <td>Early-demographic dividend</td>\n",
       "      <td>EAR</td>\n",
       "      <td>NY.GDP.PCAP.CD</td>\n",
       "      <td>GDP per capita (current US$)</td>\n",
       "      <td>1960</td>\n",
       "      <td>1.611654e+02</td>\n",
       "    </tr>\n",
       "    <tr>\n",
       "      <th>14</th>\n",
       "      <td>Early-demographic dividend</td>\n",
       "      <td>EAR</td>\n",
       "      <td>SP.DYN.LE00.IN</td>\n",
       "      <td>Life expectancy at birth, total (years)</td>\n",
       "      <td>1960</td>\n",
       "      <td>4.509090e+01</td>\n",
       "    </tr>\n",
       "    <tr>\n",
       "      <th>15</th>\n",
       "      <td>Early-demographic dividend</td>\n",
       "      <td>EAR</td>\n",
       "      <td>SP.POP.TOTL</td>\n",
       "      <td>Population, total</td>\n",
       "      <td>1960</td>\n",
       "      <td>9.800033e+08</td>\n",
       "    </tr>\n",
       "    <tr>\n",
       "      <th>19</th>\n",
       "      <td>East Asia &amp; Pacific (excluding high income)</td>\n",
       "      <td>EAP</td>\n",
       "      <td>NY.GDP.PCAP.CD</td>\n",
       "      <td>GDP per capita (current US$)</td>\n",
       "      <td>1960</td>\n",
       "      <td>9.090209e+01</td>\n",
       "    </tr>\n",
       "    <tr>\n",
       "      <th>20</th>\n",
       "      <td>East Asia &amp; Pacific (excluding high income)</td>\n",
       "      <td>EAP</td>\n",
       "      <td>SP.DYN.LE00.IN</td>\n",
       "      <td>Life expectancy at birth, total (years)</td>\n",
       "      <td>1960</td>\n",
       "      <td>4.561324e+01</td>\n",
       "    </tr>\n",
       "    <tr>\n",
       "      <th>...</th>\n",
       "      <td>...</td>\n",
       "      <td>...</td>\n",
       "      <td>...</td>\n",
       "      <td>...</td>\n",
       "      <td>...</td>\n",
       "      <td>...</td>\n",
       "    </tr>\n",
       "    <tr>\n",
       "      <th>72619</th>\n",
       "      <td>Sub-Saharan Africa (IDA &amp; IBRD countries)</td>\n",
       "      <td>TSS</td>\n",
       "      <td>NY.GDP.PCAP.CD</td>\n",
       "      <td>GDP per capita (current US$)</td>\n",
       "      <td>2021</td>\n",
       "      <td>1.645473e+03</td>\n",
       "    </tr>\n",
       "    <tr>\n",
       "      <th>72620</th>\n",
       "      <td>Sub-Saharan Africa (IDA &amp; IBRD countries)</td>\n",
       "      <td>TSS</td>\n",
       "      <td>SP.POP.TOTL</td>\n",
       "      <td>Population, total</td>\n",
       "      <td>2021</td>\n",
       "      <td>1.165564e+09</td>\n",
       "    </tr>\n",
       "    <tr>\n",
       "      <th>72623</th>\n",
       "      <td>World</td>\n",
       "      <td>WLD</td>\n",
       "      <td>NY.GDP.PCAP.CD</td>\n",
       "      <td>GDP per capita (current US$)</td>\n",
       "      <td>2021</td>\n",
       "      <td>1.226293e+04</td>\n",
       "    </tr>\n",
       "    <tr>\n",
       "      <th>72624</th>\n",
       "      <td>World</td>\n",
       "      <td>WLD</td>\n",
       "      <td>SP.POP.TOTL</td>\n",
       "      <td>Population, total</td>\n",
       "      <td>2021</td>\n",
       "      <td>7.836631e+09</td>\n",
       "    </tr>\n",
       "    <tr>\n",
       "      <th>72707</th>\n",
       "      <td>Channel Islands</td>\n",
       "      <td>CHI</td>\n",
       "      <td>SP.POP.TOTL</td>\n",
       "      <td>Population, total</td>\n",
       "      <td>2021</td>\n",
       "      <td>1.752440e+05</td>\n",
       "    </tr>\n",
       "  </tbody>\n",
       "</table>\n",
       "<p>8281 rows × 6 columns</p>\n",
       "</div>"
      ],
      "text/plain": [
       "                                      Country Name Country Code  \\\n",
       "13                      Early-demographic dividend          EAR   \n",
       "14                      Early-demographic dividend          EAR   \n",
       "15                      Early-demographic dividend          EAR   \n",
       "19     East Asia & Pacific (excluding high income)          EAP   \n",
       "20     East Asia & Pacific (excluding high income)          EAP   \n",
       "...                                            ...          ...   \n",
       "72619    Sub-Saharan Africa (IDA & IBRD countries)          TSS   \n",
       "72620    Sub-Saharan Africa (IDA & IBRD countries)          TSS   \n",
       "72623                                        World          WLD   \n",
       "72624                                        World          WLD   \n",
       "72707                              Channel Islands          CHI   \n",
       "\n",
       "       Indicator Code                           Indicator Name  Date  \\\n",
       "13     NY.GDP.PCAP.CD             GDP per capita (current US$)  1960   \n",
       "14     SP.DYN.LE00.IN  Life expectancy at birth, total (years)  1960   \n",
       "15        SP.POP.TOTL                        Population, total  1960   \n",
       "19     NY.GDP.PCAP.CD             GDP per capita (current US$)  1960   \n",
       "20     SP.DYN.LE00.IN  Life expectancy at birth, total (years)  1960   \n",
       "...               ...                                      ...   ...   \n",
       "72619  NY.GDP.PCAP.CD             GDP per capita (current US$)  2021   \n",
       "72620     SP.POP.TOTL                        Population, total  2021   \n",
       "72623  NY.GDP.PCAP.CD             GDP per capita (current US$)  2021   \n",
       "72624     SP.POP.TOTL                        Population, total  2021   \n",
       "72707     SP.POP.TOTL                        Population, total  2021   \n",
       "\n",
       "              value  \n",
       "13     1.611654e+02  \n",
       "14     4.509090e+01  \n",
       "15     9.800033e+08  \n",
       "19     9.090209e+01  \n",
       "20     4.561324e+01  \n",
       "...             ...  \n",
       "72619  1.645473e+03  \n",
       "72620  1.165564e+09  \n",
       "72623  1.226293e+04  \n",
       "72624  7.836631e+09  \n",
       "72707  1.752440e+05  \n",
       "\n",
       "[8281 rows x 6 columns]"
      ]
     },
     "execution_count": 13,
     "metadata": {},
     "output_type": "execute_result"
    }
   ],
   "source": [
    "pathname = \"/Users/norika_machome/GitHub/DS4SG-Global-Inequality/Data/Final\"\n",
    "def df_csv(df,write_to = None):\n",
    "    df.to_csv(pathname + \"/Health/\" + write_to + \".csv\", index = False)\n",
    "    print(\"Written to:\", pathname + \"/Health/\" + write_to + \".csv\")\n",
    "    return df\n",
    "\n",
    "df_csv(df_only_countries, write_to= \"health_countries\")\n",
    "df_csv(df_only_econstatus, write_to= \"health__econstatus\")\n",
    "df_csv(df_only_region, write_to= \"health_regions\")\n",
    "df_csv(df_rest, write_to= \"health_rest\")"
   ]
  },
  {
   "cell_type": "code",
   "execution_count": 16,
   "metadata": {},
   "outputs": [
    {
     "data": {
      "text/plain": [
       "array(['GDP per capita (current US$)',\n",
       "       'Life expectancy at birth, total (years)', 'Population, total',\n",
       "       'Physicians (per 1,000 people)',\n",
       "       'Out-of-pocket expenditure (% of current health expenditure)',\n",
       "       'Suicide mortality rate (per 100,000 population)',\n",
       "       'Suicide mortality rate, female (per 100,000 female population)',\n",
       "       'Suicide mortality rate, male (per 100,000 male population)',\n",
       "       'People using safely managed sanitation services (% of population)',\n",
       "       'Completeness of birth registration (%)'], dtype=object)"
      ]
     },
     "execution_count": 16,
     "metadata": {},
     "output_type": "execute_result"
    }
   ],
   "source": [
    "df_only_region[\"Indicator Name\"].unique()"
   ]
  }
 ],
 "metadata": {
  "kernelspec": {
   "display_name": "Python 3.8.2 64-bit",
   "language": "python",
   "name": "python3"
  },
  "language_info": {
   "codemirror_mode": {
    "name": "ipython",
    "version": 3
   },
   "file_extension": ".py",
   "mimetype": "text/x-python",
   "name": "python",
   "nbconvert_exporter": "python",
   "pygments_lexer": "ipython3",
   "version": "3.8.9"
  },
  "orig_nbformat": 4,
  "vscode": {
   "interpreter": {
    "hash": "31f2aee4e71d21fbe5cf8b01ff0e069b9275f58929596ceb00d14d90e3e16cd6"
   }
  }
 },
 "nbformat": 4,
 "nbformat_minor": 2
}
