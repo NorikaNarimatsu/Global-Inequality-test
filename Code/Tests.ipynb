{
 "cells": [
  {
   "cell_type": "code",
   "execution_count": 1,
   "metadata": {},
   "outputs": [],
   "source": [
    "import pandas as pd\n"
   ]
  },
  {
   "cell_type": "code",
   "execution_count": 40,
   "metadata": {},
   "outputs": [],
   "source": [
    "df_raw = pd.read_csv(\"https://github.com/berdikhanova/DS4SG-Global-Inequality/blob/Assignment/Data/Final/indicators.csv?raw=true\")\n",
    "\n"
   ]
  },
  {
   "cell_type": "code",
   "execution_count": 36,
   "metadata": {},
   "outputs": [
    {
     "data": {
      "text/plain": [
       "'Life expectancy at birth, female (years)'"
      ]
     },
     "execution_count": 36,
     "metadata": {},
     "output_type": "execute_result"
    }
   ],
   "source": [
    "df.sample()[\"Indicator Name\"].values[0]"
   ]
  },
  {
   "cell_type": "code",
   "execution_count": 42,
   "metadata": {},
   "outputs": [
    {
     "name": "stdout",
     "output_type": "stream",
     "text": [
      "Trinidad and Tobago has a Life expectancy at birth, total (years) of 73.628.\n",
      "Is this indicator higher or lower in Cambodia?\n",
      "A. Higher\n",
      "B. Lower\n",
      "Answer B is Correct!\n",
      "Trinidad and Tobago has a Life expectancy at birth, total (years) of 73.628, and Cambodia has a Life expectancy at birth, total (years) of 70.054\n",
      "Cambodia has a Life expectancy at birth, total (years) of 70.054.\n",
      "Is this indicator higher or lower in Tajikistan?\n",
      "A. Higher\n",
      "B. Lower\n",
      "Answer  is Correct!\n",
      "Cambodia has a Life expectancy at birth, total (years) of 70.054, and Tajikistan has a Life expectancy at birth, total (years) of 71.301\n",
      "Tajikistan has a Life expectancy at birth, male (years) of 69.121.\n",
      "Is this indicator higher or lower in High income?\n",
      "A. Higher\n",
      "B. Lower\n",
      "Answer  is Correct!\n",
      "Tajikistan has a Life expectancy at birth, male (years) of 69.121, and High income has a Life expectancy at birth, male (years) of 77.5939950927746\n",
      "High income has a GDP per capita (current US$) of 47886.7845890595.\n",
      "Is this indicator higher or lower in Caribbean small states?\n",
      "A. Higher\n",
      "B. Lower\n",
      "Answer  is Correct!\n",
      "High income has a GDP per capita (current US$) of 47886.7845890595, and Caribbean small states has a GDP per capita (current US$) of 9352.28202838224\n",
      "Caribbean small states has a Life expectancy at birth, male (years) of 71.6487645205694.\n",
      "Is this indicator higher or lower in Seychelles?\n",
      "A. Higher\n",
      "B. Lower\n",
      "Answer  is Correct!\n",
      "Caribbean small states has a Life expectancy at birth, male (years) of 71.6487645205694, and Seychelles has a Life expectancy at birth, male (years) of 72.7\n",
      "Seychelles has a Life expectancy at birth, male (years) of 72.7.\n",
      "Is this indicator higher or lower in Pakistan?\n",
      "A. Higher\n",
      "B. Lower\n",
      "Answer  is Correct!\n",
      "Seychelles has a Life expectancy at birth, male (years) of 72.7, and Pakistan has a Life expectancy at birth, male (years) of 66.471\n",
      "Pakistan has a Forest area (sq. km) of 37259.0.\n",
      "Is this indicator higher or lower in Israel?\n",
      "A. Higher\n",
      "B. Lower\n",
      "Answer  is Correct!\n",
      "Pakistan has a Forest area (sq. km) of 37259.0, and Israel has a Forest area (sq. km) of 1400.0\n",
      "Israel has a GDP per capita (current US$) of 51430.0796810561.\n",
      "Is this indicator higher or lower in East Asia & Pacific (excluding high income)?\n",
      "A. Higher\n",
      "B. Lower\n",
      "Answer  is Correct!\n",
      "Israel has a GDP per capita (current US$) of 51430.0796810561, and East Asia & Pacific (excluding high income) has a GDP per capita (current US$) of 9776.49380942516\n",
      "East Asia & Pacific (excluding high income) has a Life expectancy at birth, male (years) of 73.1983406166694.\n",
      "Is this indicator higher or lower in Cayman Islands?\n",
      "A. Higher\n",
      "B. Lower\n",
      "Answer  is Correct!\n",
      "East Asia & Pacific (excluding high income) has a Life expectancy at birth, male (years) of 73.1983406166694, and Cayman Islands has a Life expectancy at birth, male (years) of 79.8\n",
      "Cayman Islands has a Life expectancy at birth, total (years) of 82.190243902439.\n",
      "Is this indicator higher or lower in Tonga?\n",
      "A. Higher\n",
      "B. Lower\n",
      "Answer  is Correct!\n",
      "Cayman Islands has a Life expectancy at birth, total (years) of 82.190243902439, and Tonga has a Life expectancy at birth, total (years) of 71.018\n"
     ]
    }
   ],
   "source": [
    "correct = True\n",
    "old_country = df.sample()[\"Country Name\"].values[0]\n",
    "for i in range(10):\n",
    "    # random country\n",
    "    # Random indicator\n",
    "    indicator = df_raw.sample()[\"Indicator Name\"].values[0]\n",
    "    # latest date available for each country\n",
    "    df = df_raw[df_raw[\"Indicator Name\"] == indicator]\n",
    "    df = df.groupby(\"Country Name\").apply(lambda x: x[x[\"Date\"] == x[\"Date\"].max()]).reset_index(drop=True)\n",
    "\n",
    "    # old country\n",
    "    old_country_indicator = df[df[\"Country Name\"] == old_country][\"value\"].values[0]\n",
    "\n",
    "    print(f\"{old_country} has a {indicator} of {old_country_indicator}.\")\n",
    "\n",
    "    # random country\n",
    "    country = df.sample()[\"Country Name\"].values[0]\n",
    "\n",
    "    print(\"Is this indicator higher or lower in \" + country + \"?\")\n",
    "\n",
    "    print(\"A. Higher\")\n",
    "    print(\"B. Lower\")\n",
    "    # correct answer is the country with the highest GDP per capita\n",
    "    \n",
    "    country_indicator = df[df[\"Country Name\"] == country][\"value\"].values[0]\n",
    "    correct_answer = \"B\" if old_country_indicator > country_indicator else \"A\"\n",
    "\n",
    "    answer = input(\"Your answer:\")\n",
    "\n",
    "    if answer != correct_answer:\n",
    "        correct = False\n",
    "        print(f\"Answer {answer} is Wrong!\")\n",
    "        print(f\"{old_country} has a {indicator} of {old_country_indicator}, and {country} has a {indicator} of {country_indicator}\")\n",
    "        break\n",
    "    else:\n",
    "        print(f\"Answer {answer} is Correct!\")\n",
    "        print(f\"{old_country} has a {indicator} of {old_country_indicator}, and {country} has a {indicator} of {country_indicator}\")\n",
    "    old_country = country\n"
   ]
  },
  {
   "cell_type": "code",
   "execution_count": null,
   "metadata": {},
   "outputs": [],
   "source": []
  },
  {
   "cell_type": "code",
   "execution_count": null,
   "metadata": {},
   "outputs": [],
   "source": []
  },
  {
   "cell_type": "code",
   "execution_count": null,
   "metadata": {},
   "outputs": [],
   "source": []
  }
 ],
 "metadata": {
  "kernelspec": {
   "display_name": "Python 3.9.12 ('base')",
   "language": "python",
   "name": "python3"
  },
  "language_info": {
   "codemirror_mode": {
    "name": "ipython",
    "version": 3
   },
   "file_extension": ".py",
   "mimetype": "text/x-python",
   "name": "python",
   "nbconvert_exporter": "python",
   "pygments_lexer": "ipython3",
   "version": "3.9.12"
  },
  "orig_nbformat": 4,
  "vscode": {
   "interpreter": {
    "hash": "8485bf4bb2d61086dc172b0aacfd790f29127f517be6ea87039a95cde055dcdd"
   }
  }
 },
 "nbformat": 4,
 "nbformat_minor": 2
}
