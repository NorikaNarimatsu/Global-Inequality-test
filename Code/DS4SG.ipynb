{
 "cells": [
  {
   "cell_type": "code",
   "execution_count": 9,
   "metadata": {},
   "outputs": [],
   "source": [
    "import pandas as pd\n",
    "pd.set_option('max_rows', 10)\n",
    "import numpy as np\n",
    "from scipy import stats\n",
    "import matplotlib.pyplot as plt\n",
    "import statsmodels.api as statsmodels # useful stats package with regression functions\n",
    "import seaborn as sns #plotting package"
   ]
  },
  {
   "cell_type": "code",
   "execution_count": 7,
   "metadata": {},
   "outputs": [],
   "source": [
    "wdi_data = pd.read_csv(\"WDIData.csv\", delimiter=\",\")\n",
    "wdi_codebook = pd.read_csv(\"WDISeries.csv\", delimiter=\",\")"
   ]
  },
  {
   "cell_type": "code",
   "execution_count": 40,
   "metadata": {},
   "outputs": [
    {
     "data": {
      "text/plain": [
       "0                                                       NaN\n",
       "1                                                       NaN\n",
       "2                                                       NaN\n",
       "3                                                       NaN\n",
       "4                                                       NaN\n",
       "                                ...                        \n",
       "383580    Economic Policy & Debt: National accounts: US$...\n",
       "383581    Economic Policy & Debt: National accounts: Gro...\n",
       "383582                    Poverty: Multidimensional poverty\n",
       "383583                    Poverty: Multidimensional poverty\n",
       "383584                    Poverty: Multidimensional poverty\n",
       "Name: Topic, Length: 383585, dtype: object"
      ]
     },
     "execution_count": 40,
     "metadata": {},
     "output_type": "execute_result"
    }
   ],
   "source": [
    "merged = pd.merge(wdi_data, wdi_codebook, how='outer',\n",
    "                  left_on='Indicator Name', right_on='Indicator Name')\n",
    "merged['Topic']"
   ]
  },
  {
   "cell_type": "code",
   "execution_count": 48,
   "metadata": {},
   "outputs": [
    {
     "data": {
      "text/plain": [
       "{'Access to clean fuels and technologies for cooking (% of population)',\n",
       " 'Debt service (PPG and IMF only, % of exports of goods, services and primary income)',\n",
       " 'Households and NPISHs Final consumption expenditure (annual % growth)',\n",
       " 'Households and NPISHs Final consumption expenditure (constant LCU)',\n",
       " 'Households and NPISHs Final consumption expenditure (current LCU)',\n",
       " 'Households and NPISHs Final consumption expenditure (current US$)',\n",
       " 'Households and NPISHs Final consumption expenditure per capita (constant 2015 US$)',\n",
       " 'Households and NPISHs Final consumption expenditure per capita growth (annual %)',\n",
       " 'Multidimensional poverty headcount ratio, children (% of population ages 0-17)',\n",
       " 'Multidimensional poverty index, children (population ages 0-17) (scale 0-1)',\n",
       " 'Multidimensional poverty intensity (average share of deprivations experienced by the poor)',\n",
       " 'Portfolio investment, net (BoP, current US$)',\n",
       " 'Present value of external debt (% of exports of goods, services and primary income)'}"
      ]
     },
     "metadata": {},
     "output_type": "display_data"
    }
   ],
   "source": [
    "df1 = merged[merged['Topic'].isnull()]\n",
    "display(set(df1[\"Indicator Name\"]))"
   ]
  },
  {
   "cell_type": "code",
   "execution_count": null,
   "metadata": {},
   "outputs": [],
   "source": []
  },
  {
   "cell_type": "code",
   "execution_count": 28,
   "metadata": {},
   "outputs": [
    {
     "data": {
      "text/plain": [
       "4788      Education: Participation\n",
       "4789      Education: Participation\n",
       "4790      Education: Participation\n",
       "4791      Education: Participation\n",
       "4792      Education: Participation\n",
       "                    ...           \n",
       "362553           Education: Inputs\n",
       "362554           Education: Inputs\n",
       "362555           Education: Inputs\n",
       "362556           Education: Inputs\n",
       "362557           Education: Inputs\n",
       "Name: Topic, Length: 39102, dtype: object"
      ]
     },
     "execution_count": 28,
     "metadata": {},
     "output_type": "execute_result"
    }
   ],
   "source": [
    "education_df = merged[\n",
    "    ucation: Outcomes','Education: Participation'])]\n",
    "education_df[\"Topic\"]\n",
    "#merged.drop(df.columns.difference(education_fields), axis=1)"
   ]
  },
  {
   "cell_type": "code",
   "execution_count": null,
   "metadata": {},
   "outputs": [],
   "source": []
  }
 ],
 "metadata": {
  "kernelspec": {
   "display_name": "Python 3",
   "language": "python",
   "name": "python3"
  },
  "language_info": {
   "codemirror_mode": {
    "name": "ipython",
    "version": 3
   },
   "file_extension": ".py",
   "mimetype": "text/x-python",
   "name": "python",
   "nbconvert_exporter": "python",
   "pygments_lexer": "ipython3",
   "version": "3.7.6"
  }
 },
 "nbformat": 4,
 "nbformat_minor": 4
}
