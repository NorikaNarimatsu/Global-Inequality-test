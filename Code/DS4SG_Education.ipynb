{
 "cells": [
  {
   "cell_type": "code",
   "execution_count": 1,
   "metadata": {},
   "outputs": [],
   "source": [
    "import pandas as pd\n",
    "pd.set_option('max_rows', 10)\n",
    "import numpy as np\n",
    "from scipy import stats\n",
    "import matplotlib.pyplot as plt\n",
    "import statsmodels.api as statsmodels # useful stats package with regression functions\n",
    "import seaborn as sns #plotting package"
   ]
  },
  {
   "cell_type": "code",
   "execution_count": 2,
   "metadata": {},
   "outputs": [],
   "source": [
    "wdi_data = pd.read_csv(\"WDIData.csv\", delimiter=\",\")\n",
    "wdi_codebook = pd.read_csv(\"WDISeries.csv\", delimiter=\",\")"
   ]
  },
  {
   "cell_type": "code",
   "execution_count": 3,
   "metadata": {},
   "outputs": [
    {
     "data": {
      "text/plain": [
       "0         Environment: Energy production & use\n",
       "1         Environment: Energy production & use\n",
       "2         Environment: Energy production & use\n",
       "3         Environment: Energy production & use\n",
       "4         Environment: Energy production & use\n",
       "                          ...                 \n",
       "380109                    Health: Risk factors\n",
       "380110                    Health: Risk factors\n",
       "380111                    Health: Risk factors\n",
       "380112                    Health: Risk factors\n",
       "380113                    Health: Risk factors\n",
       "Name: Topic, Length: 380114, dtype: object"
      ]
     },
     "execution_count": 3,
     "metadata": {},
     "output_type": "execute_result"
    }
   ],
   "source": [
    "merged = pd.merge(wdi_data, wdi_codebook, how='inner',\n",
    "                  left_on='Indicator Name', right_on='Indicator Name')\n",
    "merged['Topic']"
   ]
  },
  {
   "cell_type": "code",
   "execution_count": 5,
   "metadata": {},
   "outputs": [],
   "source": [
    "#Checking which indicators don't have a defined Topic to see if it's okay to omit them for our study\n",
    "#df1 = merged[merged['Topic'].isnull()]\n",
    "#display(set(df1[\"Indicator Name\"]))"
   ]
  },
  {
   "cell_type": "code",
   "execution_count": 6,
   "metadata": {},
   "outputs": [
    {
     "name": "stdout",
     "output_type": "stream",
     "text": [
      "['Country Name', 'Country Code', 'Indicator Name', 'Indicator Code', '1960', '1961', '1962', '1963', '1964', '1965', '1966', '1967', '1968', '1969', '1970', '1971', '1972', '1973', '1974', '1975', '1976', '1977', '1978', '1979', '1980', '1981', '1982', '1983', '1984', '1985', '1986', '1987', '1988', '1989', '1990', '1991', '1992', '1993', '1994', '1995', '1996', '1997', '1998', '1999', '2000', '2001', '2002', '2003', '2004', '2005', '2006', '2007', '2008', '2009', '2010', '2011', '2012', '2013', '2014', '2015', '2016', '2017', '2018', '2019', '2020', '2021', 'Unnamed: 66', 'Series Code', 'Topic', 'Short definition', 'Long definition', 'Unit of measure', 'Periodicity', 'Base Period', 'Other notes', 'Aggregation method', 'Limitations and exceptions', 'Notes from original source', 'General comments', 'Source', 'Statistical concept and methodology', 'Development relevance', 'Related source links', 'Other web links', 'Related indicators', 'License Type', 'Unnamed: 20']\n"
     ]
    }
   ],
   "source": [
    "#showing all the available columns \n",
    "pd.set_option('max_columns', None)\n",
    "print(merged.columns.tolist())"
   ]
  },
  {
   "cell_type": "code",
   "execution_count": 36,
   "metadata": {},
   "outputs": [],
   "source": [
    "education_df = merged.loc[merged[\"Topic\"].isin(['Education: Outcomes','Education: Participation'])]"
   ]
  },
  {
   "cell_type": "code",
   "execution_count": 37,
   "metadata": {},
   "outputs": [
    {
     "name": "stdout",
     "output_type": "stream",
     "text": [
      "{'School enrollment, secondary, male (% gross)', 'School enrollment, tertiary (gross), gender parity index (GPI)', 'Literacy rate, youth total (% of people ages 15-24)', 'Educational attainment, at least completed upper secondary, population 25+, male (%) (cumulative)', 'Primary completion rate, total (% of relevant age group)', 'Educational attainment, at least completed short-cycle tertiary, population 25+, male (%) (cumulative)', \"Educational attainment, at least Master's or equivalent, population 25+, total (%) (cumulative)\", 'School enrollment, tertiary (% gross)', 'Educational attainment, at least completed lower secondary, population 25+, female (%) (cumulative)', 'School enrollment, primary, private (% of total primary)', 'Educational attainment, at least completed post-secondary, population 25+, male (%) (cumulative)', 'Lower secondary completion rate, male (% of relevant age group)', 'Primary completion rate, female (% of relevant age group)', 'School enrollment, preprimary, female (% gross)', 'Educational attainment, at least completed lower secondary, population 25+, male (%) (cumulative)', \"Educational attainment, at least Master's or equivalent, population 25+, male (%) (cumulative)\", 'School enrollment, secondary, private (% of total secondary)', 'Educational attainment, Doctoral or equivalent, population 25+, female (%) (cumulative)', 'Primary education, pupils', 'Secondary education, pupils', 'School enrollment, secondary (% net)', 'Literacy rate, youth male (% of males ages 15-24)', 'Literacy rate, adult total (% of people ages 15 and above)', 'School enrollment, secondary, female (% net)', 'Secondary education, general pupils', 'Children out of school, primary, female', 'Educational attainment, at least completed upper secondary, population 25+, female (%) (cumulative)', 'School enrollment, preprimary (% gross)', 'Adjusted net enrollment rate, primary (% of primary school age children)', 'School enrollment, primary (% net)', 'Secondary education, duration (years)', 'Educational attainment, at least completed short-cycle tertiary, population 25+, female (%) (cumulative)', 'Educational attainment, at least completed lower secondary, population 25+, total (%) (cumulative)', 'Primary completion rate, male (% of relevant age group)', 'School enrollment, primary and secondary (gross), gender parity index (GPI)', 'Secondary education, general pupils (% female)', \"Educational attainment, at least Bachelor's or equivalent, population 25+, male (%) (cumulative)\", 'Lower secondary completion rate, female (% of relevant age group)', 'Educational attainment, at least completed upper secondary, population 25+, total (%) (cumulative)', 'Compulsory education, duration (years)', 'Lower secondary completion rate, total (% of relevant age group)', 'Educational attainment, Doctoral or equivalent, population 25+, total (%) (cumulative)', 'School enrollment, primary, male (% net)', 'Children out of school, primary, male', 'Primary education, pupils (% female)', 'Educational attainment, at least completed primary, population 25+ years, female (%) (cumulative)', 'Educational attainment, at least completed primary, population 25+ years, male (%) (cumulative)', 'School enrollment, secondary (% gross)', 'Educational attainment, Doctoral or equivalent, population 25+, male (%) (cumulative)', 'Children out of school (% of primary school age)', 'School enrollment, tertiary, female (% gross)', 'Adolescents out of school (% of lower secondary school age)', 'Educational attainment, at least completed short-cycle tertiary, population 25+, total (%) (cumulative)', 'School enrollment, primary (% gross)', 'Educational attainment, at least completed post-secondary, population 25+, total (%) (cumulative)', 'Literacy rate, adult female (% of females ages 15 and above)', 'Educational attainment, at least completed primary, population 25+ years, total (%) (cumulative)', 'Literacy rate, youth female (% of females ages 15-24)', 'Children out of school, female (% of female primary school age)', 'School enrollment, secondary, female (% gross)', 'School enrollment, secondary (gross), gender parity index (GPI)', 'Adjusted net enrollment rate, primary, female (% of primary school age children)', 'Literacy rate, adult male (% of males ages 15 and above)', 'Adjusted net enrollment rate, primary, male (% of primary school age children)', 'School enrollment, primary, male (% gross)', 'Children out of school, primary', 'Secondary education, vocational pupils (% female)', \"Educational attainment, at least Bachelor's or equivalent, population 25+, total (%) (cumulative)\", 'Literacy rate, youth (ages 15-24), gender parity index (GPI)', 'Adolescents out of school, male (% of male lower secondary school age)', 'School enrollment, primary, female (% net)', 'School enrollment, primary, female (% gross)', 'Children out of school, male (% of male primary school age)', 'School enrollment, primary (gross), gender parity index (GPI)', 'Adolescents out of school, female (% of female lower secondary school age)', 'Secondary education, pupils (% female)', 'School enrollment, preprimary, male (% gross)', 'Secondary education, vocational pupils', 'School enrollment, tertiary, male (% gross)', 'Educational attainment, at least completed post-secondary, population 25+, female (%) (cumulative)', \"Educational attainment, at least Master's or equivalent, population 25+, female (%) (cumulative)\", \"Educational attainment, at least Bachelor's or equivalent, population 25+, female (%) (cumulative)\", 'Primary education, duration (years)', 'School enrollment, secondary, male (% net)'}\n"
     ]
    }
   ],
   "source": [
    "#checking out all of the indicators\n",
    "print(set(education_df[\"Indicator Name\"]))"
   ]
  },
  {
   "cell_type": "code",
   "execution_count": 39,
   "metadata": {},
   "outputs": [
    {
     "data": {
      "text/html": [
       "<div>\n",
       "<style scoped>\n",
       "    .dataframe tbody tr th:only-of-type {\n",
       "        vertical-align: middle;\n",
       "    }\n",
       "\n",
       "    .dataframe tbody tr th {\n",
       "        vertical-align: top;\n",
       "    }\n",
       "\n",
       "    .dataframe thead th {\n",
       "        text-align: right;\n",
       "    }\n",
       "</style>\n",
       "<table border=\"1\" class=\"dataframe\">\n",
       "  <thead>\n",
       "    <tr style=\"text-align: right;\">\n",
       "      <th></th>\n",
       "      <th>Country Name</th>\n",
       "      <th>Indicator Name</th>\n",
       "      <th>Country Code</th>\n",
       "      <th>Topic</th>\n",
       "      <th>Indicator Code</th>\n",
       "      <th>Date</th>\n",
       "      <th>value</th>\n",
       "    </tr>\n",
       "  </thead>\n",
       "  <tbody>\n",
       "    <tr>\n",
       "      <th>count</th>\n",
       "      <td>1832208</td>\n",
       "      <td>1832208</td>\n",
       "      <td>1832208</td>\n",
       "      <td>1832208</td>\n",
       "      <td>1832208</td>\n",
       "      <td>1832208</td>\n",
       "      <td>607883</td>\n",
       "    </tr>\n",
       "    <tr>\n",
       "      <th>unique</th>\n",
       "      <td>266</td>\n",
       "      <td>84</td>\n",
       "      <td>266</td>\n",
       "      <td>2</td>\n",
       "      <td>84</td>\n",
       "      <td>82</td>\n",
       "      <td>344405</td>\n",
       "    </tr>\n",
       "    <tr>\n",
       "      <th>top</th>\n",
       "      <td>Sint Maarten (Dutch part)</td>\n",
       "      <td>Secondary education, duration (years)</td>\n",
       "      <td>VEN</td>\n",
       "      <td>Education: Participation</td>\n",
       "      <td>SE.SEC.UNER.LO.MA.ZS</td>\n",
       "      <td>1985</td>\n",
       "      <td>Annual</td>\n",
       "    </tr>\n",
       "    <tr>\n",
       "      <th>freq</th>\n",
       "      <td>6888</td>\n",
       "      <td>21812</td>\n",
       "      <td>6888</td>\n",
       "      <td>959728</td>\n",
       "      <td>21812</td>\n",
       "      <td>22344</td>\n",
       "      <td>22344</td>\n",
       "    </tr>\n",
       "  </tbody>\n",
       "</table>\n",
       "</div>"
      ],
      "text/plain": [
       "                     Country Name                         Indicator Name  \\\n",
       "count                     1832208                                1832208   \n",
       "unique                        266                                     84   \n",
       "top     Sint Maarten (Dutch part)  Secondary education, duration (years)   \n",
       "freq                         6888                                  21812   \n",
       "\n",
       "       Country Code                     Topic        Indicator Code     Date  \\\n",
       "count       1832208                   1832208               1832208  1832208   \n",
       "unique          266                         2                    84       82   \n",
       "top             VEN  Education: Participation  SE.SEC.UNER.LO.MA.ZS     1985   \n",
       "freq           6888                    959728                 21812    22344   \n",
       "\n",
       "         value  \n",
       "count   607883  \n",
       "unique  344405  \n",
       "top     Annual  \n",
       "freq     22344  "
      ]
     },
     "execution_count": 39,
     "metadata": {},
     "output_type": "execute_result"
    }
   ],
   "source": [
    "long_df = education_df.melt(id_vars=[\"Country Name\", \"Indicator Name\",'Country Code', 'Topic', 'Indicator Code'], \n",
    "        var_name=\"Date\")\n",
    "long_df.describe()"
   ]
  },
  {
   "cell_type": "code",
   "execution_count": 33,
   "metadata": {},
   "outputs": [],
   "source": [
    "#checking to see if any of the rows have non-NA values\n",
    "#selected_rows = long_df[~long_df['value'].isnull()]\n",
    "#print(selected_rows)"
   ]
  },
  {
   "cell_type": "code",
   "execution_count": 40,
   "metadata": {},
   "outputs": [],
   "source": [
    "long_df.to_csv(r'C:\\Users\\marinaberdikhanova\\Desktop\\DS4SG-Global-Inequality\\Data\\Education.csv', index = False)"
   ]
  }
 ],
 "metadata": {
  "kernelspec": {
   "display_name": "Python 3",
   "language": "python",
   "name": "python3"
  },
  "language_info": {
   "codemirror_mode": {
    "name": "ipython",
    "version": 3
   },
   "file_extension": ".py",
   "mimetype": "text/x-python",
   "name": "python",
   "nbconvert_exporter": "python",
   "pygments_lexer": "ipython3",
   "version": "3.7.6"
  }
 },
 "nbformat": 4,
 "nbformat_minor": 4
}
